{
 "cells": [
  {
   "cell_type": "code",
   "execution_count": 1,
   "id": "3ef59641",
   "metadata": {},
   "outputs": [],
   "source": [
    "import pandas as pd\n",
    "import geopandas\n",
    "import fiona\n",
    "from matplotlib import pyplot as plt\n",
    "import seaborn as sn "
   ]
  },
  {
   "cell_type": "code",
   "execution_count": 2,
   "id": "e7f1a52f",
   "metadata": {},
   "outputs": [
    {
     "name": "stderr",
     "output_type": "stream",
     "text": [
      "C:\\Users\\chenl\\AppData\\Local\\Temp\\ipykernel_7760\\2365895264.py:2: DtypeWarning: Columns (13,17,19,20,21,26,29,41,43,45,47,49,51,53,55,57,59,61,63,65,67,69,71,73,75,77,79,81,83,85,87,89,91,93,95,97,99,101,103,105,107,109,111,113,115,117,119,120,123,125,127,128,129,131,132,133,134,135,136,137,141,142,143,144,145,146,147,150,151,152,153,154,155,157,158,159,160,162,163,164,165,166,167,168,169,170,171,172,173,174,177,179,180,181,182,183,184,185,186,188,189,190,191,192,204,205,208,209,210,211,212,213,214,215,216,219,220,222,230,232,240,242,250,257,258,259,260,261,262,263,264,265,266,269,270,272,273,274,275,276,277,278,279,280,281,282,283,284,285,286,287,288,289,290,291,292,294,295,296,297,298,299,300,301,302,303,304,305,306,307,308,309,310,311,312,313,314,315,316,317,318,319,320,321,322,323,324,325,326,327,328,329,330,331,332,333,334,335,336,337,338,339,340,341,342,343,344,345,346,347,348,349,350,351,352,353,354,355,356,357,358,359,360,361,362,363,364,365,366,367,368,369,370,371,372,373,374,375,376,377,378,379,380,381,382,383,384,385,386,387,388,389,390,391,392,393,394,395,396,397,398,399,400,401,402,403,404,405,406,407,408,409,410,411,412,413,414,415,416,417,418,419,420,421,422,423,424,425,426,427,428,429,430,431,432,433,434,435,436,437,438,439,440,441,445,446,447,448,449,450,451,452,453,454,455,457,459,461,462,473,478,487,492,493,494,495,496,506,508,509,512,531,534,539,540,541,542,543,553,555,556,559,578,581,586,587,588,589,590,600,602,603,625,626,627,628,630,633,634,635,636,637,644,649,650,672,673,674,675,677,680,681,683,684,691,696,697,719,720,721,724,730,731,738,743,744,767,768,771,777,778,785,790,791,814,815,818,824,825,832,837,838,864,866,878,881,882,889,916,922,923,930,936,956,959,964,965,972,976,1035,1036,1037,1049,1052,1053,1060,1083,1087,1091,1093,1094,1101,1107,1127,1130,1135,1136,1143,1146,1147,1149,1169,1183,1186,1187,1188,1189,1205,1206,1208,1220,1223,1224,1231,1235,1254,1255,1260,1262,1264,1297,1300,1305,1306,1313,1316,1317,1319,1339,1373,1374,1375,1376,1377,1378,1390,1393,1394,1424,1425,1430,1432,1466,1467,1470,1507,1543,1545,1547,1548,1557,1559,1590,1593,1630,1664,1665,1666,1667,1673,1674,1675,1676,1682,1683,1685) have mixed types. Specify dtype option on import or set low_memory=False.\n",
      "  processed_data=pd.read_csv(\"processed_data.csv\",encoding=\"latin_1\")\n"
     ]
    }
   ],
   "source": [
    "indicator_data=pd.read_csv(\"indicator_data.csv\",encoding=\"latin_1\")\n",
    "processed_data=pd.read_csv(\"processed_data.csv\",encoding=\"latin_1\")"
   ]
  },
  {
   "cell_type": "code",
   "execution_count": 3,
   "id": "545fe63c",
   "metadata": {},
   "outputs": [],
   "source": [
    "indicator_processed=pd.DataFrame(indicator_data,columns=[\"hfias_status\",\"hh_size_members\",\"land_cultivated_ha\"]) #this is the column that we are going to use\n",
    "processed__data=pd.DataFrame(processed_data,columns=[\"id_country\",\"country\",\"id_proj\"])\n",
    "#select the using data columns in processed_data"
   ]
  },
  {
   "cell_type": "code",
   "execution_count": 4,
   "id": "f832a1a8",
   "metadata": {},
   "outputs": [],
   "source": [
    "food_safety = pd.concat([processed__data,indicator_processed], axis=1)#combine these two data together"
   ]
  },
  {
   "cell_type": "code",
   "execution_count": 5,
   "id": "cea320b2",
   "metadata": {},
   "outputs": [],
   "source": [
    "food_safety_tz=food_safety.loc[food_safety['id_country'] == 'tz']#select the Tanzania from the data"
   ]
  },
  {
   "cell_type": "code",
   "execution_count": 6,
   "id": "9a8aeb9b",
   "metadata": {},
   "outputs": [
    {
     "data": {
      "text/plain": [
       "array(['cfm', 'cra', 'glv', 'srl'], dtype=object)"
      ]
     },
     "execution_count": 6,
     "metadata": {},
     "output_type": "execute_result"
    }
   ],
   "source": [
    "food_safety_tz[\"id_proj\"].unique() #see the projects' kinds "
   ]
  },
  {
   "cell_type": "code",
   "execution_count": 7,
   "id": "a1027021",
   "metadata": {},
   "outputs": [
    {
     "data": {
      "text/html": [
       "<div>\n",
       "<style scoped>\n",
       "    .dataframe tbody tr th:only-of-type {\n",
       "        vertical-align: middle;\n",
       "    }\n",
       "\n",
       "    .dataframe tbody tr th {\n",
       "        vertical-align: top;\n",
       "    }\n",
       "\n",
       "    .dataframe thead th {\n",
       "        text-align: right;\n",
       "    }\n",
       "</style>\n",
       "<table border=\"1\" class=\"dataframe\">\n",
       "  <thead>\n",
       "    <tr style=\"text-align: right;\">\n",
       "      <th></th>\n",
       "      <th>id_country</th>\n",
       "      <th>country</th>\n",
       "      <th>id_proj</th>\n",
       "      <th>hfias_status</th>\n",
       "      <th>hh_size_members</th>\n",
       "      <th>land_cultivated_ha</th>\n",
       "    </tr>\n",
       "  </thead>\n",
       "  <tbody>\n",
       "    <tr>\n",
       "      <th>28766</th>\n",
       "      <td>tz</td>\n",
       "      <td>tanzania</td>\n",
       "      <td>cfm</td>\n",
       "      <td>food_secure</td>\n",
       "      <td>4</td>\n",
       "      <td>0.8</td>\n",
       "    </tr>\n",
       "    <tr>\n",
       "      <th>28767</th>\n",
       "      <td>tz</td>\n",
       "      <td>tanzania</td>\n",
       "      <td>cfm</td>\n",
       "      <td>food_secure</td>\n",
       "      <td>10</td>\n",
       "      <td>0.8</td>\n",
       "    </tr>\n",
       "    <tr>\n",
       "      <th>28768</th>\n",
       "      <td>tz</td>\n",
       "      <td>tanzania</td>\n",
       "      <td>cfm</td>\n",
       "      <td>food_secure</td>\n",
       "      <td>5</td>\n",
       "      <td>0.8</td>\n",
       "    </tr>\n",
       "    <tr>\n",
       "      <th>28769</th>\n",
       "      <td>tz</td>\n",
       "      <td>tanzania</td>\n",
       "      <td>cfm</td>\n",
       "      <td>food_secure</td>\n",
       "      <td>11</td>\n",
       "      <td>1.2</td>\n",
       "    </tr>\n",
       "    <tr>\n",
       "      <th>28770</th>\n",
       "      <td>tz</td>\n",
       "      <td>tanzania</td>\n",
       "      <td>cfm</td>\n",
       "      <td>severely_fi</td>\n",
       "      <td>6</td>\n",
       "      <td>0.8</td>\n",
       "    </tr>\n",
       "    <tr>\n",
       "      <th>...</th>\n",
       "      <td>...</td>\n",
       "      <td>...</td>\n",
       "      <td>...</td>\n",
       "      <td>...</td>\n",
       "      <td>...</td>\n",
       "      <td>...</td>\n",
       "    </tr>\n",
       "    <tr>\n",
       "      <th>31641</th>\n",
       "      <td>tz</td>\n",
       "      <td>tanzania</td>\n",
       "      <td>srl</td>\n",
       "      <td>food_secure</td>\n",
       "      <td>3</td>\n",
       "      <td>2.8</td>\n",
       "    </tr>\n",
       "    <tr>\n",
       "      <th>31642</th>\n",
       "      <td>tz</td>\n",
       "      <td>tanzania</td>\n",
       "      <td>srl</td>\n",
       "      <td>severely_fi</td>\n",
       "      <td>1</td>\n",
       "      <td>3.6</td>\n",
       "    </tr>\n",
       "    <tr>\n",
       "      <th>31643</th>\n",
       "      <td>tz</td>\n",
       "      <td>tanzania</td>\n",
       "      <td>srl</td>\n",
       "      <td>severely_fi</td>\n",
       "      <td>4</td>\n",
       "      <td>4.0</td>\n",
       "    </tr>\n",
       "    <tr>\n",
       "      <th>31644</th>\n",
       "      <td>tz</td>\n",
       "      <td>tanzania</td>\n",
       "      <td>srl</td>\n",
       "      <td>severely_fi</td>\n",
       "      <td>2</td>\n",
       "      <td>2.8</td>\n",
       "    </tr>\n",
       "    <tr>\n",
       "      <th>31645</th>\n",
       "      <td>tz</td>\n",
       "      <td>tanzania</td>\n",
       "      <td>srl</td>\n",
       "      <td>severely_fi</td>\n",
       "      <td>1</td>\n",
       "      <td>2.4</td>\n",
       "    </tr>\n",
       "  </tbody>\n",
       "</table>\n",
       "<p>2880 rows × 6 columns</p>\n",
       "</div>"
      ],
      "text/plain": [
       "      id_country   country id_proj hfias_status  hh_size_members  \\\n",
       "28766         tz  tanzania     cfm  food_secure                4   \n",
       "28767         tz  tanzania     cfm  food_secure               10   \n",
       "28768         tz  tanzania     cfm  food_secure                5   \n",
       "28769         tz  tanzania     cfm  food_secure               11   \n",
       "28770         tz  tanzania     cfm  severely_fi                6   \n",
       "...          ...       ...     ...          ...              ...   \n",
       "31641         tz  tanzania     srl  food_secure                3   \n",
       "31642         tz  tanzania     srl  severely_fi                1   \n",
       "31643         tz  tanzania     srl  severely_fi                4   \n",
       "31644         tz  tanzania     srl  severely_fi                2   \n",
       "31645         tz  tanzania     srl  severely_fi                1   \n",
       "\n",
       "       land_cultivated_ha  \n",
       "28766                 0.8  \n",
       "28767                 0.8  \n",
       "28768                 0.8  \n",
       "28769                 1.2  \n",
       "28770                 0.8  \n",
       "...                   ...  \n",
       "31641                 2.8  \n",
       "31642                 3.6  \n",
       "31643                 4.0  \n",
       "31644                 2.8  \n",
       "31645                 2.4  \n",
       "\n",
       "[2880 rows x 6 columns]"
      ]
     },
     "execution_count": 7,
     "metadata": {},
     "output_type": "execute_result"
    }
   ],
   "source": [
    "food_safety_tz"
   ]
  },
  {
   "cell_type": "code",
   "execution_count": 8,
   "id": "88f6793d",
   "metadata": {},
   "outputs": [],
   "source": [
    "class_mapping = {'food_secure':1, 'mildly_fi':2,'moderately_fi':3,'severely_fi':4} #convert string to number"
   ]
  },
  {
   "cell_type": "code",
   "execution_count": 9,
   "id": "6d6783d4",
   "metadata": {},
   "outputs": [
    {
     "name": "stderr",
     "output_type": "stream",
     "text": [
      "C:\\Users\\chenl\\AppData\\Local\\Temp\\ipykernel_7760\\3958681546.py:1: SettingWithCopyWarning: \n",
      "A value is trying to be set on a copy of a slice from a DataFrame.\n",
      "Try using .loc[row_indexer,col_indexer] = value instead\n",
      "\n",
      "See the caveats in the documentation: https://pandas.pydata.org/pandas-docs/stable/user_guide/indexing.html#returning-a-view-versus-a-copy\n",
      "  food_safety_tz['hfias_status'] = food_safety_tz['hfias_status'].map(class_mapping)\n"
     ]
    }
   ],
   "source": [
    "food_safety_tz['hfias_status'] = food_safety_tz['hfias_status'].map(class_mapping)"
   ]
  },
  {
   "cell_type": "code",
   "execution_count": 10,
   "id": "1ae12a02",
   "metadata": {},
   "outputs": [],
   "source": [
    "food_safety_tz=food_safety_tz.dropna(subset=['land_cultivated_ha'])#drop the nan value in the land_cultivated_ha column"
   ]
  },
  {
   "cell_type": "code",
   "execution_count": 11,
   "id": "fedf56c1",
   "metadata": {},
   "outputs": [],
   "source": [
    "food_safety_tz=food_safety_tz.loc[food_safety_tz['land_cultivated_ha'] >0] #select the value >0"
   ]
  },
  {
   "cell_type": "code",
   "execution_count": 12,
   "id": "e5abdecc",
   "metadata": {},
   "outputs": [],
   "source": [
    "food_safety_tz=food_safety_tz.dropna(subset=['hh_size_members'])#drop the nan value in the hh_size_number column"
   ]
  },
  {
   "cell_type": "code",
   "execution_count": 13,
   "id": "376f985b",
   "metadata": {},
   "outputs": [],
   "source": [
    "food_safety_tz=food_safety_tz.loc[food_safety_tz['hh_size_members'] >0] #select the value >0"
   ]
  },
  {
   "cell_type": "code",
   "execution_count": 14,
   "id": "7bd2ec39",
   "metadata": {},
   "outputs": [],
   "source": [
    "land_cultivated_data=food_safety_tz['land_cultivated_ha'] #select column land_cultivated_ha from dataset\n",
    "hfias = food_safety_tz['hfias_status']"
   ]
  },
  {
   "cell_type": "code",
   "execution_count": 15,
   "id": "4385aa32",
   "metadata": {},
   "outputs": [
    {
     "data": {
      "text/plain": [
       "<matplotlib.collections.PathCollection at 0x23e5df4a8c0>"
      ]
     },
     "execution_count": 15,
     "metadata": {},
     "output_type": "execute_result"
    },
    {
     "data": {
      "image/png": "[encoded data removed]",
      "text/plain": [
       "<Figure size 432x288 with 1 Axes>"
      ]
     },
     "metadata": {
      "needs_background": "light"
     },
     "output_type": "display_data"
    }
   ],
   "source": [
    "plt.scatter(land_cultivated_data,hfias) # the relationship before cleaning the data"
   ]
  },
  {
   "cell_type": "markdown",
   "id": "872c8ddb",
   "metadata": {},
   "source": [
    "### As we can see the data points of 400 and 800 is far beyond the graph, which are outliers that need to be deleted."
   ]
  },
  {
   "cell_type": "code",
   "execution_count": 16,
   "id": "deb0ace2",
   "metadata": {},
   "outputs": [],
   "source": [
    "food_safety_tz=food_safety_tz.loc[food_safety_tz['land_cultivated_ha'] <200] #select the value <200"
   ]
  },
  {
   "cell_type": "code",
   "execution_count": 17,
   "id": "eafc1624",
   "metadata": {},
   "outputs": [],
   "source": [
    "land_cultivated_data_processed_1=food_safety_tz['land_cultivated_ha'] #select column land_cultivated_ha from dataset\n",
    "hfias_processed_1 = food_safety_tz['hfias_status']"
   ]
  },
  {
   "cell_type": "code",
   "execution_count": 18,
   "id": "883679f9",
   "metadata": {},
   "outputs": [
    {
     "data": {
      "text/plain": [
       "<matplotlib.collections.PathCollection at 0x23e5e008df0>"
      ]
     },
     "execution_count": 18,
     "metadata": {},
     "output_type": "execute_result"
    },
    {
     "data": {
      "image/png": "[encoded data removed]",
      "text/plain": [
       "<Figure size 432x288 with 1 Axes>"
      ]
     },
     "metadata": {
      "needs_background": "light"
     },
     "output_type": "display_data"
    }
   ],
   "source": [
    "plt.scatter(land_cultivated_data_processed_1,hfias_processed_1) # the relationship after cleaning the data"
   ]
  },
  {
   "cell_type": "markdown",
   "id": "895c6eca",
   "metadata": {},
   "source": [
    "### According to the mean function, the mean is nearly 5, and the data is meanly less than 40."
   ]
  },
  {
   "cell_type": "code",
   "execution_count": 19,
   "id": "e0c1e72b",
   "metadata": {},
   "outputs": [
    {
     "data": {
      "text/plain": [
       "4.907408118081181"
      ]
     },
     "execution_count": 19,
     "metadata": {},
     "output_type": "execute_result"
    }
   ],
   "source": [
    "land_cultivated_data.mean()#the mean of land_cultivated data, we can see that there are lots of data far greater than 4.9"
   ]
  },
  {
   "cell_type": "code",
   "execution_count": 20,
   "id": "84e815fe",
   "metadata": {},
   "outputs": [],
   "source": [
    "food_safety_tz=food_safety_tz.loc[food_safety_tz['land_cultivated_ha'] <40] #select the value <40, according to the graph"
   ]
  },
  {
   "cell_type": "code",
   "execution_count": 21,
   "id": "ed72a025",
   "metadata": {},
   "outputs": [],
   "source": [
    "land_cultivated_data_processed=food_safety_tz['land_cultivated_ha'] #select column land_cultivated_ha from dataset\n",
    "hfias_processed = food_safety_tz['hfias_status']"
   ]
  },
  {
   "cell_type": "code",
   "execution_count": 22,
   "id": "baa31b8e",
   "metadata": {},
   "outputs": [
    {
     "data": {
      "text/plain": [
       "<matplotlib.collections.PathCollection at 0x23e5e046260>"
      ]
     },
     "execution_count": 22,
     "metadata": {},
     "output_type": "execute_result"
    },
    {
     "data": {
      "image/png": "[encoded data removed]",
      "text/plain": [
       "<Figure size 432x288 with 1 Axes>"
      ]
     },
     "metadata": {
      "needs_background": "light"
     },
     "output_type": "display_data"
    }
   ],
   "source": [
    "plt.scatter(land_cultivated_data_processed,hfias_processed) # the relationship after cleaning the data"
   ]
  },
  {
   "cell_type": "markdown",
   "id": "5a22978a",
   "metadata": {},
   "source": [
    "### Then we use different bins to show the data"
   ]
  },
  {
   "cell_type": "code",
   "execution_count": 23,
   "id": "8abad591",
   "metadata": {},
   "outputs": [],
   "source": [
    "land_cultivated_data=food_safety_tz['land_cultivated_ha'] #select column land_cultivated_ha from dataset\n",
    "hfias = food_safety_tz['hfias_status']\n",
    "food_safety_tz_2=food_safety_tz.loc[food_safety_tz['land_cultivated_ha']<=2] # data preprocessing\n",
    "land_cultivated_data_2=food_safety_tz_2['land_cultivated_ha'] #select column land_cultivated_ha from dataset\n",
    "hfias_2 = food_safety_tz_2['hfias_status']\n",
    "food_safety_tz_4=food_safety_tz.loc[(food_safety_tz['land_cultivated_ha']<=4)&(food_safety_tz['land_cultivated_ha']>2)]# data preprocessing\n",
    "land_cultivated_data_4=food_safety_tz_4['land_cultivated_ha'] #select column land_cultivated_ha from dataset\n",
    "hfias_4 = food_safety_tz_4['hfias_status']\n",
    "food_safety_tz_6=food_safety_tz.loc[(food_safety_tz['land_cultivated_ha']<=6)&(food_safety_tz['land_cultivated_ha']>4)]# data preprocessing\n",
    "land_cultivated_data_6=food_safety_tz_6['land_cultivated_ha'] #select column land_cultivated_ha from dataset\n",
    "hfias_6 = food_safety_tz_6['hfias_status']\n",
    "food_safety_tz_8=food_safety_tz.loc[(food_safety_tz['land_cultivated_ha']<=8)&(food_safety_tz['land_cultivated_ha']>6)]# data preprocessing\n",
    "land_cultivated_data_8=food_safety_tz_8['land_cultivated_ha'] #select column land_cultivated_ha from dataset\n",
    "hfias_8 = food_safety_tz_8['hfias_status']\n",
    "food_safety_tz_10=food_safety_tz.loc[(food_safety_tz['land_cultivated_ha']<=10)&(food_safety_tz['land_cultivated_ha']>8)]# data preprocessing\n",
    "land_cultivated_data_10=food_safety_tz_10['land_cultivated_ha'] #select column land_cultivated_ha from dataset\n",
    "hfias_10 = food_safety_tz_10['hfias_status']\n",
    "food_safety_tz_20=food_safety_tz.loc[(food_safety_tz['land_cultivated_ha']>10)&(food_safety_tz['land_cultivated_ha']<=20)]\n",
    "land_cultivated_data_20=food_safety_tz_20['land_cultivated_ha'] #select column land_cultivated_ha from dataset\n",
    "hfias_20 = food_safety_tz_20['hfias_status']\n",
    "food_safety_tz_40=food_safety_tz.loc[(food_safety_tz['land_cultivated_ha']>20)&(food_safety_tz['land_cultivated_ha']<=40)]\n",
    "land_cultivated_data_40=food_safety_tz_40['land_cultivated_ha'] #select column land_cultivated_ha from dataset\n",
    "hfias_40 = food_safety_tz_40['hfias_status']"
   ]
  },
  {
   "cell_type": "code",
   "execution_count": null,
   "id": "3f5a36b9",
   "metadata": {},
   "outputs": [],
   "source": []
  },
  {
   "cell_type": "code",
   "execution_count": 24,
   "id": "50148a23",
   "metadata": {},
   "outputs": [
    {
     "data": {
      "text/plain": [
       "<matplotlib.collections.PathCollection at 0x23e5e07b910>"
      ]
     },
     "execution_count": 24,
     "metadata": {},
     "output_type": "execute_result"
    },
    {
     "data": {
      "image/png": "[encoded data removed]",
      "text/plain": [
       "<Figure size 432x288 with 1 Axes>"
      ]
     },
     "metadata": {
      "needs_background": "light"
     },
     "output_type": "display_data"
    }
   ],
   "source": [
    "plt.scatter(land_cultivated_data_2,hfias_2)#land_cultivated_ha']<=2"
   ]
  },
  {
   "cell_type": "code",
   "execution_count": 25,
   "id": "28b5dfbd",
   "metadata": {},
   "outputs": [
    {
     "name": "stdout",
     "output_type": "stream",
     "text": [
      "[[1.         0.09227871]\n",
      " [0.09227871 1.        ]]\n"
     ]
    }
   ],
   "source": [
    "import numpy as np\n",
    "corrcoef_land_cultivated_ha_2=np.corrcoef(land_cultivated_data_2, hfias_2)#land_cultivated_ha\n",
    "print(corrcoef_land_cultivated_ha_2) #the relationship between land cultivated and hfias, with the growing of land cultivated, the food security bocomes worse."
   ]
  },
  {
   "cell_type": "code",
   "execution_count": 26,
   "id": "1088f9eb",
   "metadata": {},
   "outputs": [
    {
     "name": "stdout",
     "output_type": "stream",
     "text": [
      "[[14.07145957 -0.65856864]\n",
      " [-0.65856864  1.75796525]]\n",
      "[[ 1.         -0.13241169]\n",
      " [-0.13241169  1.        ]]\n"
     ]
    }
   ],
   "source": [
    "hh_size_members_2=food_safety_tz_2['hh_size_members']\n",
    "cov_hh_size_members_2 = np.cov(hh_size_members_2, hfias_2)\n",
    "corrcoef_hh_size_members_2=np.corrcoef(hh_size_members_2, hfias_2)#land_cultivated_ha\n",
    "print(cov_hh_size_members_2)\n",
    "print(corrcoef_hh_size_members_2)#the relationship between household and hfias, with the growing of household, the food security bocomes better."
   ]
  },
  {
   "cell_type": "code",
   "execution_count": 27,
   "id": "2b6aa7a8",
   "metadata": {},
   "outputs": [
    {
     "name": "stdout",
     "output_type": "stream",
     "text": [
      "                    hfias_status  hh_size_members  land_cultivated_ha\n",
      "hfias_status            1.000000        -0.132412            0.092279\n",
      "hh_size_members        -0.132412         1.000000            0.087014\n",
      "land_cultivated_ha      0.092279         0.087014            1.000000\n"
     ]
    }
   ],
   "source": [
    "df_food_2 = pd.DataFrame(food_safety_tz_2,columns=['hfias_status','hh_size_members','land_cultivated_ha'])\n",
    "corrMatrix_2 = df_food_2.corr()\n",
    "print (corrMatrix_2) "
   ]
  },
  {
   "cell_type": "code",
   "execution_count": 28,
   "id": "b3fd6df0",
   "metadata": {},
   "outputs": [
    {
     "data": {
      "text/plain": [
       "<matplotlib.collections.PathCollection at 0x23e5e0d9840>"
      ]
     },
     "execution_count": 28,
     "metadata": {},
     "output_type": "execute_result"
    },
    {
     "data": {
      "image/png": "[encoded data removed]",
      "text/plain": [
       "<Figure size 432x288 with 1 Axes>"
      ]
     },
     "metadata": {
      "needs_background": "light"
     },
     "output_type": "display_data"
    }
   ],
   "source": [
    "plt.scatter(land_cultivated_data_4,hfias_4)#2<land_cultivated_ha<=4"
   ]
  },
  {
   "cell_type": "code",
   "execution_count": 29,
   "id": "63743bd0",
   "metadata": {},
   "outputs": [
    {
     "name": "stdout",
     "output_type": "stream",
     "text": [
      "[[ 0.39157308 -0.00887821]\n",
      " [-0.00887821  1.88141026]]\n",
      "[[ 1.         -0.01034373]\n",
      " [-0.01034373  1.        ]]\n"
     ]
    }
   ],
   "source": [
    "import numpy as np\n",
    "cov_land_cultivated_ha_4 = np.cov(land_cultivated_data_4, hfias_4)\n",
    "corrcoef_land_cultivated_ha_4=np.corrcoef(land_cultivated_data_4, hfias_4)#land_cultivated_ha\n",
    "print(cov_land_cultivated_ha_4)\n",
    "print(corrcoef_land_cultivated_ha_4) #the relationship "
   ]
  },
  {
   "cell_type": "code",
   "execution_count": 30,
   "id": "fe66ca5b",
   "metadata": {},
   "outputs": [
    {
     "name": "stdout",
     "output_type": "stream",
     "text": [
      "[[25.55421538 -1.31429487]\n",
      " [-1.31429487  1.88141026]]\n",
      "[[ 1.         -0.18954825]\n",
      " [-0.18954825  1.        ]]\n"
     ]
    }
   ],
   "source": [
    "hh_size_members_4=food_safety_tz_4['hh_size_members']\n",
    "cov_hh_size_members_4 = np.cov(hh_size_members_4, hfias_4)\n",
    "corrcoef_hh_size_members_4=np.corrcoef(hh_size_members_4, hfias_4)#land_cultivated_ha\n",
    "print(cov_hh_size_members_4)\n",
    "print(corrcoef_hh_size_members_4)"
   ]
  },
  {
   "cell_type": "code",
   "execution_count": 31,
   "id": "e5d96f76",
   "metadata": {},
   "outputs": [
    {
     "name": "stdout",
     "output_type": "stream",
     "text": [
      "                    hfias_status  hh_size_members  land_cultivated_ha\n",
      "hfias_status            1.000000        -0.189548           -0.010344\n",
      "hh_size_members        -0.189548         1.000000            0.117961\n",
      "land_cultivated_ha     -0.010344         0.117961            1.000000\n"
     ]
    }
   ],
   "source": [
    "df_food_4 = pd.DataFrame(food_safety_tz_4,columns=['hfias_status','hh_size_members','land_cultivated_ha'])\n",
    "corrMatrix_4 = df_food_4.corr()\n",
    "print (corrMatrix_4) "
   ]
  },
  {
   "cell_type": "code",
   "execution_count": 32,
   "id": "909254f6",
   "metadata": {
    "scrolled": true
   },
   "outputs": [
    {
     "data": {
      "text/plain": [
       "<matplotlib.collections.PathCollection at 0x23e5e112710>"
      ]
     },
     "execution_count": 32,
     "metadata": {},
     "output_type": "execute_result"
    },
    {
     "data": {
      "image/png": "[encoded data removed]",
      "text/plain": [
       "<Figure size 432x288 with 1 Axes>"
      ]
     },
     "metadata": {
      "needs_background": "light"
     },
     "output_type": "display_data"
    }
   ],
   "source": [
    "plt.scatter(land_cultivated_data_6,hfias_6)#4<land_cultivated_ha<=6"
   ]
  },
  {
   "cell_type": "code",
   "execution_count": 33,
   "id": "59253e13",
   "metadata": {},
   "outputs": [
    {
     "name": "stdout",
     "output_type": "stream",
     "text": [
      "[[ 0.36246231 -0.0483505 ]\n",
      " [-0.0483505   1.93222869]]\n",
      "[[ 1.         -0.05777504]\n",
      " [-0.05777504  1.        ]]\n"
     ]
    }
   ],
   "source": [
    "import numpy as np\n",
    "cov_land_cultivated_ha_6 = np.cov(land_cultivated_data_6, hfias_6)\n",
    "corrcoef_land_cultivated_ha_6=np.corrcoef(land_cultivated_data_6, hfias_6)#land_cultivated_ha\n",
    "print(cov_land_cultivated_ha_6)\n",
    "print(corrcoef_land_cultivated_ha_6) #the relationship "
   ]
  },
  {
   "cell_type": "code",
   "execution_count": 34,
   "id": "4066663f",
   "metadata": {},
   "outputs": [
    {
     "name": "stdout",
     "output_type": "stream",
     "text": [
      "[[42.02560084 -2.35900881]\n",
      " [-2.35900881  1.93222869]]\n",
      "[[ 1.         -0.26178414]\n",
      " [-0.26178414  1.        ]]\n"
     ]
    }
   ],
   "source": [
    "hh_size_members_6=food_safety_tz_6['hh_size_members']\n",
    "cov_hh_size_members_6 = np.cov(hh_size_members_6, hfias_6)\n",
    "corrcoef_hh_size_members_6=np.corrcoef(hh_size_members_6, hfias_6)#land_cultivated_ha\n",
    "print(cov_hh_size_members_6)\n",
    "print(corrcoef_hh_size_members_6)"
   ]
  },
  {
   "cell_type": "code",
   "execution_count": 35,
   "id": "06dc0f7e",
   "metadata": {},
   "outputs": [
    {
     "name": "stdout",
     "output_type": "stream",
     "text": [
      "                    hfias_status  hh_size_members  land_cultivated_ha\n",
      "hfias_status            1.000000        -0.261784           -0.057775\n",
      "hh_size_members        -0.261784         1.000000            0.082230\n",
      "land_cultivated_ha     -0.057775         0.082230            1.000000\n"
     ]
    }
   ],
   "source": [
    "df_food_6 = pd.DataFrame(food_safety_tz_6,columns=['hfias_status','hh_size_members','land_cultivated_ha'])\n",
    "corrMatrix_6 = df_food_6.corr()\n",
    "print (corrMatrix_6) "
   ]
  },
  {
   "cell_type": "code",
   "execution_count": 36,
   "id": "7d863591",
   "metadata": {},
   "outputs": [
    {
     "data": {
      "text/plain": [
       "<matplotlib.collections.PathCollection at 0x23e5f603760>"
      ]
     },
     "execution_count": 36,
     "metadata": {},
     "output_type": "execute_result"
    },
    {
     "data": {
      "image/png": "[encoded data removed]",
      "text/plain": [
       "<Figure size 432x288 with 1 Axes>"
      ]
     },
     "metadata": {
      "needs_background": "light"
     },
     "output_type": "display_data"
    }
   ],
   "source": [
    "plt.scatter(land_cultivated_data_8,hfias_8)#6<land_cultivated_ha<=8"
   ]
  },
  {
   "cell_type": "code",
   "execution_count": 37,
   "id": "3e5bebce",
   "metadata": {},
   "outputs": [
    {
     "name": "stdout",
     "output_type": "stream",
     "text": [
      "[[ 0.38644922 -0.03712801]\n",
      " [-0.03712801  1.66877657]]\n",
      "[[ 1.         -0.04623346]\n",
      " [-0.04623346  1.        ]]\n"
     ]
    }
   ],
   "source": [
    "import numpy as np\n",
    "cov_land_cultivated_ha_8 = np.cov(land_cultivated_data_8, hfias_8)\n",
    "corrcoef_land_cultivated_ha_8=np.corrcoef(land_cultivated_data_8, hfias_8)#land_cultivated_ha\n",
    "print(cov_land_cultivated_ha_8)\n",
    "print(corrcoef_land_cultivated_ha_8) #the relationship "
   ]
  },
  {
   "cell_type": "code",
   "execution_count": 38,
   "id": "323b9385",
   "metadata": {},
   "outputs": [
    {
     "name": "stdout",
     "output_type": "stream",
     "text": [
      "[[55.33835616 -1.92338214]\n",
      " [-1.92338214  1.66877657]]\n",
      "[[ 1.         -0.20014897]\n",
      " [-0.20014897  1.        ]]\n"
     ]
    }
   ],
   "source": [
    "hh_size_members_8=food_safety_tz_8['hh_size_members']\n",
    "cov_hh_size_members_8 = np.cov(hh_size_members_8, hfias_8)\n",
    "corrcoef_hh_size_members_8=np.corrcoef(hh_size_members_8, hfias_8)#land_cultivated_ha\n",
    "print(cov_hh_size_members_8)\n",
    "print(corrcoef_hh_size_members_8)"
   ]
  },
  {
   "cell_type": "code",
   "execution_count": 39,
   "id": "d17c6075",
   "metadata": {},
   "outputs": [
    {
     "name": "stdout",
     "output_type": "stream",
     "text": [
      "                    hfias_status  hh_size_members  land_cultivated_ha\n",
      "hfias_status            1.000000        -0.200149           -0.046233\n",
      "hh_size_members        -0.200149         1.000000            0.047997\n",
      "land_cultivated_ha     -0.046233         0.047997            1.000000\n"
     ]
    }
   ],
   "source": [
    "df_food_8 = pd.DataFrame(food_safety_tz_8,columns=['hfias_status','hh_size_members','land_cultivated_ha'])\n",
    "corrMatrix_8 = df_food_8.corr()\n",
    "print (corrMatrix_8) "
   ]
  },
  {
   "cell_type": "code",
   "execution_count": 40,
   "id": "3a5f0c3c",
   "metadata": {},
   "outputs": [
    {
     "data": {
      "text/plain": [
       "<matplotlib.collections.PathCollection at 0x23e5f654880>"
      ]
     },
     "execution_count": 40,
     "metadata": {},
     "output_type": "execute_result"
    },
    {
     "data": {
      "image/png": "[encoded data removed]",
      "text/plain": [
       "<Figure size 432x288 with 1 Axes>"
      ]
     },
     "metadata": {
      "needs_background": "light"
     },
     "output_type": "display_data"
    }
   ],
   "source": [
    "plt.scatter(land_cultivated_data_10,hfias_10)#8<land_cultivated_ha<=10"
   ]
  },
  {
   "cell_type": "code",
   "execution_count": 41,
   "id": "e655a494",
   "metadata": {},
   "outputs": [
    {
     "name": "stdout",
     "output_type": "stream",
     "text": [
      "[[ 0.33006494 -0.17681818]\n",
      " [-0.17681818  1.875     ]]\n",
      "[[ 1.         -0.22476392]\n",
      " [-0.22476392  1.        ]]\n"
     ]
    }
   ],
   "source": [
    "import numpy as np\n",
    "cov_land_cultivated_ha_10 = np.cov(land_cultivated_data_10, hfias_10)\n",
    "corrcoef_land_cultivated_ha_10=np.corrcoef(land_cultivated_data_10, hfias_10)#land_cultivated_ha\n",
    "print(cov_land_cultivated_ha_10)\n",
    "print(corrcoef_land_cultivated_ha_10) #the relationship "
   ]
  },
  {
   "cell_type": "code",
   "execution_count": 42,
   "id": "ad3a0ff1",
   "metadata": {},
   "outputs": [
    {
     "name": "stdout",
     "output_type": "stream",
     "text": [
      "[[76.04545455 -3.29545455]\n",
      " [-3.29545455  1.875     ]]\n",
      "[[ 1.         -0.27598029]\n",
      " [-0.27598029  1.        ]]\n"
     ]
    }
   ],
   "source": [
    "hh_size_members_10=food_safety_tz_10['hh_size_members']\n",
    "cov_hh_size_members_10 = np.cov(hh_size_members_10, hfias_10)\n",
    "corrcoef_hh_size_members_10=np.corrcoef(hh_size_members_10, hfias_10)#land_cultivated_ha\n",
    "print(cov_hh_size_members_10)\n",
    "print(corrcoef_hh_size_members_10)"
   ]
  },
  {
   "cell_type": "code",
   "execution_count": 43,
   "id": "aaa5d66d",
   "metadata": {},
   "outputs": [
    {
     "name": "stdout",
     "output_type": "stream",
     "text": [
      "                    hfias_status  hh_size_members  land_cultivated_ha\n",
      "hfias_status            1.000000        -0.275980           -0.224764\n",
      "hh_size_members        -0.275980         1.000000            0.117039\n",
      "land_cultivated_ha     -0.224764         0.117039            1.000000\n"
     ]
    }
   ],
   "source": [
    "df_food_10 = pd.DataFrame(food_safety_tz_10,columns=['hfias_status','hh_size_members','land_cultivated_ha'])\n",
    "corrMatrix_10 = df_food_10.corr()\n",
    "print (corrMatrix_10) "
   ]
  },
  {
   "cell_type": "code",
   "execution_count": 44,
   "id": "7e633d5e",
   "metadata": {},
   "outputs": [
    {
     "data": {
      "text/plain": [
       "<matplotlib.collections.PathCollection at 0x23e5f68d960>"
      ]
     },
     "execution_count": 44,
     "metadata": {},
     "output_type": "execute_result"
    },
    {
     "data": {
      "image/png": "[encoded data removed]",
      "text/plain": [
       "<Figure size 432x288 with 1 Axes>"
      ]
     },
     "metadata": {
      "needs_background": "light"
     },
     "output_type": "display_data"
    }
   ],
   "source": [
    "plt.scatter(land_cultivated_data_20,hfias_20)#10<land_cultivated_ha<=20"
   ]
  },
  {
   "cell_type": "code",
   "execution_count": 45,
   "id": "4b8a2feb",
   "metadata": {},
   "outputs": [
    {
     "name": "stdout",
     "output_type": "stream",
     "text": [
      "[[10.91340601 -0.29395591]\n",
      " [-0.29395591  1.90310078]]\n",
      "[[ 1.        -0.0645017]\n",
      " [-0.0645017  1.       ]]\n"
     ]
    }
   ],
   "source": [
    "import numpy as np\n",
    "cov_land_cultivated_ha_20 = np.cov(land_cultivated_data_20, hfias_20)\n",
    "corrcoef_land_cultivated_ha_20=np.corrcoef(land_cultivated_data_20, hfias_20)#land_cultivated_ha\n",
    "print(cov_land_cultivated_ha_20)\n",
    "print(corrcoef_land_cultivated_ha_20) #the relationship "
   ]
  },
  {
   "cell_type": "code",
   "execution_count": 46,
   "id": "06fa0780",
   "metadata": {},
   "outputs": [
    {
     "name": "stdout",
     "output_type": "stream",
     "text": [
      "[[110.33829942  -3.61755087]\n",
      " [ -3.61755087   1.90310078]]\n",
      "[[ 1.        -0.2496437]\n",
      " [-0.2496437  1.       ]]\n"
     ]
    }
   ],
   "source": [
    "hh_size_members_20=food_safety_tz_20['hh_size_members']\n",
    "cov_hh_size_members_20 = np.cov(hh_size_members_20, hfias_20)\n",
    "corrcoef_hh_size_members_20=np.corrcoef(hh_size_members_20, hfias_20)#land_cultivated_ha\n",
    "print(cov_hh_size_members_20)\n",
    "print(corrcoef_hh_size_members_20)"
   ]
  },
  {
   "cell_type": "code",
   "execution_count": 47,
   "id": "7b4ea5e5",
   "metadata": {},
   "outputs": [
    {
     "name": "stdout",
     "output_type": "stream",
     "text": [
      "                    hfias_status  hh_size_members  land_cultivated_ha\n",
      "hfias_status            1.000000        -0.249644           -0.064502\n",
      "hh_size_members        -0.249644         1.000000            0.234279\n",
      "land_cultivated_ha     -0.064502         0.234279            1.000000\n"
     ]
    }
   ],
   "source": [
    "df_food_20 = pd.DataFrame(food_safety_tz_20,columns=['hfias_status','hh_size_members','land_cultivated_ha'])\n",
    "corrMatrix_20 = df_food_20.corr()\n",
    "print (corrMatrix_20) "
   ]
  },
  {
   "cell_type": "code",
   "execution_count": 48,
   "id": "ed25f8d6",
   "metadata": {},
   "outputs": [
    {
     "data": {
      "text/plain": [
       "<matplotlib.collections.PathCollection at 0x23e5f6c5de0>"
      ]
     },
     "execution_count": 48,
     "metadata": {},
     "output_type": "execute_result"
    },
    {
     "data": {
      "image/png": "[encoded data removed]",
      "text/plain": [
       "<Figure size 432x288 with 1 Axes>"
      ]
     },
     "metadata": {
      "needs_background": "light"
     },
     "output_type": "display_data"
    }
   ],
   "source": [
    "plt.scatter(land_cultivated_data_40,hfias_40)#20<land_cultivated_ha<=40"
   ]
  },
  {
   "cell_type": "code",
   "execution_count": 49,
   "id": "05696bb5",
   "metadata": {},
   "outputs": [
    {
     "name": "stdout",
     "output_type": "stream",
     "text": [
      "[[12.41506667  0.71866667]\n",
      " [ 0.71866667  1.64333333]]\n",
      "[[1.         0.15910731]\n",
      " [0.15910731 1.        ]]\n"
     ]
    }
   ],
   "source": [
    "import numpy as np\n",
    "cov_land_cultivated_ha_40 = np.cov(land_cultivated_data_40, hfias_40)\n",
    "corrcoef_land_cultivated_ha_40=np.corrcoef(land_cultivated_data_40, hfias_40)#land_cultivated_ha\n",
    "print(cov_land_cultivated_ha_40)\n",
    "print(corrcoef_land_cultivated_ha_40) #the relationship "
   ]
  },
  {
   "cell_type": "code",
   "execution_count": 50,
   "id": "f7d491f9",
   "metadata": {},
   "outputs": [
    {
     "name": "stdout",
     "output_type": "stream",
     "text": [
      "[[46.54       -1.52833333]\n",
      " [-1.52833333  1.64333333]]\n",
      "[[ 1.         -0.17476001]\n",
      " [-0.17476001  1.        ]]\n"
     ]
    }
   ],
   "source": [
    "hh_size_members_40=food_safety_tz_40['hh_size_members']\n",
    "cov_hh_size_members_40 = np.cov(hh_size_members_40, hfias_40)\n",
    "corrcoef_hh_size_members_40=np.corrcoef(hh_size_members_40, hfias_40)#land_cultivated_ha\n",
    "print(cov_hh_size_members_40)\n",
    "print(corrcoef_hh_size_members_40)"
   ]
  },
  {
   "cell_type": "code",
   "execution_count": 51,
   "id": "eb8c471f",
   "metadata": {},
   "outputs": [
    {
     "name": "stdout",
     "output_type": "stream",
     "text": [
      "                    hfias_status  hh_size_members  land_cultivated_ha\n",
      "hfias_status            1.000000        -0.174760            0.159107\n",
      "hh_size_members        -0.174760         1.000000            0.008223\n",
      "land_cultivated_ha      0.159107         0.008223            1.000000\n"
     ]
    }
   ],
   "source": [
    "df_food_40 = pd.DataFrame(food_safety_tz_40,columns=['hfias_status','hh_size_members','land_cultivated_ha'])\n",
    "corrMatrix_40 = df_food_40.corr()\n",
    "print (corrMatrix_40) "
   ]
  },
  {
   "cell_type": "code",
   "execution_count": 52,
   "id": "7763c707",
   "metadata": {},
   "outputs": [],
   "source": [
    "hh_size_members=food_safety_tz['hh_size_members']\n",
    "hfias_hh = food_safety_tz['hfias_status']"
   ]
  },
  {
   "cell_type": "code",
   "execution_count": 53,
   "id": "16402987",
   "metadata": {},
   "outputs": [
    {
     "data": {
      "text/plain": [
       "<matplotlib.collections.PathCollection at 0x23e5f6fe380>"
      ]
     },
     "execution_count": 53,
     "metadata": {},
     "output_type": "execute_result"
    },
    {
     "data": {
      "image/png": "[encoded data removed]",
      "text/plain": [
       "<Figure size 432x288 with 1 Axes>"
      ]
     },
     "metadata": {
      "needs_background": "light"
     },
     "output_type": "display_data"
    }
   ],
   "source": [
    "plt.scatter(hh_size_members,hfias_hh)"
   ]
  },
  {
   "cell_type": "code",
   "execution_count": 54,
   "id": "0bbb78e4",
   "metadata": {},
   "outputs": [
    {
     "data": {
      "text/plain": [
       "6.736763609246831"
      ]
     },
     "execution_count": 54,
     "metadata": {},
     "output_type": "execute_result"
    }
   ],
   "source": [
    "hh_size_members.mean()"
   ]
  },
  {
   "cell_type": "markdown",
   "id": "ae5d97f8",
   "metadata": {},
   "source": [
    "### We can see that household size members mainly less than 40. When the number is larger than 40, the food security could be weird. According to the previous research, the food security should be better with the growing of land cultivated. Also, the food security should be worse with the increasing of population."
   ]
  },
  {
   "cell_type": "code",
   "execution_count": 55,
   "id": "483f7ebc",
   "metadata": {},
   "outputs": [],
   "source": [
    "food_safety_tz=food_safety_tz.loc[food_safety_tz['hh_size_members'] <40] #select the value <40"
   ]
  },
  {
   "cell_type": "code",
   "execution_count": 56,
   "id": "3ddfb09f",
   "metadata": {},
   "outputs": [],
   "source": [
    "hh_size_members=food_safety_tz['hh_size_members']\n",
    "hfias_hh = food_safety_tz['hfias_status']"
   ]
  },
  {
   "cell_type": "code",
   "execution_count": 57,
   "id": "bfbf6b39",
   "metadata": {},
   "outputs": [
    {
     "data": {
      "text/plain": [
       "<matplotlib.collections.PathCollection at 0x23e5f723430>"
      ]
     },
     "execution_count": 57,
     "metadata": {},
     "output_type": "execute_result"
    },
    {
     "data": {
      "image/png": "[encoded data removed]",
      "text/plain": [
       "<Figure size 432x288 with 1 Axes>"
      ]
     },
     "metadata": {
      "needs_background": "light"
     },
     "output_type": "display_data"
    }
   ],
   "source": [
    "plt.scatter(hh_size_members,hfias_hh)"
   ]
  },
  {
   "cell_type": "markdown",
   "id": "320457a6",
   "metadata": {},
   "source": [
    "### We can see that when the data is larger than 40, the points are too few to be used."
   ]
  },
  {
   "cell_type": "code",
   "execution_count": 58,
   "id": "f8e3c26a",
   "metadata": {
    "scrolled": false
   },
   "outputs": [
    {
     "name": "stderr",
     "output_type": "stream",
     "text": [
      "C:\\Users\\chenl\\AppData\\Local\\Temp\\ipykernel_7760\\1846632248.py:1: FutureWarning: Dropping of nuisance columns in DataFrame reductions (with 'numeric_only=None') is deprecated; in a future version this will raise TypeError.  Select only valid columns before calling the reduction.\n",
      "  food_safety_tz.mean()\n"
     ]
    },
    {
     "data": {
      "text/plain": [
       "hfias_status          2.202920\n",
       "hh_size_members       6.538750\n",
       "land_cultivated_ha    3.352106\n",
       "dtype: float64"
      ]
     },
     "execution_count": 58,
     "metadata": {},
     "output_type": "execute_result"
    }
   ],
   "source": [
    "food_safety_tz.mean()"
   ]
  },
  {
   "cell_type": "code",
   "execution_count": 59,
   "id": "6b7cb984",
   "metadata": {},
   "outputs": [],
   "source": [
    "land_cultivated_data_processed=food_safety_tz['land_cultivated_ha'] #select column land_cultivated_ha from dataset"
   ]
  },
  {
   "cell_type": "markdown",
   "id": "f81918e1",
   "metadata": {},
   "source": [
    "### Here are the results after the data cleaning, then we want to select the data points in each project."
   ]
  },
  {
   "cell_type": "code",
   "execution_count": 60,
   "id": "66d297c2",
   "metadata": {},
   "outputs": [
    {
     "data": {
      "text/plain": [
       "<matplotlib.collections.PathCollection at 0x23e5f7638b0>"
      ]
     },
     "execution_count": 60,
     "metadata": {},
     "output_type": "execute_result"
    },
    {
     "data": {
      "image/png": "[encoded data removed]",
      "text/plain": [
       "<Figure size 432x288 with 1 Axes>"
      ]
     },
     "metadata": {
      "needs_background": "light"
     },
     "output_type": "display_data"
    }
   ],
   "source": [
    "plt.scatter(land_cultivated_data_processed,hh_size_members) # the relationship before cleaning the data"
   ]
  },
  {
   "cell_type": "markdown",
   "id": "15e99176",
   "metadata": {},
   "source": [
    "### In order to show the correct result, we need to control the number of household and \"land cultivated\". Based on the previous reseach, we started to select the proper data to be used, Here are the results in diffeerent projects."
   ]
  },
  {
   "cell_type": "markdown",
   "id": "eb81bcf1",
   "metadata": {},
   "source": [
    "## Cfm"
   ]
  },
  {
   "cell_type": "code",
   "execution_count": 61,
   "id": "b3c696db",
   "metadata": {},
   "outputs": [],
   "source": [
    "food_safety_tz_cfm=food_safety_tz.loc[food_safety_tz['id_proj'] == 'cfm']#select the CFM from the data"
   ]
  },
  {
   "cell_type": "code",
   "execution_count": 62,
   "id": "92941ae8",
   "metadata": {},
   "outputs": [],
   "source": [
    "land_cultivated_data_cfm=food_safety_tz_cfm['land_cultivated_ha'] #select column land_cultivated_ha from dataset\n",
    "hh_size_members_cfm=food_safety_tz_cfm['hh_size_members']\n",
    "hfias_hh_cfm = food_safety_tz_cfm['hfias_status']"
   ]
  },
  {
   "cell_type": "code",
   "execution_count": 63,
   "id": "ffef9486",
   "metadata": {},
   "outputs": [
    {
     "data": {
      "text/plain": [
       "<matplotlib.collections.PathCollection at 0x23e5f7acc70>"
      ]
     },
     "execution_count": 63,
     "metadata": {},
     "output_type": "execute_result"
    },
    {
     "data": {
      "image/png": "[encoded data removed]",
      "text/plain": [
       "<Figure size 432x288 with 1 Axes>"
      ]
     },
     "metadata": {
      "needs_background": "light"
     },
     "output_type": "display_data"
    }
   ],
   "source": [
    "plt.scatter(land_cultivated_data_cfm,hh_size_members_cfm) "
   ]
  },
  {
   "cell_type": "code",
   "execution_count": 64,
   "id": "7af0b325",
   "metadata": {},
   "outputs": [],
   "source": [
    "land_cultivated_data_cfm_1=food_safety_tz_cfm.loc[food_safety_tz_cfm['land_cultivated_ha'] <6] #select the land_cultivated_data_ha value <6"
   ]
  },
  {
   "cell_type": "code",
   "execution_count": 65,
   "id": "ef5741d5",
   "metadata": {},
   "outputs": [],
   "source": [
    "land_cultivated_data_cfm_2=land_cultivated_data_cfm_1['land_cultivated_ha'] #select column land_cultivated_ha from dataset\n",
    "hh_size_members_cfm=land_cultivated_data_cfm_1['hh_size_members']\n",
    "hfias_hh_cfm = land_cultivated_data_cfm_1['hfias_status']"
   ]
  },
  {
   "cell_type": "code",
   "execution_count": 66,
   "id": "7e73c5dc",
   "metadata": {},
   "outputs": [
    {
     "name": "stdout",
     "output_type": "stream",
     "text": [
      "                    hfias_status  hh_size_members  land_cultivated_ha\n",
      "hfias_status            1.000000         0.056850           -0.119781\n",
      "hh_size_members         0.056850         1.000000            0.144538\n",
      "land_cultivated_ha     -0.119781         0.144538            1.000000\n"
     ]
    },
    {
     "data": {
      "image/png": "[encoded data removed]",
      "text/plain": [
       "<Figure size 432x288 with 2 Axes>"
      ]
     },
     "metadata": {
      "needs_background": "light"
     },
     "output_type": "display_data"
    }
   ],
   "source": [
    "df_food_cfm = pd.DataFrame(land_cultivated_data_cfm_1,columns=['hfias_status','hh_size_members','land_cultivated_ha'])\n",
    "corrMatrix_cfm = df_food_cfm.corr()\n",
    "print (corrMatrix_cfm) \n",
    "sn.heatmap(corrMatrix_cfm, annot=True)\n",
    "plt.show()"
   ]
  },
  {
   "cell_type": "code",
   "execution_count": 67,
   "id": "4e386eee",
   "metadata": {},
   "outputs": [
    {
     "data": {
      "text/plain": [
       "Text(0.5, 1.0, 'hfias_cfm')"
      ]
     },
     "execution_count": 67,
     "metadata": {},
     "output_type": "execute_result"
    },
    {
     "data": {
      "image/png": "[encoded data removed]",
      "text/plain": [
       "<Figure size 432x288 with 1 Axes>"
      ]
     },
     "metadata": {
      "needs_background": "light"
     },
     "output_type": "display_data"
    }
   ],
   "source": [
    "hfias_status_cfm = land_cultivated_data_cfm_1['hfias_status']\n",
    "fig, ax = plt.subplots()\n",
    "ax.violinplot([hfias_status_cfm])\n",
    "ax.set_title('hfias_cfm')"
   ]
  },
  {
   "cell_type": "code",
   "execution_count": 68,
   "id": "f06ede01",
   "metadata": {},
   "outputs": [
    {
     "data": {
      "text/plain": [
       "<matplotlib.collections.PathCollection at 0x23e5f902e60>"
      ]
     },
     "execution_count": 68,
     "metadata": {},
     "output_type": "execute_result"
    },
    {
     "data": {
      "image/png": "[encoded data removed]",
      "text/plain": [
       "<Figure size 432x288 with 1 Axes>"
      ]
     },
     "metadata": {
      "needs_background": "light"
     },
     "output_type": "display_data"
    }
   ],
   "source": [
    "plt.scatter(land_cultivated_data_cfm_2,hh_size_members_cfm) "
   ]
  },
  {
   "cell_type": "code",
   "execution_count": 69,
   "id": "ed93eaa8",
   "metadata": {},
   "outputs": [
    {
     "data": {
      "text/plain": [
       "<matplotlib.collections.PathCollection at 0x23e5f962b60>"
      ]
     },
     "execution_count": 69,
     "metadata": {},
     "output_type": "execute_result"
    },
    {
     "data": {
      "image/png": "[encoded data removed]",
      "text/plain": [
       "<Figure size 432x288 with 1 Axes>"
      ]
     },
     "metadata": {
      "needs_background": "light"
     },
     "output_type": "display_data"
    }
   ],
   "source": [
    "plt.scatter(land_cultivated_data_cfm_2,hfias_hh_cfm) "
   ]
  },
  {
   "cell_type": "code",
   "execution_count": 70,
   "id": "77452354",
   "metadata": {},
   "outputs": [
    {
     "data": {
      "text/plain": [
       "<matplotlib.collections.PathCollection at 0x23e5f9c2530>"
      ]
     },
     "execution_count": 70,
     "metadata": {},
     "output_type": "execute_result"
    },
    {
     "data": {
      "image/png": "[encoded data removed]",
      "text/plain": [
       "<Figure size 432x288 with 1 Axes>"
      ]
     },
     "metadata": {
      "needs_background": "light"
     },
     "output_type": "display_data"
    }
   ],
   "source": [
    "plt.scatter(hh_size_members_cfm,hfias_hh_cfm) "
   ]
  },
  {
   "cell_type": "code",
   "execution_count": 71,
   "id": "682ed3e7",
   "metadata": {},
   "outputs": [
    {
     "data": {
      "text/plain": [
       "28766     4\n",
       "28767    10\n",
       "28768     5\n",
       "28769    11\n",
       "28770     6\n",
       "         ..\n",
       "28912     3\n",
       "28913     4\n",
       "28914     5\n",
       "28915     3\n",
       "28916     3\n",
       "Name: hh_size_members, Length: 135, dtype: int64"
      ]
     },
     "execution_count": 71,
     "metadata": {},
     "output_type": "execute_result"
    }
   ],
   "source": [
    "hh_size_members_cfm"
   ]
  },
  {
   "cell_type": "code",
   "execution_count": 72,
   "id": "7ab4f264",
   "metadata": {},
   "outputs": [
    {
     "name": "stdout",
     "output_type": "stream",
     "text": [
      "[[ 0.38983514 -0.05971697]\n",
      " [-0.05971697  0.63758983]]\n",
      "[[ 1.         -0.11978063]\n",
      " [-0.11978063  1.        ]]\n"
     ]
    }
   ],
   "source": [
    "import numpy as np\n",
    "cov_land_cultivated_ha_cfm = np.cov(land_cultivated_data_cfm_2, hfias_hh_cfm)\n",
    "corrcoef_land_cultivated_ha_cfm=np.corrcoef(land_cultivated_data_cfm_2,hfias_hh_cfm)#land_cultivated_ha\n",
    "print(cov_land_cultivated_ha_cfm)\n",
    "print(corrcoef_land_cultivated_ha_cfm) #the relationship "
   ]
  },
  {
   "cell_type": "code",
   "execution_count": 73,
   "id": "d753aea0",
   "metadata": {},
   "outputs": [
    {
     "name": "stdout",
     "output_type": "stream",
     "text": [
      "[[5.77258154 0.10906578]\n",
      " [0.10906578 0.63758983]]\n",
      "[[1.        0.0568503]\n",
      " [0.0568503 1.       ]]\n"
     ]
    }
   ],
   "source": [
    "import numpy as np\n",
    "cov_hh_size_members_cfm = np.cov(hh_size_members_cfm, hfias_hh_cfm)\n",
    "corrcoef_hh_size_members_cfm=np.corrcoef(hh_size_members_cfm,hfias_hh_cfm)#land_cultivated_ha\n",
    "print(cov_hh_size_members_cfm)\n",
    "print(corrcoef_hh_size_members_cfm) #plot"
   ]
  },
  {
   "cell_type": "code",
   "execution_count": 74,
   "id": "ece5fc95",
   "metadata": {},
   "outputs": [
    {
     "data": {
      "text/html": [
       "<div>\n",
       "<style scoped>\n",
       "    .dataframe tbody tr th:only-of-type {\n",
       "        vertical-align: middle;\n",
       "    }\n",
       "\n",
       "    .dataframe tbody tr th {\n",
       "        vertical-align: top;\n",
       "    }\n",
       "\n",
       "    .dataframe thead th {\n",
       "        text-align: right;\n",
       "    }\n",
       "</style>\n",
       "<table border=\"1\" class=\"dataframe\">\n",
       "  <thead>\n",
       "    <tr style=\"text-align: right;\">\n",
       "      <th></th>\n",
       "      <th>id_country</th>\n",
       "      <th>country</th>\n",
       "      <th>id_proj</th>\n",
       "      <th>hfias_status</th>\n",
       "      <th>hh_size_members</th>\n",
       "      <th>land_cultivated_ha</th>\n",
       "    </tr>\n",
       "  </thead>\n",
       "  <tbody>\n",
       "    <tr>\n",
       "      <th>28766</th>\n",
       "      <td>tz</td>\n",
       "      <td>tanzania</td>\n",
       "      <td>cfm</td>\n",
       "      <td>1</td>\n",
       "      <td>4</td>\n",
       "      <td>0.8</td>\n",
       "    </tr>\n",
       "    <tr>\n",
       "      <th>28767</th>\n",
       "      <td>tz</td>\n",
       "      <td>tanzania</td>\n",
       "      <td>cfm</td>\n",
       "      <td>1</td>\n",
       "      <td>10</td>\n",
       "      <td>0.8</td>\n",
       "    </tr>\n",
       "    <tr>\n",
       "      <th>28768</th>\n",
       "      <td>tz</td>\n",
       "      <td>tanzania</td>\n",
       "      <td>cfm</td>\n",
       "      <td>1</td>\n",
       "      <td>5</td>\n",
       "      <td>0.8</td>\n",
       "    </tr>\n",
       "    <tr>\n",
       "      <th>28769</th>\n",
       "      <td>tz</td>\n",
       "      <td>tanzania</td>\n",
       "      <td>cfm</td>\n",
       "      <td>1</td>\n",
       "      <td>11</td>\n",
       "      <td>1.2</td>\n",
       "    </tr>\n",
       "    <tr>\n",
       "      <th>28770</th>\n",
       "      <td>tz</td>\n",
       "      <td>tanzania</td>\n",
       "      <td>cfm</td>\n",
       "      <td>4</td>\n",
       "      <td>6</td>\n",
       "      <td>0.8</td>\n",
       "    </tr>\n",
       "    <tr>\n",
       "      <th>...</th>\n",
       "      <td>...</td>\n",
       "      <td>...</td>\n",
       "      <td>...</td>\n",
       "      <td>...</td>\n",
       "      <td>...</td>\n",
       "      <td>...</td>\n",
       "    </tr>\n",
       "    <tr>\n",
       "      <th>28912</th>\n",
       "      <td>tz</td>\n",
       "      <td>tanzania</td>\n",
       "      <td>cfm</td>\n",
       "      <td>1</td>\n",
       "      <td>3</td>\n",
       "      <td>1.6</td>\n",
       "    </tr>\n",
       "    <tr>\n",
       "      <th>28913</th>\n",
       "      <td>tz</td>\n",
       "      <td>tanzania</td>\n",
       "      <td>cfm</td>\n",
       "      <td>1</td>\n",
       "      <td>4</td>\n",
       "      <td>0.4</td>\n",
       "    </tr>\n",
       "    <tr>\n",
       "      <th>28914</th>\n",
       "      <td>tz</td>\n",
       "      <td>tanzania</td>\n",
       "      <td>cfm</td>\n",
       "      <td>1</td>\n",
       "      <td>5</td>\n",
       "      <td>0.1</td>\n",
       "    </tr>\n",
       "    <tr>\n",
       "      <th>28915</th>\n",
       "      <td>tz</td>\n",
       "      <td>tanzania</td>\n",
       "      <td>cfm</td>\n",
       "      <td>1</td>\n",
       "      <td>3</td>\n",
       "      <td>0.3</td>\n",
       "    </tr>\n",
       "    <tr>\n",
       "      <th>28916</th>\n",
       "      <td>tz</td>\n",
       "      <td>tanzania</td>\n",
       "      <td>cfm</td>\n",
       "      <td>1</td>\n",
       "      <td>3</td>\n",
       "      <td>0.6</td>\n",
       "    </tr>\n",
       "  </tbody>\n",
       "</table>\n",
       "<p>135 rows × 6 columns</p>\n",
       "</div>"
      ],
      "text/plain": [
       "      id_country   country id_proj  hfias_status  hh_size_members  \\\n",
       "28766         tz  tanzania     cfm             1                4   \n",
       "28767         tz  tanzania     cfm             1               10   \n",
       "28768         tz  tanzania     cfm             1                5   \n",
       "28769         tz  tanzania     cfm             1               11   \n",
       "28770         tz  tanzania     cfm             4                6   \n",
       "...          ...       ...     ...           ...              ...   \n",
       "28912         tz  tanzania     cfm             1                3   \n",
       "28913         tz  tanzania     cfm             1                4   \n",
       "28914         tz  tanzania     cfm             1                5   \n",
       "28915         tz  tanzania     cfm             1                3   \n",
       "28916         tz  tanzania     cfm             1                3   \n",
       "\n",
       "       land_cultivated_ha  \n",
       "28766                 0.8  \n",
       "28767                 0.8  \n",
       "28768                 0.8  \n",
       "28769                 1.2  \n",
       "28770                 0.8  \n",
       "...                   ...  \n",
       "28912                 1.6  \n",
       "28913                 0.4  \n",
       "28914                 0.1  \n",
       "28915                 0.3  \n",
       "28916                 0.6  \n",
       "\n",
       "[135 rows x 6 columns]"
      ]
     },
     "execution_count": 74,
     "metadata": {},
     "output_type": "execute_result"
    }
   ],
   "source": [
    "land_cultivated_data_cfm_1"
   ]
  },
  {
   "cell_type": "code",
   "execution_count": 75,
   "id": "3ff4663d",
   "metadata": {},
   "outputs": [
    {
     "data": {
      "image/png": "[encoded data removed]",
      "text/plain": [
       "<Figure size 432x288 with 1 Axes>"
      ]
     },
     "metadata": {
      "needs_background": "light"
     },
     "output_type": "display_data"
    },
    {
     "data": {
      "image/png": "[encoded data removed]",
      "text/plain": [
       "<Figure size 360x360 with 1 Axes>"
      ]
     },
     "metadata": {
      "needs_background": "light"
     },
     "output_type": "display_data"
    }
   ],
   "source": [
    "import seaborn as sns\n",
    "ax1=sns.scatterplot(x='land_cultivated_ha', y='hfias_status', data=land_cultivated_data_cfm_1);\n",
    "ax1.set_title(\"land_cultivated vs. hfias_status\")\n",
    "ax.set_xlabel(\"land_cultivated\");\n",
    "sns.lmplot(x='land_cultivated_ha', y='hfias_status', data=land_cultivated_data_cfm_1);"
   ]
  },
  {
   "cell_type": "code",
   "execution_count": 76,
   "id": "d74a0bca",
   "metadata": {},
   "outputs": [
    {
     "data": {
      "image/png": "[encoded data removed]",
      "text/plain": [
       "<Figure size 432x288 with 1 Axes>"
      ]
     },
     "metadata": {
      "needs_background": "light"
     },
     "output_type": "display_data"
    },
    {
     "data": {
      "image/png": "[encoded data removed]",
      "text/plain": [
       "<Figure size 360x360 with 1 Axes>"
      ]
     },
     "metadata": {
      "needs_background": "light"
     },
     "output_type": "display_data"
    }
   ],
   "source": [
    "import seaborn as sns\n",
    "ax1=sns.scatterplot(x='hh_size_members', y='hfias_status', data=land_cultivated_data_cfm_1);\n",
    "ax1.set_title(\"hh_size_members vs. hfias_status\")\n",
    "ax.set_xlabel(\"hh_size_members\");\n",
    "sns.lmplot(x='hh_size_members', y='hfias_status', data=land_cultivated_data_cfm_1);"
   ]
  },
  {
   "cell_type": "code",
   "execution_count": null,
   "id": "aa14fee2",
   "metadata": {},
   "outputs": [],
   "source": [
    "cfm_1"
   ]
  },
  {
   "cell_type": "code",
   "execution_count": null,
   "id": "b2539aef",
   "metadata": {},
   "outputs": [],
   "source": [
    "from sklearn.model_selection import train_test_split, cross_val_score\n",
    "X_train, X_test, y_train, y_test = train_test_split(X, y, test_size = 0.8, random_state=42)\n",
    "from sklearn.metrics import mean_absolute_error, mean_squared_error, r2_score\n",
    "import numpy as np\n",
    "from sklearn.dummy import DummyRegressor # the baseline that we are going to use\n",
    "dummy_regr.predict(X)\n",
    "import numpy as np #linear regression\n",
    "from sklearn.linear_model import LinearRegression\n",
    "from sklearn.metrics import mean_absolute_error\n",
    "from sklearn.metrics import mean_squared_error\n",
    "from sklearn.model_selection import cross_val_score\n",
    "\n",
    "lr_model= LinearRegression()\n",
    "lr_model.fit(X_train, y_train)\n",
    "y_pred_train_lr = lr_model.predict(X_train)\n",
    "print('Linear Regression - Training Metrics')\n",
    "print('MAE:', mean_absolute_error(y_train, y_pred_train_lr))\n",
    "print('MSE:', mean_squared_error(y_train, y_pred_train_lr))\n",
    "print('RMSE:',math.sqrt(mean_squared_error(y_train, y_pred_train_lr)))\n",
    "print('R2:', cross_val_score(lr_model, X_train, y_train, cv=5, n_jobs=-1).mean())"
   ]
  },
  {
   "cell_type": "markdown",
   "id": "161579be",
   "metadata": {},
   "source": [
    "## Cra"
   ]
  },
  {
   "cell_type": "code",
   "execution_count": 77,
   "id": "afdd94fb",
   "metadata": {},
   "outputs": [],
   "source": [
    "food_safety_tz_cra=food_safety_tz.loc[food_safety_tz['id_proj'] == 'cra']#select the CRM project from the data"
   ]
  },
  {
   "cell_type": "code",
   "execution_count": 78,
   "id": "ab529f50",
   "metadata": {},
   "outputs": [],
   "source": [
    "land_cultivated_data_cra=food_safety_tz_cra['land_cultivated_ha'] #select column land_cultivated_ha from dataset\n",
    "hh_size_members_cra=food_safety_tz_cra['hh_size_members']\n",
    "hfias_hh_cra = food_safety_tz_cra['hfias_status']"
   ]
  },
  {
   "cell_type": "code",
   "execution_count": 79,
   "id": "a47ea1d8",
   "metadata": {},
   "outputs": [
    {
     "data": {
      "text/plain": [
       "<matplotlib.collections.PathCollection at 0x23e5fbc3e50>"
      ]
     },
     "execution_count": 79,
     "metadata": {},
     "output_type": "execute_result"
    },
    {
     "data": {
      "image/png": "[encoded data removed]",
      "text/plain": [
       "<Figure size 432x288 with 1 Axes>"
      ]
     },
     "metadata": {
      "needs_background": "light"
     },
     "output_type": "display_data"
    }
   ],
   "source": [
    "plt.scatter(land_cultivated_data_cra,hh_size_members_cra) "
   ]
  },
  {
   "cell_type": "code",
   "execution_count": 80,
   "id": "56347a9f",
   "metadata": {},
   "outputs": [],
   "source": [
    "land_cultivated_data_cra_1=food_safety_tz_cra.loc[food_safety_tz_cra['land_cultivated_ha'] <8] #select the value <6\n",
    "land_cultivated_data_cra=land_cultivated_data_cra_1['land_cultivated_ha'] #select column land_cultivated_ha from dataset\n",
    "hh_size_members_cra=land_cultivated_data_cra_1['hh_size_members']\n",
    "hfias_hh_cra = land_cultivated_data_cra_1['hfias_status']"
   ]
  },
  {
   "cell_type": "code",
   "execution_count": 81,
   "id": "d5b8c28b",
   "metadata": {},
   "outputs": [
    {
     "data": {
      "text/plain": [
       "<matplotlib.collections.PathCollection at 0x23e5fc1fd60>"
      ]
     },
     "execution_count": 81,
     "metadata": {},
     "output_type": "execute_result"
    },
    {
     "data": {
      "image/png": "[encoded data removed]",
      "text/plain": [
       "<Figure size 432x288 with 1 Axes>"
      ]
     },
     "metadata": {
      "needs_background": "light"
     },
     "output_type": "display_data"
    }
   ],
   "source": [
    "plt.scatter(land_cultivated_data_cra,hh_size_members_cra) "
   ]
  },
  {
   "cell_type": "code",
   "execution_count": 82,
   "id": "a5903c35",
   "metadata": {},
   "outputs": [],
   "source": [
    "land_cultivated_data_cra_2=land_cultivated_data_cra_1.loc[land_cultivated_data_cra_1['hh_size_members'] <15] #select the value <6\n",
    "land_cultivated_data_cra=land_cultivated_data_cra_2['land_cultivated_ha'] #select column land_cultivated_ha from dataset\n",
    "hh_size_members_cra=land_cultivated_data_cra_2['hh_size_members']\n",
    "hfias_hh_cra = land_cultivated_data_cra_2['hfias_status']"
   ]
  },
  {
   "cell_type": "code",
   "execution_count": 83,
   "id": "fc586d8d",
   "metadata": {},
   "outputs": [
    {
     "name": "stdout",
     "output_type": "stream",
     "text": [
      "                    hfias_status  hh_size_members  land_cultivated_ha\n",
      "hfias_status            1.000000         0.039266           -0.076813\n",
      "hh_size_members         0.039266         1.000000            0.266389\n",
      "land_cultivated_ha     -0.076813         0.266389            1.000000\n"
     ]
    },
    {
     "data": {
      "image/png": "[encoded data removed]",
      "text/plain": [
       "<Figure size 432x288 with 2 Axes>"
      ]
     },
     "metadata": {
      "needs_background": "light"
     },
     "output_type": "display_data"
    }
   ],
   "source": [
    "df_food_cra = pd.DataFrame(land_cultivated_data_cra_2,columns=['hfias_status','hh_size_members','land_cultivated_ha'])\n",
    "corrMatrix_cra = df_food_cra.corr()\n",
    "print (corrMatrix_cra) \n",
    "sn.heatmap(corrMatrix_cra, annot=True)\n",
    "plt.show()"
   ]
  },
  {
   "cell_type": "code",
   "execution_count": 84,
   "id": "3a3d3b4a",
   "metadata": {},
   "outputs": [
    {
     "data": {
      "text/plain": [
       "Text(0.5, 1.0, 'hfias_cra')"
      ]
     },
     "execution_count": 84,
     "metadata": {},
     "output_type": "execute_result"
    },
    {
     "data": {
      "image/png": "[encoded data removed]",
      "text/plain": [
       "<Figure size 432x288 with 1 Axes>"
      ]
     },
     "metadata": {
      "needs_background": "light"
     },
     "output_type": "display_data"
    }
   ],
   "source": [
    "fig, ax = plt.subplots()\n",
    "ax.violinplot([hfias_hh_cra])\n",
    "ax.set_title('hfias_cra')"
   ]
  },
  {
   "cell_type": "code",
   "execution_count": 85,
   "id": "8c60a503",
   "metadata": {},
   "outputs": [
    {
     "data": {
      "text/plain": [
       "<matplotlib.collections.PathCollection at 0x23e5fc8b400>"
      ]
     },
     "execution_count": 85,
     "metadata": {},
     "output_type": "execute_result"
    },
    {
     "data": {
      "image/png": "[encoded data removed]",
      "text/plain": [
       "<Figure size 432x288 with 1 Axes>"
      ]
     },
     "metadata": {
      "needs_background": "light"
     },
     "output_type": "display_data"
    }
   ],
   "source": [
    "plt.scatter(land_cultivated_data_cra,hh_size_members_cra) "
   ]
  },
  {
   "cell_type": "code",
   "execution_count": 86,
   "id": "a42b0dec",
   "metadata": {},
   "outputs": [
    {
     "name": "stdout",
     "output_type": "stream",
     "text": [
      "[[ 1.80992057 -0.121447  ]\n",
      " [-0.121447    1.38115529]]\n",
      "[[ 1.         -0.07681318]\n",
      " [-0.07681318  1.        ]]\n"
     ]
    }
   ],
   "source": [
    "import numpy as np\n",
    "cov_land_cultivated_ha_cra = np.cov(land_cultivated_data_cra, hfias_hh_cra)\n",
    "corrcoef_land_cultivated_ha_cra=np.corrcoef(land_cultivated_data_cra,hfias_hh_cra)#land_cultivated_ha\n",
    "print(cov_land_cultivated_ha_cra)\n",
    "print(corrcoef_land_cultivated_ha_cra) #plot"
   ]
  },
  {
   "cell_type": "code",
   "execution_count": 87,
   "id": "eae148bc",
   "metadata": {},
   "outputs": [
    {
     "name": "stdout",
     "output_type": "stream",
     "text": [
      "[[7.37680087 0.12533633]\n",
      " [0.12533633 1.38115529]]\n",
      "[[1.         0.03926646]\n",
      " [0.03926646 1.        ]]\n"
     ]
    }
   ],
   "source": [
    "import numpy as np\n",
    "cov_hh_size_members_cra = np.cov(hh_size_members_cra, hfias_hh_cra)\n",
    "corrcoef_hh_size_members_cra=np.corrcoef(hh_size_members_cra,hfias_hh_cra)#land_cultivated_ha\n",
    "print(cov_hh_size_members_cra)\n",
    "print(corrcoef_hh_size_members_cra) #plot"
   ]
  },
  {
   "cell_type": "code",
   "execution_count": 132,
   "id": "b6c7f377",
   "metadata": {},
   "outputs": [
    {
     "data": {
      "text/html": [
       "<div>\n",
       "<style scoped>\n",
       "    .dataframe tbody tr th:only-of-type {\n",
       "        vertical-align: middle;\n",
       "    }\n",
       "\n",
       "    .dataframe tbody tr th {\n",
       "        vertical-align: top;\n",
       "    }\n",
       "\n",
       "    .dataframe thead th {\n",
       "        text-align: right;\n",
       "    }\n",
       "</style>\n",
       "<table border=\"1\" class=\"dataframe\">\n",
       "  <thead>\n",
       "    <tr style=\"text-align: right;\">\n",
       "      <th></th>\n",
       "      <th>id_country</th>\n",
       "      <th>country</th>\n",
       "      <th>id_proj</th>\n",
       "      <th>hfias_status</th>\n",
       "      <th>hh_size_members</th>\n",
       "      <th>land_cultivated_ha</th>\n",
       "    </tr>\n",
       "  </thead>\n",
       "  <tbody>\n",
       "    <tr>\n",
       "      <th>28917</th>\n",
       "      <td>tz</td>\n",
       "      <td>tanzania</td>\n",
       "      <td>cra</td>\n",
       "      <td>1</td>\n",
       "      <td>5</td>\n",
       "      <td>3.80</td>\n",
       "    </tr>\n",
       "    <tr>\n",
       "      <th>28918</th>\n",
       "      <td>tz</td>\n",
       "      <td>tanzania</td>\n",
       "      <td>cra</td>\n",
       "      <td>1</td>\n",
       "      <td>6</td>\n",
       "      <td>2.00</td>\n",
       "    </tr>\n",
       "    <tr>\n",
       "      <th>28919</th>\n",
       "      <td>tz</td>\n",
       "      <td>tanzania</td>\n",
       "      <td>cra</td>\n",
       "      <td>1</td>\n",
       "      <td>6</td>\n",
       "      <td>1.60</td>\n",
       "    </tr>\n",
       "    <tr>\n",
       "      <th>28920</th>\n",
       "      <td>tz</td>\n",
       "      <td>tanzania</td>\n",
       "      <td>cra</td>\n",
       "      <td>1</td>\n",
       "      <td>6</td>\n",
       "      <td>0.80</td>\n",
       "    </tr>\n",
       "    <tr>\n",
       "      <th>28921</th>\n",
       "      <td>tz</td>\n",
       "      <td>tanzania</td>\n",
       "      <td>cra</td>\n",
       "      <td>1</td>\n",
       "      <td>5</td>\n",
       "      <td>0.30</td>\n",
       "    </tr>\n",
       "    <tr>\n",
       "      <th>...</th>\n",
       "      <td>...</td>\n",
       "      <td>...</td>\n",
       "      <td>...</td>\n",
       "      <td>...</td>\n",
       "      <td>...</td>\n",
       "      <td>...</td>\n",
       "    </tr>\n",
       "    <tr>\n",
       "      <th>29753</th>\n",
       "      <td>tz</td>\n",
       "      <td>tanzania</td>\n",
       "      <td>cra</td>\n",
       "      <td>3</td>\n",
       "      <td>5</td>\n",
       "      <td>0.40</td>\n",
       "    </tr>\n",
       "    <tr>\n",
       "      <th>29754</th>\n",
       "      <td>tz</td>\n",
       "      <td>tanzania</td>\n",
       "      <td>cra</td>\n",
       "      <td>1</td>\n",
       "      <td>6</td>\n",
       "      <td>0.08</td>\n",
       "    </tr>\n",
       "    <tr>\n",
       "      <th>29755</th>\n",
       "      <td>tz</td>\n",
       "      <td>tanzania</td>\n",
       "      <td>cra</td>\n",
       "      <td>1</td>\n",
       "      <td>11</td>\n",
       "      <td>0.20</td>\n",
       "    </tr>\n",
       "    <tr>\n",
       "      <th>29756</th>\n",
       "      <td>tz</td>\n",
       "      <td>tanzania</td>\n",
       "      <td>cra</td>\n",
       "      <td>1</td>\n",
       "      <td>11</td>\n",
       "      <td>1.60</td>\n",
       "    </tr>\n",
       "    <tr>\n",
       "      <th>29757</th>\n",
       "      <td>tz</td>\n",
       "      <td>tanzania</td>\n",
       "      <td>cra</td>\n",
       "      <td>1</td>\n",
       "      <td>7</td>\n",
       "      <td>2.20</td>\n",
       "    </tr>\n",
       "  </tbody>\n",
       "</table>\n",
       "<p>819 rows × 6 columns</p>\n",
       "</div>"
      ],
      "text/plain": [
       "      id_country   country id_proj  hfias_status  hh_size_members  \\\n",
       "28917         tz  tanzania     cra             1                5   \n",
       "28918         tz  tanzania     cra             1                6   \n",
       "28919         tz  tanzania     cra             1                6   \n",
       "28920         tz  tanzania     cra             1                6   \n",
       "28921         tz  tanzania     cra             1                5   \n",
       "...          ...       ...     ...           ...              ...   \n",
       "29753         tz  tanzania     cra             3                5   \n",
       "29754         tz  tanzania     cra             1                6   \n",
       "29755         tz  tanzania     cra             1               11   \n",
       "29756         tz  tanzania     cra             1               11   \n",
       "29757         tz  tanzania     cra             1                7   \n",
       "\n",
       "       land_cultivated_ha  \n",
       "28917                3.80  \n",
       "28918                2.00  \n",
       "28919                1.60  \n",
       "28920                0.80  \n",
       "28921                0.30  \n",
       "...                   ...  \n",
       "29753                0.40  \n",
       "29754                0.08  \n",
       "29755                0.20  \n",
       "29756                1.60  \n",
       "29757                2.20  \n",
       "\n",
       "[819 rows x 6 columns]"
      ]
     },
     "execution_count": 132,
     "metadata": {},
     "output_type": "execute_result"
    }
   ],
   "source": []
  },
  {
   "cell_type": "code",
   "execution_count": 88,
   "id": "1d86f2c6",
   "metadata": {},
   "outputs": [
    {
     "data": {
      "text/plain": [
       "<matplotlib.collections.PathCollection at 0x23e5fb827a0>"
      ]
     },
     "execution_count": 88,
     "metadata": {},
     "output_type": "execute_result"
    },
    {
     "data": {
      "image/png": "[encoded data removed]",
      "text/plain": [
       "<Figure size 432x288 with 1 Axes>"
      ]
     },
     "metadata": {
      "needs_background": "light"
     },
     "output_type": "display_data"
    }
   ],
   "source": [
    "plt.scatter(land_cultivated_data_cra,hfias_hh_cra) "
   ]
  },
  {
   "cell_type": "code",
   "execution_count": 89,
   "id": "7a349371",
   "metadata": {},
   "outputs": [
    {
     "data": {
      "text/plain": [
       "<matplotlib.collections.PathCollection at 0x23e5fa8f730>"
      ]
     },
     "execution_count": 89,
     "metadata": {},
     "output_type": "execute_result"
    },
    {
     "data": {
      "image/png": "[encoded data removed]",
      "text/plain": [
       "<Figure size 432x288 with 1 Axes>"
      ]
     },
     "metadata": {
      "needs_background": "light"
     },
     "output_type": "display_data"
    }
   ],
   "source": [
    "plt.scatter(hh_size_members_cra,hfias_hh_cra) "
   ]
  },
  {
   "cell_type": "code",
   "execution_count": 90,
   "id": "c443fb7c",
   "metadata": {},
   "outputs": [
    {
     "data": {
      "image/png": "[encoded data removed]",
      "text/plain": [
       "<Figure size 432x288 with 1 Axes>"
      ]
     },
     "metadata": {
      "needs_background": "light"
     },
     "output_type": "display_data"
    },
    {
     "data": {
      "image/png": "[encoded data removed]",
      "text/plain": [
       "<Figure size 360x360 with 1 Axes>"
      ]
     },
     "metadata": {
      "needs_background": "light"
     },
     "output_type": "display_data"
    }
   ],
   "source": [
    "import seaborn as sns\n",
    "ax1=sns.scatterplot(x='hh_size_members', y='hfias_status', data=land_cultivated_data_cra_2);\n",
    "ax1.set_title(\"hh_size_members vs. hfias_status\")\n",
    "ax.set_xlabel(\"hh_size_members\");\n",
    "sns.lmplot(x='hh_size_members', y='hfias_status', data=land_cultivated_data_cra_2);"
   ]
  },
  {
   "cell_type": "code",
   "execution_count": 91,
   "id": "a7fbf29d",
   "metadata": {},
   "outputs": [
    {
     "data": {
      "image/png": "[encoded data removed]",
      "text/plain": [
       "<Figure size 432x288 with 1 Axes>"
      ]
     },
     "metadata": {
      "needs_background": "light"
     },
     "output_type": "display_data"
    },
    {
     "data": {
      "image/png": "[encoded data removed]",
      "text/plain": [
       "<Figure size 360x360 with 1 Axes>"
      ]
     },
     "metadata": {
      "needs_background": "light"
     },
     "output_type": "display_data"
    }
   ],
   "source": [
    "import seaborn as sns\n",
    "ax1=sns.scatterplot(x='land_cultivated_ha', y='hfias_status', data=land_cultivated_data_cra_2);\n",
    "ax1.set_title(\"land_cultivated vs. hfias_status\")\n",
    "ax.set_xlabel(\"land_cultivated\");\n",
    "sns.lmplot(x='land_cultivated_ha', y='hfias_status', data=land_cultivated_data_cra_2);"
   ]
  },
  {
   "cell_type": "code",
   "execution_count": 133,
   "id": "eeaabd57",
   "metadata": {},
   "outputs": [
    {
     "data": {
      "text/html": [
       "<div>\n",
       "<style scoped>\n",
       "    .dataframe tbody tr th:only-of-type {\n",
       "        vertical-align: middle;\n",
       "    }\n",
       "\n",
       "    .dataframe tbody tr th {\n",
       "        vertical-align: top;\n",
       "    }\n",
       "\n",
       "    .dataframe thead th {\n",
       "        text-align: right;\n",
       "    }\n",
       "</style>\n",
       "<table border=\"1\" class=\"dataframe\">\n",
       "  <thead>\n",
       "    <tr style=\"text-align: right;\">\n",
       "      <th></th>\n",
       "      <th>id_country</th>\n",
       "      <th>country</th>\n",
       "      <th>id_proj</th>\n",
       "      <th>hfias_status</th>\n",
       "      <th>hh_size_members</th>\n",
       "      <th>land_cultivated_ha</th>\n",
       "    </tr>\n",
       "  </thead>\n",
       "  <tbody>\n",
       "    <tr>\n",
       "      <th>28917</th>\n",
       "      <td>tz</td>\n",
       "      <td>tanzania</td>\n",
       "      <td>cra</td>\n",
       "      <td>1</td>\n",
       "      <td>5</td>\n",
       "      <td>3.80</td>\n",
       "    </tr>\n",
       "    <tr>\n",
       "      <th>28918</th>\n",
       "      <td>tz</td>\n",
       "      <td>tanzania</td>\n",
       "      <td>cra</td>\n",
       "      <td>1</td>\n",
       "      <td>6</td>\n",
       "      <td>2.00</td>\n",
       "    </tr>\n",
       "    <tr>\n",
       "      <th>28919</th>\n",
       "      <td>tz</td>\n",
       "      <td>tanzania</td>\n",
       "      <td>cra</td>\n",
       "      <td>1</td>\n",
       "      <td>6</td>\n",
       "      <td>1.60</td>\n",
       "    </tr>\n",
       "    <tr>\n",
       "      <th>28920</th>\n",
       "      <td>tz</td>\n",
       "      <td>tanzania</td>\n",
       "      <td>cra</td>\n",
       "      <td>1</td>\n",
       "      <td>6</td>\n",
       "      <td>0.80</td>\n",
       "    </tr>\n",
       "    <tr>\n",
       "      <th>28921</th>\n",
       "      <td>tz</td>\n",
       "      <td>tanzania</td>\n",
       "      <td>cra</td>\n",
       "      <td>1</td>\n",
       "      <td>5</td>\n",
       "      <td>0.30</td>\n",
       "    </tr>\n",
       "    <tr>\n",
       "      <th>...</th>\n",
       "      <td>...</td>\n",
       "      <td>...</td>\n",
       "      <td>...</td>\n",
       "      <td>...</td>\n",
       "      <td>...</td>\n",
       "      <td>...</td>\n",
       "    </tr>\n",
       "    <tr>\n",
       "      <th>29753</th>\n",
       "      <td>tz</td>\n",
       "      <td>tanzania</td>\n",
       "      <td>cra</td>\n",
       "      <td>3</td>\n",
       "      <td>5</td>\n",
       "      <td>0.40</td>\n",
       "    </tr>\n",
       "    <tr>\n",
       "      <th>29754</th>\n",
       "      <td>tz</td>\n",
       "      <td>tanzania</td>\n",
       "      <td>cra</td>\n",
       "      <td>1</td>\n",
       "      <td>6</td>\n",
       "      <td>0.08</td>\n",
       "    </tr>\n",
       "    <tr>\n",
       "      <th>29755</th>\n",
       "      <td>tz</td>\n",
       "      <td>tanzania</td>\n",
       "      <td>cra</td>\n",
       "      <td>1</td>\n",
       "      <td>11</td>\n",
       "      <td>0.20</td>\n",
       "    </tr>\n",
       "    <tr>\n",
       "      <th>29756</th>\n",
       "      <td>tz</td>\n",
       "      <td>tanzania</td>\n",
       "      <td>cra</td>\n",
       "      <td>1</td>\n",
       "      <td>11</td>\n",
       "      <td>1.60</td>\n",
       "    </tr>\n",
       "    <tr>\n",
       "      <th>29757</th>\n",
       "      <td>tz</td>\n",
       "      <td>tanzania</td>\n",
       "      <td>cra</td>\n",
       "      <td>1</td>\n",
       "      <td>7</td>\n",
       "      <td>2.20</td>\n",
       "    </tr>\n",
       "  </tbody>\n",
       "</table>\n",
       "<p>775 rows × 6 columns</p>\n",
       "</div>"
      ],
      "text/plain": [
       "      id_country   country id_proj  hfias_status  hh_size_members  \\\n",
       "28917         tz  tanzania     cra             1                5   \n",
       "28918         tz  tanzania     cra             1                6   \n",
       "28919         tz  tanzania     cra             1                6   \n",
       "28920         tz  tanzania     cra             1                6   \n",
       "28921         tz  tanzania     cra             1                5   \n",
       "...          ...       ...     ...           ...              ...   \n",
       "29753         tz  tanzania     cra             3                5   \n",
       "29754         tz  tanzania     cra             1                6   \n",
       "29755         tz  tanzania     cra             1               11   \n",
       "29756         tz  tanzania     cra             1               11   \n",
       "29757         tz  tanzania     cra             1                7   \n",
       "\n",
       "       land_cultivated_ha  \n",
       "28917                3.80  \n",
       "28918                2.00  \n",
       "28919                1.60  \n",
       "28920                0.80  \n",
       "28921                0.30  \n",
       "...                   ...  \n",
       "29753                0.40  \n",
       "29754                0.08  \n",
       "29755                0.20  \n",
       "29756                1.60  \n",
       "29757                2.20  \n",
       "\n",
       "[775 rows x 6 columns]"
      ]
     },
     "execution_count": 133,
     "metadata": {},
     "output_type": "execute_result"
    }
   ],
   "source": [
    "land_cultivated_data_cra_2"
   ]
  },
  {
   "cell_type": "code",
   "execution_count": 135,
   "id": "8eef3c10",
   "metadata": {},
   "outputs": [
    {
     "name": "stderr",
     "output_type": "stream",
     "text": [
      "C:\\Users\\chenl\\AppData\\Local\\Temp\\ipykernel_7760\\1290841480.py:1: SettingWithCopyWarning: \n",
      "A value is trying to be set on a copy of a slice from a DataFrame\n",
      "\n",
      "See the caveats in the documentation: https://pandas.pydata.org/pandas-docs/stable/user_guide/indexing.html#returning-a-view-versus-a-copy\n",
      "  land_cultivated_data_cra_2.drop(columns='id_country', inplace=True)\n"
     ]
    }
   ],
   "source": [
    "land_cultivated_data_cra_2.drop(columns='id_country', inplace=True)"
   ]
  },
  {
   "cell_type": "code",
   "execution_count": 136,
   "id": "35f6ce5f",
   "metadata": {},
   "outputs": [
    {
     "name": "stderr",
     "output_type": "stream",
     "text": [
      "C:\\Users\\chenl\\AppData\\Local\\Temp\\ipykernel_7760\\4186938301.py:1: SettingWithCopyWarning: \n",
      "A value is trying to be set on a copy of a slice from a DataFrame\n",
      "\n",
      "See the caveats in the documentation: https://pandas.pydata.org/pandas-docs/stable/user_guide/indexing.html#returning-a-view-versus-a-copy\n",
      "  land_cultivated_data_cra_2.drop(columns='country', inplace=True)\n"
     ]
    }
   ],
   "source": [
    "land_cultivated_data_cra_2.drop(columns='country', inplace=True)"
   ]
  },
  {
   "cell_type": "code",
   "execution_count": 137,
   "id": "72be4612",
   "metadata": {},
   "outputs": [
    {
     "name": "stderr",
     "output_type": "stream",
     "text": [
      "C:\\Users\\chenl\\AppData\\Local\\Temp\\ipykernel_7760\\724877608.py:1: SettingWithCopyWarning: \n",
      "A value is trying to be set on a copy of a slice from a DataFrame\n",
      "\n",
      "See the caveats in the documentation: https://pandas.pydata.org/pandas-docs/stable/user_guide/indexing.html#returning-a-view-versus-a-copy\n",
      "  land_cultivated_data_cra_2.drop(columns='id_proj', inplace=True)\n"
     ]
    }
   ],
   "source": [
    "land_cultivated_data_cra_2.drop(columns='id_proj', inplace=True)"
   ]
  },
  {
   "cell_type": "code",
   "execution_count": 157,
   "id": "2451eb6a",
   "metadata": {},
   "outputs": [],
   "source": [
    "land_cultivated_data_cra_2_1=pd.DataFrame(land_cultivated_data_cra_2,columns=[\"hfias_status\",\"hh_size_members\"])\n",
    "land_cultivated_data_cra_2_2=pd.DataFrame(land_cultivated_data_cra_2,columns=[\"hfias_status\",\"land_cultivated_ha\"])"
   ]
  },
  {
   "cell_type": "code",
   "execution_count": 175,
   "id": "82045ec6",
   "metadata": {},
   "outputs": [],
   "source": [
    "target = \"hfias_status\" #Select the data that we are going to use in the dataset\n",
    "\n",
    "X = land_cultivated_data_cra_2_2.drop(columns=target)\n",
    "y = land_cultivated_data_cra_2_2[target]"
   ]
  },
  {
   "cell_type": "code",
   "execution_count": 176,
   "id": "f3db5be6",
   "metadata": {},
   "outputs": [],
   "source": [
    "from sklearn.model_selection import train_test_split, cross_val_score"
   ]
  },
  {
   "cell_type": "code",
   "execution_count": 177,
   "id": "8c4c9459",
   "metadata": {},
   "outputs": [],
   "source": [
    "X_train, X_test, y_train, y_test = train_test_split(X, y, test_size = 0.8, random_state=42)"
   ]
  },
  {
   "cell_type": "code",
   "execution_count": 178,
   "id": "cebed7ae",
   "metadata": {},
   "outputs": [],
   "source": [
    "from sklearn.metrics import mean_absolute_error, mean_squared_error, r2_score"
   ]
  },
  {
   "cell_type": "code",
   "execution_count": 179,
   "id": "89165496",
   "metadata": {},
   "outputs": [],
   "source": [
    "import numpy as np\n",
    "from sklearn.dummy import DummyRegressor # the baseline that we are going to use\n"
   ]
  },
  {
   "cell_type": "code",
   "execution_count": 180,
   "id": "83a28e55",
   "metadata": {},
   "outputs": [],
   "source": [
    "dummy_regr = DummyRegressor(strategy=\"mean\",quantile=0.6) # we are going to use mean strategy "
   ]
  },
  {
   "cell_type": "code",
   "execution_count": 181,
   "id": "43a3d486",
   "metadata": {},
   "outputs": [
    {
     "data": {
      "text/html": [
       "<style>#sk-container-id-5 {color: black;background-color: white;}#sk-container-id-5 pre{padding: 0;}#sk-container-id-5 div.sk-toggleable {background-color: white;}#sk-container-id-5 label.sk-toggleable__label {cursor: pointer;display: block;width: 100%;margin-bottom: 0;padding: 0.3em;box-sizing: border-box;text-align: center;}#sk-container-id-5 label.sk-toggleable__label-arrow:before {content: \"▸\";float: left;margin-right: 0.25em;color: #696969;}#sk-container-id-5 label.sk-toggleable__label-arrow:hover:before {color: black;}#sk-container-id-5 div.sk-estimator:hover label.sk-toggleable__label-arrow:before {color: black;}#sk-container-id-5 div.sk-toggleable__content {max-height: 0;max-width: 0;overflow: hidden;text-align: left;background-color: #f0f8ff;}#sk-container-id-5 div.sk-toggleable__content pre {margin: 0.2em;color: black;border-radius: 0.25em;background-color: #f0f8ff;}#sk-container-id-5 input.sk-toggleable__control:checked~div.sk-toggleable__content {max-height: 200px;max-width: 100%;overflow: auto;}#sk-container-id-5 input.sk-toggleable__control:checked~label.sk-toggleable__label-arrow:before {content: \"▾\";}#sk-container-id-5 div.sk-estimator input.sk-toggleable__control:checked~label.sk-toggleable__label {background-color: #d4ebff;}#sk-container-id-5 div.sk-label input.sk-toggleable__control:checked~label.sk-toggleable__label {background-color: #d4ebff;}#sk-container-id-5 input.sk-hidden--visually {border: 0;clip: rect(1px 1px 1px 1px);clip: rect(1px, 1px, 1px, 1px);height: 1px;margin: -1px;overflow: hidden;padding: 0;position: absolute;width: 1px;}#sk-container-id-5 div.sk-estimator {font-family: monospace;background-color: #f0f8ff;border: 1px dotted black;border-radius: 0.25em;box-sizing: border-box;margin-bottom: 0.5em;}#sk-container-id-5 div.sk-estimator:hover {background-color: #d4ebff;}#sk-container-id-5 div.sk-parallel-item::after {content: \"\";width: 100%;border-bottom: 1px solid gray;flex-grow: 1;}#sk-container-id-5 div.sk-label:hover label.sk-toggleable__label {background-color: #d4ebff;}#sk-container-id-5 div.sk-serial::before {content: \"\";position: absolute;border-left: 1px solid gray;box-sizing: border-box;top: 0;bottom: 0;left: 50%;z-index: 0;}#sk-container-id-5 div.sk-serial {display: flex;flex-direction: column;align-items: center;background-color: white;padding-right: 0.2em;padding-left: 0.2em;position: relative;}#sk-container-id-5 div.sk-item {position: relative;z-index: 1;}#sk-container-id-5 div.sk-parallel {display: flex;align-items: stretch;justify-content: center;background-color: white;position: relative;}#sk-container-id-5 div.sk-item::before, #sk-container-id-5 div.sk-parallel-item::before {content: \"\";position: absolute;border-left: 1px solid gray;box-sizing: border-box;top: 0;bottom: 0;left: 50%;z-index: -1;}#sk-container-id-5 div.sk-parallel-item {display: flex;flex-direction: column;z-index: 1;position: relative;background-color: white;}#sk-container-id-5 div.sk-parallel-item:first-child::after {align-self: flex-end;width: 50%;}#sk-container-id-5 div.sk-parallel-item:last-child::after {align-self: flex-start;width: 50%;}#sk-container-id-5 div.sk-parallel-item:only-child::after {width: 0;}#sk-container-id-5 div.sk-dashed-wrapped {border: 1px dashed gray;margin: 0 0.4em 0.5em 0.4em;box-sizing: border-box;padding-bottom: 0.4em;background-color: white;}#sk-container-id-5 div.sk-label label {font-family: monospace;font-weight: bold;display: inline-block;line-height: 1.2em;}#sk-container-id-5 div.sk-label-container {text-align: center;}#sk-container-id-5 div.sk-container {/* jupyter's `normalize.less` sets `[hidden] { display: none; }` but bootstrap.min.css set `[hidden] { display: none !important; }` so we also need the `!important` here to be able to override the default hidden behavior on the sphinx rendered scikit-learn.org. See: https://github.com/scikit-learn/scikit-learn/issues/21755 */display: inline-block !important;position: relative;}#sk-container-id-5 div.sk-text-repr-fallback {display: none;}</style><div id=\"sk-container-id-5\" class=\"sk-top-container\"><div class=\"sk-text-repr-fallback\"><pre>DummyRegressor(quantile=0.6)</pre><b>In a Jupyter environment, please rerun this cell to show the HTML representation or trust the notebook. <br />On GitHub, the HTML representation is unable to render, please try loading this page with nbviewer.org.</b></div><div class=\"sk-container\" hidden><div class=\"sk-item\"><div class=\"sk-estimator sk-toggleable\"><input class=\"sk-toggleable__control sk-hidden--visually\" id=\"sk-estimator-id-5\" type=\"checkbox\" checked><label for=\"sk-estimator-id-5\" class=\"sk-toggleable__label sk-toggleable__label-arrow\">DummyRegressor</label><div class=\"sk-toggleable__content\"><pre>DummyRegressor(quantile=0.6)</pre></div></div></div></div></div>"
      ],
      "text/plain": [
       "DummyRegressor(quantile=0.6)"
      ]
     },
     "execution_count": 181,
     "metadata": {},
     "output_type": "execute_result"
    }
   ],
   "source": [
    "dummy_regr.fit(X, y) # use our model to fit the data"
   ]
  },
  {
   "cell_type": "code",
   "execution_count": 182,
   "id": "127c8512",
   "metadata": {},
   "outputs": [
    {
     "data": {
      "text/plain": [
       "array([1.78451613, 1.78451613, 1.78451613, 1.78451613, 1.78451613,\n",
       "       1.78451613, 1.78451613, 1.78451613, 1.78451613, 1.78451613,\n",
       "       1.78451613, 1.78451613, 1.78451613, 1.78451613, 1.78451613,\n",
       "       1.78451613, 1.78451613, 1.78451613, 1.78451613, 1.78451613,\n",
       "       1.78451613, 1.78451613, 1.78451613, 1.78451613, 1.78451613,\n",
       "       1.78451613, 1.78451613, 1.78451613, 1.78451613, 1.78451613,\n",
       "       1.78451613, 1.78451613, 1.78451613, 1.78451613, 1.78451613,\n",
       "       1.78451613, 1.78451613, 1.78451613, 1.78451613, 1.78451613,\n",
       "       1.78451613, 1.78451613, 1.78451613, 1.78451613, 1.78451613,\n",
       "       1.78451613, 1.78451613, 1.78451613, 1.78451613, 1.78451613,\n",
       "       1.78451613, 1.78451613, 1.78451613, 1.78451613, 1.78451613,\n",
       "       1.78451613, 1.78451613, 1.78451613, 1.78451613, 1.78451613,\n",
       "       1.78451613, 1.78451613, 1.78451613, 1.78451613, 1.78451613,\n",
       "       1.78451613, 1.78451613, 1.78451613, 1.78451613, 1.78451613,\n",
       "       1.78451613, 1.78451613, 1.78451613, 1.78451613, 1.78451613,\n",
       "       1.78451613, 1.78451613, 1.78451613, 1.78451613, 1.78451613,\n",
       "       1.78451613, 1.78451613, 1.78451613, 1.78451613, 1.78451613,\n",
       "       1.78451613, 1.78451613, 1.78451613, 1.78451613, 1.78451613,\n",
       "       1.78451613, 1.78451613, 1.78451613, 1.78451613, 1.78451613,\n",
       "       1.78451613, 1.78451613, 1.78451613, 1.78451613, 1.78451613,\n",
       "       1.78451613, 1.78451613, 1.78451613, 1.78451613, 1.78451613,\n",
       "       1.78451613, 1.78451613, 1.78451613, 1.78451613, 1.78451613,\n",
       "       1.78451613, 1.78451613, 1.78451613, 1.78451613, 1.78451613,\n",
       "       1.78451613, 1.78451613, 1.78451613, 1.78451613, 1.78451613,\n",
       "       1.78451613, 1.78451613, 1.78451613, 1.78451613, 1.78451613,\n",
       "       1.78451613, 1.78451613, 1.78451613, 1.78451613, 1.78451613,\n",
       "       1.78451613, 1.78451613, 1.78451613, 1.78451613, 1.78451613,\n",
       "       1.78451613, 1.78451613, 1.78451613, 1.78451613, 1.78451613,\n",
       "       1.78451613, 1.78451613, 1.78451613, 1.78451613, 1.78451613,\n",
       "       1.78451613, 1.78451613, 1.78451613, 1.78451613, 1.78451613,\n",
       "       1.78451613, 1.78451613, 1.78451613, 1.78451613, 1.78451613,\n",
       "       1.78451613, 1.78451613, 1.78451613, 1.78451613, 1.78451613,\n",
       "       1.78451613, 1.78451613, 1.78451613, 1.78451613, 1.78451613,\n",
       "       1.78451613, 1.78451613, 1.78451613, 1.78451613, 1.78451613,\n",
       "       1.78451613, 1.78451613, 1.78451613, 1.78451613, 1.78451613,\n",
       "       1.78451613, 1.78451613, 1.78451613, 1.78451613, 1.78451613,\n",
       "       1.78451613, 1.78451613, 1.78451613, 1.78451613, 1.78451613,\n",
       "       1.78451613, 1.78451613, 1.78451613, 1.78451613, 1.78451613,\n",
       "       1.78451613, 1.78451613, 1.78451613, 1.78451613, 1.78451613,\n",
       "       1.78451613, 1.78451613, 1.78451613, 1.78451613, 1.78451613,\n",
       "       1.78451613, 1.78451613, 1.78451613, 1.78451613, 1.78451613,\n",
       "       1.78451613, 1.78451613, 1.78451613, 1.78451613, 1.78451613,\n",
       "       1.78451613, 1.78451613, 1.78451613, 1.78451613, 1.78451613,\n",
       "       1.78451613, 1.78451613, 1.78451613, 1.78451613, 1.78451613,\n",
       "       1.78451613, 1.78451613, 1.78451613, 1.78451613, 1.78451613,\n",
       "       1.78451613, 1.78451613, 1.78451613, 1.78451613, 1.78451613,\n",
       "       1.78451613, 1.78451613, 1.78451613, 1.78451613, 1.78451613,\n",
       "       1.78451613, 1.78451613, 1.78451613, 1.78451613, 1.78451613,\n",
       "       1.78451613, 1.78451613, 1.78451613, 1.78451613, 1.78451613,\n",
       "       1.78451613, 1.78451613, 1.78451613, 1.78451613, 1.78451613,\n",
       "       1.78451613, 1.78451613, 1.78451613, 1.78451613, 1.78451613,\n",
       "       1.78451613, 1.78451613, 1.78451613, 1.78451613, 1.78451613,\n",
       "       1.78451613, 1.78451613, 1.78451613, 1.78451613, 1.78451613,\n",
       "       1.78451613, 1.78451613, 1.78451613, 1.78451613, 1.78451613,\n",
       "       1.78451613, 1.78451613, 1.78451613, 1.78451613, 1.78451613,\n",
       "       1.78451613, 1.78451613, 1.78451613, 1.78451613, 1.78451613,\n",
       "       1.78451613, 1.78451613, 1.78451613, 1.78451613, 1.78451613,\n",
       "       1.78451613, 1.78451613, 1.78451613, 1.78451613, 1.78451613,\n",
       "       1.78451613, 1.78451613, 1.78451613, 1.78451613, 1.78451613,\n",
       "       1.78451613, 1.78451613, 1.78451613, 1.78451613, 1.78451613,\n",
       "       1.78451613, 1.78451613, 1.78451613, 1.78451613, 1.78451613,\n",
       "       1.78451613, 1.78451613, 1.78451613, 1.78451613, 1.78451613,\n",
       "       1.78451613, 1.78451613, 1.78451613, 1.78451613, 1.78451613,\n",
       "       1.78451613, 1.78451613, 1.78451613, 1.78451613, 1.78451613,\n",
       "       1.78451613, 1.78451613, 1.78451613, 1.78451613, 1.78451613,\n",
       "       1.78451613, 1.78451613, 1.78451613, 1.78451613, 1.78451613,\n",
       "       1.78451613, 1.78451613, 1.78451613, 1.78451613, 1.78451613,\n",
       "       1.78451613, 1.78451613, 1.78451613, 1.78451613, 1.78451613,\n",
       "       1.78451613, 1.78451613, 1.78451613, 1.78451613, 1.78451613,\n",
       "       1.78451613, 1.78451613, 1.78451613, 1.78451613, 1.78451613,\n",
       "       1.78451613, 1.78451613, 1.78451613, 1.78451613, 1.78451613,\n",
       "       1.78451613, 1.78451613, 1.78451613, 1.78451613, 1.78451613,\n",
       "       1.78451613, 1.78451613, 1.78451613, 1.78451613, 1.78451613,\n",
       "       1.78451613, 1.78451613, 1.78451613, 1.78451613, 1.78451613,\n",
       "       1.78451613, 1.78451613, 1.78451613, 1.78451613, 1.78451613,\n",
       "       1.78451613, 1.78451613, 1.78451613, 1.78451613, 1.78451613,\n",
       "       1.78451613, 1.78451613, 1.78451613, 1.78451613, 1.78451613,\n",
       "       1.78451613, 1.78451613, 1.78451613, 1.78451613, 1.78451613,\n",
       "       1.78451613, 1.78451613, 1.78451613, 1.78451613, 1.78451613,\n",
       "       1.78451613, 1.78451613, 1.78451613, 1.78451613, 1.78451613,\n",
       "       1.78451613, 1.78451613, 1.78451613, 1.78451613, 1.78451613,\n",
       "       1.78451613, 1.78451613, 1.78451613, 1.78451613, 1.78451613,\n",
       "       1.78451613, 1.78451613, 1.78451613, 1.78451613, 1.78451613,\n",
       "       1.78451613, 1.78451613, 1.78451613, 1.78451613, 1.78451613,\n",
       "       1.78451613, 1.78451613, 1.78451613, 1.78451613, 1.78451613,\n",
       "       1.78451613, 1.78451613, 1.78451613, 1.78451613, 1.78451613,\n",
       "       1.78451613, 1.78451613, 1.78451613, 1.78451613, 1.78451613,\n",
       "       1.78451613, 1.78451613, 1.78451613, 1.78451613, 1.78451613,\n",
       "       1.78451613, 1.78451613, 1.78451613, 1.78451613, 1.78451613,\n",
       "       1.78451613, 1.78451613, 1.78451613, 1.78451613, 1.78451613,\n",
       "       1.78451613, 1.78451613, 1.78451613, 1.78451613, 1.78451613,\n",
       "       1.78451613, 1.78451613, 1.78451613, 1.78451613, 1.78451613,\n",
       "       1.78451613, 1.78451613, 1.78451613, 1.78451613, 1.78451613,\n",
       "       1.78451613, 1.78451613, 1.78451613, 1.78451613, 1.78451613,\n",
       "       1.78451613, 1.78451613, 1.78451613, 1.78451613, 1.78451613,\n",
       "       1.78451613, 1.78451613, 1.78451613, 1.78451613, 1.78451613,\n",
       "       1.78451613, 1.78451613, 1.78451613, 1.78451613, 1.78451613,\n",
       "       1.78451613, 1.78451613, 1.78451613, 1.78451613, 1.78451613,\n",
       "       1.78451613, 1.78451613, 1.78451613, 1.78451613, 1.78451613,\n",
       "       1.78451613, 1.78451613, 1.78451613, 1.78451613, 1.78451613,\n",
       "       1.78451613, 1.78451613, 1.78451613, 1.78451613, 1.78451613,\n",
       "       1.78451613, 1.78451613, 1.78451613, 1.78451613, 1.78451613,\n",
       "       1.78451613, 1.78451613, 1.78451613, 1.78451613, 1.78451613,\n",
       "       1.78451613, 1.78451613, 1.78451613, 1.78451613, 1.78451613,\n",
       "       1.78451613, 1.78451613, 1.78451613, 1.78451613, 1.78451613,\n",
       "       1.78451613, 1.78451613, 1.78451613, 1.78451613, 1.78451613,\n",
       "       1.78451613, 1.78451613, 1.78451613, 1.78451613, 1.78451613,\n",
       "       1.78451613, 1.78451613, 1.78451613, 1.78451613, 1.78451613,\n",
       "       1.78451613, 1.78451613, 1.78451613, 1.78451613, 1.78451613,\n",
       "       1.78451613, 1.78451613, 1.78451613, 1.78451613, 1.78451613,\n",
       "       1.78451613, 1.78451613, 1.78451613, 1.78451613, 1.78451613,\n",
       "       1.78451613, 1.78451613, 1.78451613, 1.78451613, 1.78451613,\n",
       "       1.78451613, 1.78451613, 1.78451613, 1.78451613, 1.78451613,\n",
       "       1.78451613, 1.78451613, 1.78451613, 1.78451613, 1.78451613,\n",
       "       1.78451613, 1.78451613, 1.78451613, 1.78451613, 1.78451613,\n",
       "       1.78451613, 1.78451613, 1.78451613, 1.78451613, 1.78451613,\n",
       "       1.78451613, 1.78451613, 1.78451613, 1.78451613, 1.78451613,\n",
       "       1.78451613, 1.78451613, 1.78451613, 1.78451613, 1.78451613,\n",
       "       1.78451613, 1.78451613, 1.78451613, 1.78451613, 1.78451613,\n",
       "       1.78451613, 1.78451613, 1.78451613, 1.78451613, 1.78451613,\n",
       "       1.78451613, 1.78451613, 1.78451613, 1.78451613, 1.78451613,\n",
       "       1.78451613, 1.78451613, 1.78451613, 1.78451613, 1.78451613,\n",
       "       1.78451613, 1.78451613, 1.78451613, 1.78451613, 1.78451613,\n",
       "       1.78451613, 1.78451613, 1.78451613, 1.78451613, 1.78451613,\n",
       "       1.78451613, 1.78451613, 1.78451613, 1.78451613, 1.78451613,\n",
       "       1.78451613, 1.78451613, 1.78451613, 1.78451613, 1.78451613,\n",
       "       1.78451613, 1.78451613, 1.78451613, 1.78451613, 1.78451613,\n",
       "       1.78451613, 1.78451613, 1.78451613, 1.78451613, 1.78451613,\n",
       "       1.78451613, 1.78451613, 1.78451613, 1.78451613, 1.78451613,\n",
       "       1.78451613, 1.78451613, 1.78451613, 1.78451613, 1.78451613,\n",
       "       1.78451613, 1.78451613, 1.78451613, 1.78451613, 1.78451613,\n",
       "       1.78451613, 1.78451613, 1.78451613, 1.78451613, 1.78451613,\n",
       "       1.78451613, 1.78451613, 1.78451613, 1.78451613, 1.78451613,\n",
       "       1.78451613, 1.78451613, 1.78451613, 1.78451613, 1.78451613,\n",
       "       1.78451613, 1.78451613, 1.78451613, 1.78451613, 1.78451613,\n",
       "       1.78451613, 1.78451613, 1.78451613, 1.78451613, 1.78451613,\n",
       "       1.78451613, 1.78451613, 1.78451613, 1.78451613, 1.78451613,\n",
       "       1.78451613, 1.78451613, 1.78451613, 1.78451613, 1.78451613,\n",
       "       1.78451613, 1.78451613, 1.78451613, 1.78451613, 1.78451613,\n",
       "       1.78451613, 1.78451613, 1.78451613, 1.78451613, 1.78451613,\n",
       "       1.78451613, 1.78451613, 1.78451613, 1.78451613, 1.78451613,\n",
       "       1.78451613, 1.78451613, 1.78451613, 1.78451613, 1.78451613,\n",
       "       1.78451613, 1.78451613, 1.78451613, 1.78451613, 1.78451613,\n",
       "       1.78451613, 1.78451613, 1.78451613, 1.78451613, 1.78451613,\n",
       "       1.78451613, 1.78451613, 1.78451613, 1.78451613, 1.78451613,\n",
       "       1.78451613, 1.78451613, 1.78451613, 1.78451613, 1.78451613,\n",
       "       1.78451613, 1.78451613, 1.78451613, 1.78451613, 1.78451613,\n",
       "       1.78451613, 1.78451613, 1.78451613, 1.78451613, 1.78451613,\n",
       "       1.78451613, 1.78451613, 1.78451613, 1.78451613, 1.78451613,\n",
       "       1.78451613, 1.78451613, 1.78451613, 1.78451613, 1.78451613,\n",
       "       1.78451613, 1.78451613, 1.78451613, 1.78451613, 1.78451613,\n",
       "       1.78451613, 1.78451613, 1.78451613, 1.78451613, 1.78451613,\n",
       "       1.78451613, 1.78451613, 1.78451613, 1.78451613, 1.78451613,\n",
       "       1.78451613, 1.78451613, 1.78451613, 1.78451613, 1.78451613,\n",
       "       1.78451613, 1.78451613, 1.78451613, 1.78451613, 1.78451613])"
      ]
     },
     "execution_count": 182,
     "metadata": {},
     "output_type": "execute_result"
    }
   ],
   "source": [
    "dummy_regr.predict(X)"
   ]
  },
  {
   "cell_type": "code",
   "execution_count": 183,
   "id": "2b49a5d1",
   "metadata": {},
   "outputs": [
    {
     "data": {
      "text/plain": [
       "0.0"
      ]
     },
     "execution_count": 183,
     "metadata": {},
     "output_type": "execute_result"
    }
   ],
   "source": [
    "dummy_regr.score(X, y) #our baseline"
   ]
  },
  {
   "cell_type": "code",
   "execution_count": 184,
   "id": "a56464c0",
   "metadata": {},
   "outputs": [
    {
     "name": "stdout",
     "output_type": "stream",
     "text": [
      "baseline: 1.8\n"
     ]
    }
   ],
   "source": [
    "# The mean Baseline of 'Rented Bike Count' is near 735\n",
    "\n",
    "baseline_acc = y_train.mean()\n",
    "print('baseline:', round(baseline_acc, 1))"
   ]
  },
  {
   "cell_type": "code",
   "execution_count": 185,
   "id": "60bb8911",
   "metadata": {},
   "outputs": [
    {
     "name": "stdout",
     "output_type": "stream",
     "text": [
      "Baseline - Training Metrics\n",
      "Baseline MAE: 1.040582726326743\n",
      "Baseline MSE: 1.3947970863683663\n",
      "Baseline RMSE: 1.1810152777878729\n",
      "Baseline R2: 0.0\n"
     ]
    }
   ],
   "source": [
    "#R2 equals to 0 is our horizontal line\n",
    "from sklearn.metrics import mean_absolute_error, mean_squared_error, r2_score\n",
    "import math\n",
    "y_pred_baseline = [baseline_acc] * len(X_train)\n",
    "print('Baseline - Training Metrics')\n",
    "print('Baseline MAE:', mean_absolute_error(y_train, y_pred_baseline)) #the prediction of MAE\n",
    "print('Baseline MSE:', mean_squared_error(y_train, y_pred_baseline))#the prediction of MSE\n",
    "print('Baseline RMSE:', math.sqrt(mean_squared_error(y_train, y_pred_baseline))) #the prediction of RMSE\n",
    "print('Baseline R2:', r2_score(y_train, y_pred_baseline)) #the prediction of R2,which is the same as dummy_mean"
   ]
  },
  {
   "cell_type": "code",
   "execution_count": 186,
   "id": "f771916a",
   "metadata": {},
   "outputs": [
    {
     "name": "stdout",
     "output_type": "stream",
     "text": [
      "Linear Regression - Training Metrics\n",
      "MAE: 1.0105472497825083\n",
      "MSE: 1.356729875690355\n",
      "RMSE: 1.164787480912443\n",
      "R2: 0.00209885250761066\n"
     ]
    }
   ],
   "source": [
    "import numpy as np #linear regression\n",
    "from sklearn.linear_model import LinearRegression\n",
    "from sklearn.metrics import mean_absolute_error\n",
    "from sklearn.metrics import mean_squared_error\n",
    "from sklearn.model_selection import cross_val_score\n",
    "\n",
    "lr_model= LinearRegression()\n",
    "lr_model.fit(X_train, y_train)\n",
    "y_pred_train_lr = lr_model.predict(X_train)\n",
    "print('Linear Regression - Training Metrics')\n",
    "print('MAE:', mean_absolute_error(y_train, y_pred_train_lr))\n",
    "print('MSE:', mean_squared_error(y_train, y_pred_train_lr))\n",
    "print('RMSE:',math.sqrt(mean_squared_error(y_train, y_pred_train_lr)))\n",
    "print('R2:', cross_val_score(lr_model, X_train, y_train, cv=5, n_jobs=-1).mean())"
   ]
  },
  {
   "cell_type": "code",
   "execution_count": 187,
   "id": "9e250bde",
   "metadata": {},
   "outputs": [],
   "source": [
    "from sklearn.ensemble import RandomForestRegressor\n",
    "from sklearn.datasets import make_regression\n",
    "from sklearn.metrics import r2_score"
   ]
  },
  {
   "cell_type": "code",
   "execution_count": 188,
   "id": "db0b942f",
   "metadata": {},
   "outputs": [
    {
     "data": {
      "text/html": [
       "<style>#sk-container-id-6 {color: black;background-color: white;}#sk-container-id-6 pre{padding: 0;}#sk-container-id-6 div.sk-toggleable {background-color: white;}#sk-container-id-6 label.sk-toggleable__label {cursor: pointer;display: block;width: 100%;margin-bottom: 0;padding: 0.3em;box-sizing: border-box;text-align: center;}#sk-container-id-6 label.sk-toggleable__label-arrow:before {content: \"▸\";float: left;margin-right: 0.25em;color: #696969;}#sk-container-id-6 label.sk-toggleable__label-arrow:hover:before {color: black;}#sk-container-id-6 div.sk-estimator:hover label.sk-toggleable__label-arrow:before {color: black;}#sk-container-id-6 div.sk-toggleable__content {max-height: 0;max-width: 0;overflow: hidden;text-align: left;background-color: #f0f8ff;}#sk-container-id-6 div.sk-toggleable__content pre {margin: 0.2em;color: black;border-radius: 0.25em;background-color: #f0f8ff;}#sk-container-id-6 input.sk-toggleable__control:checked~div.sk-toggleable__content {max-height: 200px;max-width: 100%;overflow: auto;}#sk-container-id-6 input.sk-toggleable__control:checked~label.sk-toggleable__label-arrow:before {content: \"▾\";}#sk-container-id-6 div.sk-estimator input.sk-toggleable__control:checked~label.sk-toggleable__label {background-color: #d4ebff;}#sk-container-id-6 div.sk-label input.sk-toggleable__control:checked~label.sk-toggleable__label {background-color: #d4ebff;}#sk-container-id-6 input.sk-hidden--visually {border: 0;clip: rect(1px 1px 1px 1px);clip: rect(1px, 1px, 1px, 1px);height: 1px;margin: -1px;overflow: hidden;padding: 0;position: absolute;width: 1px;}#sk-container-id-6 div.sk-estimator {font-family: monospace;background-color: #f0f8ff;border: 1px dotted black;border-radius: 0.25em;box-sizing: border-box;margin-bottom: 0.5em;}#sk-container-id-6 div.sk-estimator:hover {background-color: #d4ebff;}#sk-container-id-6 div.sk-parallel-item::after {content: \"\";width: 100%;border-bottom: 1px solid gray;flex-grow: 1;}#sk-container-id-6 div.sk-label:hover label.sk-toggleable__label {background-color: #d4ebff;}#sk-container-id-6 div.sk-serial::before {content: \"\";position: absolute;border-left: 1px solid gray;box-sizing: border-box;top: 0;bottom: 0;left: 50%;z-index: 0;}#sk-container-id-6 div.sk-serial {display: flex;flex-direction: column;align-items: center;background-color: white;padding-right: 0.2em;padding-left: 0.2em;position: relative;}#sk-container-id-6 div.sk-item {position: relative;z-index: 1;}#sk-container-id-6 div.sk-parallel {display: flex;align-items: stretch;justify-content: center;background-color: white;position: relative;}#sk-container-id-6 div.sk-item::before, #sk-container-id-6 div.sk-parallel-item::before {content: \"\";position: absolute;border-left: 1px solid gray;box-sizing: border-box;top: 0;bottom: 0;left: 50%;z-index: -1;}#sk-container-id-6 div.sk-parallel-item {display: flex;flex-direction: column;z-index: 1;position: relative;background-color: white;}#sk-container-id-6 div.sk-parallel-item:first-child::after {align-self: flex-end;width: 50%;}#sk-container-id-6 div.sk-parallel-item:last-child::after {align-self: flex-start;width: 50%;}#sk-container-id-6 div.sk-parallel-item:only-child::after {width: 0;}#sk-container-id-6 div.sk-dashed-wrapped {border: 1px dashed gray;margin: 0 0.4em 0.5em 0.4em;box-sizing: border-box;padding-bottom: 0.4em;background-color: white;}#sk-container-id-6 div.sk-label label {font-family: monospace;font-weight: bold;display: inline-block;line-height: 1.2em;}#sk-container-id-6 div.sk-label-container {text-align: center;}#sk-container-id-6 div.sk-container {/* jupyter's `normalize.less` sets `[hidden] { display: none; }` but bootstrap.min.css set `[hidden] { display: none !important; }` so we also need the `!important` here to be able to override the default hidden behavior on the sphinx rendered scikit-learn.org. See: https://github.com/scikit-learn/scikit-learn/issues/21755 */display: inline-block !important;position: relative;}#sk-container-id-6 div.sk-text-repr-fallback {display: none;}</style><div id=\"sk-container-id-6\" class=\"sk-top-container\"><div class=\"sk-text-repr-fallback\"><pre>RandomForestRegressor(max_depth=21, random_state=42)</pre><b>In a Jupyter environment, please rerun this cell to show the HTML representation or trust the notebook. <br />On GitHub, the HTML representation is unable to render, please try loading this page with nbviewer.org.</b></div><div class=\"sk-container\" hidden><div class=\"sk-item\"><div class=\"sk-estimator sk-toggleable\"><input class=\"sk-toggleable__control sk-hidden--visually\" id=\"sk-estimator-id-6\" type=\"checkbox\" checked><label for=\"sk-estimator-id-6\" class=\"sk-toggleable__label sk-toggleable__label-arrow\">RandomForestRegressor</label><div class=\"sk-toggleable__content\"><pre>RandomForestRegressor(max_depth=21, random_state=42)</pre></div></div></div></div></div>"
      ],
      "text/plain": [
       "RandomForestRegressor(max_depth=21, random_state=42)"
      ]
     },
     "execution_count": 188,
     "metadata": {},
     "output_type": "execute_result"
    }
   ],
   "source": [
    "rf_model=RandomForestRegressor( #RandomForest\n",
    "         random_state=42,n_estimators=100,\n",
    "        max_depth=21)\n",
    "rf_model.fit(X_train, y_train)"
   ]
  },
  {
   "cell_type": "code",
   "execution_count": 189,
   "id": "b471124d",
   "metadata": {},
   "outputs": [
    {
     "name": "stdout",
     "output_type": "stream",
     "text": [
      "Random Forest - Training Metrics\n",
      "MAE: 0.9045915231203876\n",
      "MSE: 1.1868915080505604\n",
      "RMSE: 1.0894455048558236\n",
      "R2: -0.07942382876237115\n"
     ]
    }
   ],
   "source": [
    "y_pred_train_rf = rf_model.predict(X_train)\n",
    "print('Random Forest - Training Metrics')\n",
    "print('MAE:', mean_absolute_error(y_train, y_pred_train_rf))\n",
    "print('MSE:', mean_squared_error(y_train, y_pred_train_rf))\n",
    "print('RMSE:',math.sqrt(mean_squared_error(y_train, y_pred_train_rf)))\n",
    "print('R2:', cross_val_score(rf_model, X_train, y_train, cv=5, n_jobs=-1).mean())"
   ]
  },
  {
   "cell_type": "code",
   "execution_count": 190,
   "id": "57b9b368",
   "metadata": {},
   "outputs": [
    {
     "name": "stdout",
     "output_type": "stream",
     "text": [
      "Random Forest - Test Metrics\n",
      "MAE: 1.0142315013429744\n",
      "MSE: 1.491510897072813\n",
      "RMSE: 1.2212742923163546\n",
      "R2: -0.08444590287103315\n"
     ]
    }
   ],
   "source": [
    "y_pred_test_rf = rf_model.predict(X_test) #test on the test sets\n",
    "print('Random Forest - Test Metrics')\n",
    "print('MAE:', mean_absolute_error(y_test, y_pred_test_rf))\n",
    "print('MSE:', mean_squared_error(y_test, y_pred_test_rf))\n",
    "print('RMSE:',math.sqrt(mean_squared_error(y_test, y_pred_test_rf)))\n",
    "print('R2:', r2_score(y_test, y_pred_test_rf))"
   ]
  },
  {
   "cell_type": "markdown",
   "id": "ccf92aa3",
   "metadata": {},
   "source": [
    "## Glv"
   ]
  },
  {
   "cell_type": "code",
   "execution_count": 92,
   "id": "504dc8ae",
   "metadata": {},
   "outputs": [],
   "source": [
    "food_safety_tz_glv=food_safety_tz.loc[food_safety_tz['id_proj'] == 'glv']#select the GLV project from the data"
   ]
  },
  {
   "cell_type": "code",
   "execution_count": 93,
   "id": "d474df9c",
   "metadata": {},
   "outputs": [],
   "source": [
    "land_cultivated_data_glv=food_safety_tz_glv['land_cultivated_ha'] #select column land_cultivated_ha from dataset\n",
    "hh_size_members_glv=food_safety_tz_glv['hh_size_members']\n",
    "hfias_hh_glv = food_safety_tz_glv['hfias_status']"
   ]
  },
  {
   "cell_type": "code",
   "execution_count": 94,
   "id": "c80b6447",
   "metadata": {
    "scrolled": true
   },
   "outputs": [
    {
     "data": {
      "text/plain": [
       "<matplotlib.collections.PathCollection at 0x23e5fddff70>"
      ]
     },
     "execution_count": 94,
     "metadata": {},
     "output_type": "execute_result"
    },
    {
     "data": {
      "image/png": "[encoded data removed]",
      "text/plain": [
       "<Figure size 432x288 with 1 Axes>"
      ]
     },
     "metadata": {
      "needs_background": "light"
     },
     "output_type": "display_data"
    }
   ],
   "source": [
    "plt.scatter(land_cultivated_data_glv,hh_size_members_glv) "
   ]
  },
  {
   "cell_type": "code",
   "execution_count": 95,
   "id": "222188b9",
   "metadata": {},
   "outputs": [],
   "source": [
    "land_cultivated_data_glv_1=food_safety_tz_glv.loc[food_safety_tz_glv['land_cultivated_ha'] <20] #select the value <20\n",
    "land_cultivated_data_glv=land_cultivated_data_glv_1['land_cultivated_ha'] #select column land_cultivated_ha from dataset\n",
    "hh_size_members_glv=land_cultivated_data_glv_1['hh_size_members']\n",
    "hfias_hh_glv = land_cultivated_data_glv_1['hfias_status']"
   ]
  },
  {
   "cell_type": "code",
   "execution_count": 96,
   "id": "1996afc8",
   "metadata": {},
   "outputs": [],
   "source": [
    "land_cultivated_data_glv_2=land_cultivated_data_glv_1.loc[food_safety_tz_glv['hh_size_members'] <15] #select the value <15\n",
    "land_cultivated_data_glv=land_cultivated_data_glv_2['land_cultivated_ha'] #select column land_cultivated_ha from dataset\n",
    "hh_size_members_glv=land_cultivated_data_glv_2['hh_size_members']\n",
    "hfias_hh_glv = land_cultivated_data_glv_2['hfias_status']"
   ]
  },
  {
   "cell_type": "code",
   "execution_count": 97,
   "id": "afe14094",
   "metadata": {},
   "outputs": [
    {
     "name": "stdout",
     "output_type": "stream",
     "text": [
      "                    hfias_status  hh_size_members  land_cultivated_ha\n",
      "hfias_status            1.000000        -0.022443            0.040748\n",
      "hh_size_members        -0.022443         1.000000            0.242989\n",
      "land_cultivated_ha      0.040748         0.242989            1.000000\n"
     ]
    },
    {
     "data": {
      "image/png": "[encoded data removed]",
      "text/plain": [
       "<Figure size 432x288 with 2 Axes>"
      ]
     },
     "metadata": {
      "needs_background": "light"
     },
     "output_type": "display_data"
    }
   ],
   "source": [
    "df_food_glv = pd.DataFrame(land_cultivated_data_glv_2,columns=['hfias_status','hh_size_members','land_cultivated_ha'])\n",
    "corrMatrix_glv = df_food_glv.corr()\n",
    "print (corrMatrix_glv) \n",
    "sn.heatmap(corrMatrix_glv, annot=True)\n",
    "plt.show()"
   ]
  },
  {
   "cell_type": "code",
   "execution_count": 98,
   "id": "997e6864",
   "metadata": {},
   "outputs": [
    {
     "data": {
      "text/plain": [
       "Text(0.5, 1.0, 'hfias_glv')"
      ]
     },
     "execution_count": 98,
     "metadata": {},
     "output_type": "execute_result"
    },
    {
     "data": {
      "image/png": "[encoded data removed]",
      "text/plain": [
       "<Figure size 432x288 with 1 Axes>"
      ]
     },
     "metadata": {
      "needs_background": "light"
     },
     "output_type": "display_data"
    }
   ],
   "source": [
    "fig, ax = plt.subplots()\n",
    "ax.violinplot([hfias_hh_glv])\n",
    "ax.set_title('hfias_glv')"
   ]
  },
  {
   "cell_type": "code",
   "execution_count": 99,
   "id": "cc76873b",
   "metadata": {},
   "outputs": [
    {
     "data": {
      "text/plain": [
       "<matplotlib.collections.PathCollection at 0x23e5ff3e4d0>"
      ]
     },
     "execution_count": 99,
     "metadata": {},
     "output_type": "execute_result"
    },
    {
     "data": {
      "image/png": "[encoded data removed]",
      "text/plain": [
       "<Figure size 432x288 with 1 Axes>"
      ]
     },
     "metadata": {
      "needs_background": "light"
     },
     "output_type": "display_data"
    }
   ],
   "source": [
    "plt.scatter(land_cultivated_data_glv,hfias_hh_glv) "
   ]
  },
  {
   "cell_type": "code",
   "execution_count": 100,
   "id": "f2dfc3e5",
   "metadata": {},
   "outputs": [
    {
     "data": {
      "text/plain": [
       "<matplotlib.collections.PathCollection at 0x23e5ff96890>"
      ]
     },
     "execution_count": 100,
     "metadata": {},
     "output_type": "execute_result"
    },
    {
     "data": {
      "image/png": "[encoded data removed]",
      "text/plain": [
       "<Figure size 432x288 with 1 Axes>"
      ]
     },
     "metadata": {
      "needs_background": "light"
     },
     "output_type": "display_data"
    }
   ],
   "source": [
    "plt.scatter(hh_size_members_glv,hfias_hh_glv) "
   ]
  },
  {
   "cell_type": "code",
   "execution_count": null,
   "id": "847e1161",
   "metadata": {},
   "outputs": [],
   "source": []
  },
  {
   "cell_type": "code",
   "execution_count": 101,
   "id": "e120a365",
   "metadata": {},
   "outputs": [
    {
     "name": "stdout",
     "output_type": "stream",
     "text": [
      "[[11.89344384  0.16625753]\n",
      " [ 0.16625753  1.39973652]]\n",
      "[[1.         0.04074782]\n",
      " [0.04074782 1.        ]]\n"
     ]
    }
   ],
   "source": [
    "import numpy as np\n",
    "cov_land_cultivated_ha_glv = np.cov(land_cultivated_data_glv, hfias_hh_glv)\n",
    "corrcoef_land_cultivated_ha_glv=np.corrcoef(land_cultivated_data_glv,hfias_hh_glv)#land_cultivated_ha\n",
    "print(cov_land_cultivated_ha_glv)\n",
    "print(corrcoef_land_cultivated_ha_glv) #plot"
   ]
  },
  {
   "cell_type": "code",
   "execution_count": 102,
   "id": "0834007a",
   "metadata": {},
   "outputs": [
    {
     "name": "stdout",
     "output_type": "stream",
     "text": [
      "[[ 7.85876954 -0.07443636]\n",
      " [-0.07443636  1.39973652]]\n",
      "[[ 1.        -0.0224432]\n",
      " [-0.0224432  1.       ]]\n"
     ]
    }
   ],
   "source": [
    "import numpy as np\n",
    "cov_hh_size_members_glv = np.cov(hh_size_members_glv, hfias_hh_glv)\n",
    "corrcoef_hh_size_members_glv=np.corrcoef(hh_size_members_glv,hfias_hh_glv)#land_cultivated_ha\n",
    "print(cov_hh_size_members_glv)\n",
    "print(corrcoef_hh_size_members_glv) #plot"
   ]
  },
  {
   "cell_type": "code",
   "execution_count": 103,
   "id": "09e3f5f7",
   "metadata": {},
   "outputs": [
    {
     "data": {
      "image/png": "[encoded data removed]",
      "text/plain": [
       "<Figure size 432x288 with 1 Axes>"
      ]
     },
     "metadata": {
      "needs_background": "light"
     },
     "output_type": "display_data"
    },
    {
     "data": {
      "image/png": "[encoded data removed]",
      "text/plain": [
       "<Figure size 360x360 with 1 Axes>"
      ]
     },
     "metadata": {
      "needs_background": "light"
     },
     "output_type": "display_data"
    }
   ],
   "source": [
    "import seaborn as sns\n",
    "ax1=sns.scatterplot(x='hh_size_members', y='hfias_status', data=land_cultivated_data_glv_2);\n",
    "ax1.set_title(\"hh_size_members vs. hfias_status\")\n",
    "ax.set_xlabel(\"hh_size_members\");\n",
    "sns.lmplot(x='hh_size_members', y='hfias_status', data=land_cultivated_data_glv_2);"
   ]
  },
  {
   "cell_type": "code",
   "execution_count": 104,
   "id": "9919c53c",
   "metadata": {},
   "outputs": [
    {
     "data": {
      "image/png": "[encoded data removed]",
      "text/plain": [
       "<Figure size 432x288 with 1 Axes>"
      ]
     },
     "metadata": {
      "needs_background": "light"
     },
     "output_type": "display_data"
    },
    {
     "data": {
      "image/png": "[encoded data removed]",
      "text/plain": [
       "<Figure size 360x360 with 1 Axes>"
      ]
     },
     "metadata": {
      "needs_background": "light"
     },
     "output_type": "display_data"
    }
   ],
   "source": [
    "import seaborn as sns\n",
    "ax1=sns.scatterplot(x='land_cultivated_ha', y='hfias_status', data=land_cultivated_data_glv_2);\n",
    "ax1.set_title(\"land_cultivated vs. hfias_status\")\n",
    "ax.set_xlabel(\"land_cultivated\");\n",
    "sns.lmplot(x='land_cultivated_ha', y='hfias_status', data=land_cultivated_data_glv_2);"
   ]
  },
  {
   "cell_type": "markdown",
   "id": "38d3da2a",
   "metadata": {},
   "source": [
    "## Srl"
   ]
  },
  {
   "cell_type": "code",
   "execution_count": 105,
   "id": "7fddbafe",
   "metadata": {},
   "outputs": [],
   "source": [
    "food_safety_tz_srl=food_safety_tz.loc[food_safety_tz['id_proj'] == 'srl']#select the GLV project from the data"
   ]
  },
  {
   "cell_type": "code",
   "execution_count": 106,
   "id": "5affc2fe",
   "metadata": {},
   "outputs": [],
   "source": [
    "land_cultivated_data_srl=food_safety_tz_srl['land_cultivated_ha'] #select column land_cultivated_ha from dataset\n",
    "hh_size_members_srl=food_safety_tz_srl['hh_size_members']\n",
    "hfias_hh_srl = food_safety_tz_srl['hfias_status']"
   ]
  },
  {
   "cell_type": "code",
   "execution_count": 107,
   "id": "5016d4f5",
   "metadata": {},
   "outputs": [
    {
     "data": {
      "text/plain": [
       "<matplotlib.collections.PathCollection at 0x23e60193b20>"
      ]
     },
     "execution_count": 107,
     "metadata": {},
     "output_type": "execute_result"
    },
    {
     "data": {
      "image/png": "[encoded data removed]",
      "text/plain": [
       "<Figure size 432x288 with 1 Axes>"
      ]
     },
     "metadata": {
      "needs_background": "light"
     },
     "output_type": "display_data"
    }
   ],
   "source": [
    "plt.scatter(land_cultivated_data_srl,hh_size_members_srl) "
   ]
  },
  {
   "cell_type": "code",
   "execution_count": 108,
   "id": "23e8c01e",
   "metadata": {},
   "outputs": [],
   "source": [
    "land_cultivated_data_srl_1=food_safety_tz_srl.loc[food_safety_tz_srl['land_cultivated_ha'] <15] #select the value <6\n",
    "land_cultivated_data_srl=land_cultivated_data_srl_1['land_cultivated_ha'] #select column land_cultivated_ha from dataset\n",
    "hh_size_members_srl=land_cultivated_data_srl_1['hh_size_members']\n",
    "hfias_hh_srl = land_cultivated_data_srl_1['hfias_status']"
   ]
  },
  {
   "cell_type": "code",
   "execution_count": 109,
   "id": "cd1b3bdd",
   "metadata": {},
   "outputs": [
    {
     "name": "stdout",
     "output_type": "stream",
     "text": [
      "                    hfias_status  hh_size_members  land_cultivated_ha\n",
      "hfias_status            1.000000        -0.032212           -0.143379\n",
      "hh_size_members        -0.032212         1.000000            0.091301\n",
      "land_cultivated_ha     -0.143379         0.091301            1.000000\n"
     ]
    },
    {
     "data": {
      "image/png": "[encoded data removed]",
      "text/plain": [
       "<Figure size 432x288 with 2 Axes>"
      ]
     },
     "metadata": {
      "needs_background": "light"
     },
     "output_type": "display_data"
    }
   ],
   "source": [
    "df_food_srl = pd.DataFrame(land_cultivated_data_srl_1,columns=['hfias_status','hh_size_members','land_cultivated_ha'])\n",
    "corrMatrix_srl = df_food_srl.corr()\n",
    "print (corrMatrix_srl) \n",
    "sn.heatmap(corrMatrix_srl, annot=True)\n",
    "plt.show()"
   ]
  },
  {
   "cell_type": "code",
   "execution_count": 110,
   "id": "4abc9b3a",
   "metadata": {},
   "outputs": [
    {
     "data": {
      "text/plain": [
       "Text(0.5, 1.0, 'hfias_srl')"
      ]
     },
     "execution_count": 110,
     "metadata": {},
     "output_type": "execute_result"
    },
    {
     "data": {
      "image/png": "[encoded data removed]",
      "text/plain": [
       "<Figure size 432x288 with 1 Axes>"
      ]
     },
     "metadata": {
      "needs_background": "light"
     },
     "output_type": "display_data"
    }
   ],
   "source": [
    "fig, ax = plt.subplots()\n",
    "ax.violinplot([hfias_hh_srl])\n",
    "ax.set_title('hfias_srl')"
   ]
  },
  {
   "cell_type": "code",
   "execution_count": 111,
   "id": "9203846f",
   "metadata": {},
   "outputs": [
    {
     "data": {
      "text/plain": [
       "<matplotlib.collections.PathCollection at 0x23e60218790>"
      ]
     },
     "execution_count": 111,
     "metadata": {},
     "output_type": "execute_result"
    },
    {
     "data": {
      "image/png": "[encoded data removed]",
      "text/plain": [
       "<Figure size 432x288 with 1 Axes>"
      ]
     },
     "metadata": {
      "needs_background": "light"
     },
     "output_type": "display_data"
    }
   ],
   "source": [
    "plt.scatter(land_cultivated_data_srl,hfias_hh_srl) "
   ]
  },
  {
   "cell_type": "code",
   "execution_count": 112,
   "id": "9ad70dc1",
   "metadata": {},
   "outputs": [
    {
     "data": {
      "text/plain": [
       "<matplotlib.collections.PathCollection at 0x23e601d9c60>"
      ]
     },
     "execution_count": 112,
     "metadata": {},
     "output_type": "execute_result"
    },
    {
     "data": {
      "image/png": "[encoded data removed]",
      "text/plain": [
       "<Figure size 432x288 with 1 Axes>"
      ]
     },
     "metadata": {
      "needs_background": "light"
     },
     "output_type": "display_data"
    }
   ],
   "source": [
    "plt.scatter(hh_size_members_srl,hfias_hh_srl) "
   ]
  },
  {
   "cell_type": "code",
   "execution_count": 113,
   "id": "9f57cff4",
   "metadata": {},
   "outputs": [
    {
     "name": "stdout",
     "output_type": "stream",
     "text": [
      "[[ 7.23908214 -0.49678543]\n",
      " [-0.49678543  1.65837692]]\n",
      "[[ 1.         -0.14337898]\n",
      " [-0.14337898  1.        ]]\n"
     ]
    }
   ],
   "source": [
    "import numpy as np\n",
    "cov_land_cultivated_ha_srl = np.cov(land_cultivated_data_srl, hfias_hh_srl)\n",
    "corrcoef_land_cultivated_ha_srl=np.corrcoef(land_cultivated_data_srl,hfias_hh_srl)#land_cultivated_ha\n",
    "print(cov_land_cultivated_ha_srl)\n",
    "print(corrcoef_land_cultivated_ha_srl) #plot"
   ]
  },
  {
   "cell_type": "code",
   "execution_count": 114,
   "id": "c7568eb9",
   "metadata": {},
   "outputs": [
    {
     "name": "stdout",
     "output_type": "stream",
     "text": [
      "[[ 9.52184864 -0.12800371]\n",
      " [-0.12800371  1.65837692]]\n",
      "[[ 1.         -0.03221219]\n",
      " [-0.03221219  1.        ]]\n"
     ]
    }
   ],
   "source": [
    "import numpy as np\n",
    "cov_hh_size_members_srl = np.cov(hh_size_members_srl, hfias_hh_srl)\n",
    "corrcoef_hh_size_members_srl=np.corrcoef(hh_size_members_srl,hfias_hh_srl)#land_cultivated_ha\n",
    "print(cov_hh_size_members_srl)\n",
    "print(corrcoef_hh_size_members_srl) #plot"
   ]
  },
  {
   "cell_type": "code",
   "execution_count": 115,
   "id": "805d9ca3",
   "metadata": {},
   "outputs": [
    {
     "data": {
      "image/png": "[encoded data removed]",
      "text/plain": [
       "<Figure size 432x288 with 1 Axes>"
      ]
     },
     "metadata": {
      "needs_background": "light"
     },
     "output_type": "display_data"
    },
    {
     "data": {
      "image/png": "[encoded data removed]",
      "text/plain": [
       "<Figure size 360x360 with 1 Axes>"
      ]
     },
     "metadata": {
      "needs_background": "light"
     },
     "output_type": "display_data"
    }
   ],
   "source": [
    "import seaborn as sns\n",
    "ax1=sns.scatterplot(x='hh_size_members', y='hfias_status', data=land_cultivated_data_srl_1);\n",
    "ax1.set_title(\"hh_size_members vs. hfias_status\")\n",
    "ax.set_xlabel(\"hh_size_members\");\n",
    "sns.lmplot(x='hh_size_members', y='hfias_status', data=land_cultivated_data_srl_1);"
   ]
  },
  {
   "cell_type": "code",
   "execution_count": 116,
   "id": "528407d4",
   "metadata": {},
   "outputs": [
    {
     "data": {
      "image/png": "[encoded data removed]",
      "text/plain": [
       "<Figure size 432x288 with 1 Axes>"
      ]
     },
     "metadata": {
      "needs_background": "light"
     },
     "output_type": "display_data"
    },
    {
     "data": {
      "image/png": "[encoded data removed]",
      "text/plain": [
       "<Figure size 360x360 with 1 Axes>"
      ]
     },
     "metadata": {
      "needs_background": "light"
     },
     "output_type": "display_data"
    }
   ],
   "source": [
    "import seaborn as sns\n",
    "ax1=sns.scatterplot(x='land_cultivated_ha', y='hfias_status', data=land_cultivated_data_srl_1);\n",
    "ax1.set_title(\"land_cultivated vs. hfias_status\")\n",
    "ax.set_xlabel(\"land_cultivated\");\n",
    "sns.lmplot(x='land_cultivated_ha', y='hfias_status', data=land_cultivated_data_srl_1);"
   ]
  },
  {
   "cell_type": "code",
   "execution_count": 117,
   "id": "fe7c299a",
   "metadata": {},
   "outputs": [],
   "source": [
    "import numpy as np\n",
    "X = food_safety_tz['land_cultivated_ha']\n",
    "Y = food_safety_tz['hfias_status']\n",
    "cov_land_cultivated_ha = np.cov(X, Y)\n",
    "corrcoef_land_cultivated_ha=np.corrcoef(X,Y)#land_cultivated_ha"
   ]
  },
  {
   "cell_type": "code",
   "execution_count": 118,
   "id": "6913ff7f",
   "metadata": {},
   "outputs": [
    {
     "name": "stdout",
     "output_type": "stream",
     "text": [
      "[[16.86202156  0.18264209]\n",
      " [ 0.18264209  1.81049334]]\n",
      "[[1.         0.03305579]\n",
      " [0.03305579 1.        ]]\n"
     ]
    }
   ],
   "source": [
    "\n",
    "print(cov_land_cultivated_ha)\n",
    "print(corrcoef_land_cultivated_ha) #plot"
   ]
  },
  {
   "cell_type": "code",
   "execution_count": null,
   "id": "0864481c",
   "metadata": {},
   "outputs": [],
   "source": []
  },
  {
   "cell_type": "code",
   "execution_count": 119,
   "id": "4f105331",
   "metadata": {},
   "outputs": [],
   "source": [
    "#X1 = food_safety_tz['land_cultivated_ha'] #clean\n",
    "#Y1=food_safety_tz['hh_size_members']\n",
    "\n",
    "#plt.scatter(X1,Y1)"
   ]
  },
  {
   "cell_type": "code",
   "execution_count": null,
   "id": "5b754ec6",
   "metadata": {},
   "outputs": [],
   "source": []
  },
  {
   "cell_type": "code",
   "execution_count": 120,
   "id": "9fe526f8",
   "metadata": {},
   "outputs": [],
   "source": [
    "#food_safety_hh=pd.DataFrame(food_safety_tz,columns=[\"hfias_status\",\"hh_size_members\",\"id_proj\"])"
   ]
  },
  {
   "cell_type": "code",
   "execution_count": 121,
   "id": "7d683b0c",
   "metadata": {},
   "outputs": [],
   "source": [
    "#food_safety_hh"
   ]
  },
  {
   "cell_type": "code",
   "execution_count": 122,
   "id": "5b73f7cf",
   "metadata": {},
   "outputs": [],
   "source": [
    "#food_safety_hh.groupby('hfias_status').hh_size_members.plot(kind='kde')  #hh_size_members"
   ]
  },
  {
   "cell_type": "code",
   "execution_count": 123,
   "id": "477049d9",
   "metadata": {},
   "outputs": [],
   "source": [
    "#plt.scatter(X,Y)#remove 800 and 400"
   ]
  },
  {
   "cell_type": "code",
   "execution_count": 124,
   "id": "a6948ca0",
   "metadata": {},
   "outputs": [],
   "source": [
    "#import matplotlib.pyplot as plt\n",
    "#import numpy as np\n",
    "#%matplotlib inline\n",
    "#food_safety_tz.groupby('hfias_status').land_cultivated_ha.plot(kind='kde') #land_cultivated_ha"
   ]
  },
  {
   "cell_type": "code",
   "execution_count": 125,
   "id": "25a8c12e",
   "metadata": {},
   "outputs": [],
   "source": [
    "#import numpy as np\n",
    "#X = food_safety_tz['hh_size_members']\n",
    "#Y = food_safety_tz['hfias_status']\n",
    "#result1 = np.cov(X, Y)\n",
    "#result2=np.corrcoef(X,Y)#land_cultivated_ha"
   ]
  },
  {
   "cell_type": "code",
   "execution_count": 126,
   "id": "b3ab6ac5",
   "metadata": {},
   "outputs": [],
   "source": [
    "#result2"
   ]
  },
  {
   "cell_type": "code",
   "execution_count": 127,
   "id": "345177dd",
   "metadata": {},
   "outputs": [],
   "source": [
    "#food_safety_tz_processed_ha.groupby('hfias_status').land_cultivated_ha.hist()"
   ]
  },
  {
   "cell_type": "code",
   "execution_count": 128,
   "id": "20c96bfc",
   "metadata": {},
   "outputs": [],
   "source": [
    "#import numpy as np\n",
    "#X1 = food_safety_tz['hh_size_members']\n",
    "#Y1 = food_safety_tz['hfias_status']\n",
    "#result1 = np.cov(X1, Y1)\n",
    "#result2=np.corrcoef(X1,Y1) #hh_size_members"
   ]
  },
  {
   "cell_type": "code",
   "execution_count": 129,
   "id": "7ea44156",
   "metadata": {},
   "outputs": [],
   "source": [
    "#X1.mean()"
   ]
  },
  {
   "cell_type": "code",
   "execution_count": 130,
   "id": "1b78b9a9",
   "metadata": {},
   "outputs": [],
   "source": [
    "#import matplotlib.pyplot as plt\n",
    "#import numpy as np\n",
    "#%matplotlib inline\n",
    "#food_safety_tz.groupby('hfias_status').hh_size_members.plot(kind='kde',grid=True)\n",
    "#X1.plot.kde()"
   ]
  },
  {
   "cell_type": "code",
   "execution_count": 131,
   "id": "f1214bbe",
   "metadata": {},
   "outputs": [],
   "source": [
    "#food_safety_tz.groupby('hfias_status').hh_size_members.hist()"
   ]
  }
 ],
 "metadata": {
  "kernelspec": {
   "display_name": "geo_env",
   "language": "python",
   "name": "geo_env"
  },
  "language_info": {
   "codemirror_mode": {
    "name": "ipython",
    "version": 3
   },
   "file_extension": ".py",
   "mimetype": "text/x-python",
   "name": "python",
   "nbconvert_exporter": "python",
   "pygments_lexer": "ipython3",
   "version": "3.10.4"
  }
 },
 "nbformat": 4,
 "nbformat_minor": 5
}
