{
 "cells": [
  {
   "cell_type": "code",
   "execution_count": 51,
   "id": "3ef59641",
   "metadata": {},
   "outputs": [],
   "source": [
    "import pandas as pd\n",
    "import geopandas\n",
    "import fiona\n",
    "from matplotlib import pyplot as plt"
   ]
  },
  {
   "cell_type": "code",
   "execution_count": 52,
   "id": "e7f1a52f",
   "metadata": {},
   "outputs": [
    {
     "name": "stderr",
     "output_type": "stream",
     "text": [
      "C:\\Users\\chenl\\AppData\\Local\\Temp\\ipykernel_17640\\2365895264.py:2: DtypeWarning: Columns (13,17,19,20,21,26,29,41,43,45,47,49,51,53,55,57,59,61,63,65,67,69,71,73,75,77,79,81,83,85,87,89,91,93,95,97,99,101,103,105,107,109,111,113,115,117,119,120,123,125,127,128,129,131,132,133,134,135,136,137,141,142,143,144,145,146,147,150,151,152,153,154,155,157,158,159,160,162,163,164,165,166,167,168,169,170,171,172,173,174,177,179,180,181,182,183,184,185,186,188,189,190,191,192,204,205,208,209,210,211,212,213,214,215,216,219,220,222,230,232,240,242,250,257,258,259,260,261,262,263,264,265,266,269,270,272,273,274,275,276,277,278,279,280,281,282,283,284,285,286,287,288,289,290,291,292,294,295,296,297,298,299,300,301,302,303,304,305,306,307,308,309,310,311,312,313,314,315,316,317,318,319,320,321,322,323,324,325,326,327,328,329,330,331,332,333,334,335,336,337,338,339,340,341,342,343,344,345,346,347,348,349,350,351,352,353,354,355,356,357,358,359,360,361,362,363,364,365,366,367,368,369,370,371,372,373,374,375,376,377,378,379,380,381,382,383,384,385,386,387,388,389,390,391,392,393,394,395,396,397,398,399,400,401,402,403,404,405,406,407,408,409,410,411,412,413,414,415,416,417,418,419,420,421,422,423,424,425,426,427,428,429,430,431,432,433,434,435,436,437,438,439,440,441,445,446,447,448,449,450,451,452,453,454,455,457,459,461,462,473,478,487,492,493,494,495,496,506,508,509,512,531,534,539,540,541,542,543,553,555,556,559,578,581,586,587,588,589,590,600,602,603,625,626,627,628,630,633,634,635,636,637,644,649,650,672,673,674,675,677,680,681,683,684,691,696,697,719,720,721,724,730,731,738,743,744,767,768,771,777,778,785,790,791,814,815,818,824,825,832,837,838,864,866,878,881,882,889,916,922,923,930,936,956,959,964,965,972,976,1035,1036,1037,1049,1052,1053,1060,1083,1087,1091,1093,1094,1101,1107,1127,1130,1135,1136,1143,1146,1147,1149,1169,1183,1186,1187,1188,1189,1205,1206,1208,1220,1223,1224,1231,1235,1254,1255,1260,1262,1264,1297,1300,1305,1306,1313,1316,1317,1319,1339,1373,1374,1375,1376,1377,1378,1390,1393,1394,1424,1425,1430,1432,1466,1467,1470,1507,1543,1545,1547,1548,1557,1559,1590,1593,1630,1664,1665,1666,1667,1673,1674,1675,1676,1682,1683,1685) have mixed types. Specify dtype option on import or set low_memory=False.\n",
      "  processed_data=pd.read_csv(\"processed_data.csv\",encoding=\"latin_1\")\n"
     ]
    }
   ],
   "source": [
    "indicator_data=pd.read_csv(\"indicator_data.csv\",encoding=\"latin_1\")\n",
    "processed_data=pd.read_csv(\"processed_data.csv\",encoding=\"latin_1\")"
   ]
  },
  {
   "cell_type": "code",
   "execution_count": 53,
   "id": "545fe63c",
   "metadata": {},
   "outputs": [],
   "source": [
    "indicator_processed=pd.DataFrame(indicator_data,columns=[\"hfias_status\",\"hh_size_members\",\"land_cultivated_ha\"]) #this is the column that we are going to use\n",
    "processed__data=pd.DataFrame(processed_data,columns=[\"id_country\",\"country\",\"id_proj\"])\n",
    "#select the using data columns in processed_data"
   ]
  },
  {
   "cell_type": "code",
   "execution_count": 54,
   "id": "f832a1a8",
   "metadata": {},
   "outputs": [],
   "source": [
    "food_safety = pd.concat([processed__data,indicator_processed], axis=1)#combine these two data together"
   ]
  },
  {
   "cell_type": "code",
   "execution_count": 55,
   "id": "cea320b2",
   "metadata": {},
   "outputs": [],
   "source": [
    "food_safety_tz=food_safety.loc[food_safety['id_country'] == 'tz']#select the Tanzania from the data"
   ]
  },
  {
   "cell_type": "code",
   "execution_count": 56,
   "id": "9a8aeb9b",
   "metadata": {},
   "outputs": [
    {
     "data": {
      "text/plain": [
       "array(['cfm', 'cra', 'glv', 'srl'], dtype=object)"
      ]
     },
     "execution_count": 56,
     "metadata": {},
     "output_type": "execute_result"
    }
   ],
   "source": [
    "food_safety_tz[\"id_proj\"].unique() #see the projects' kinds "
   ]
  },
  {
   "cell_type": "code",
   "execution_count": 57,
   "id": "a1027021",
   "metadata": {},
   "outputs": [
    {
     "data": {
      "text/html": [
       "<div>\n",
       "<style scoped>\n",
       "    .dataframe tbody tr th:only-of-type {\n",
       "        vertical-align: middle;\n",
       "    }\n",
       "\n",
       "    .dataframe tbody tr th {\n",
       "        vertical-align: top;\n",
       "    }\n",
       "\n",
       "    .dataframe thead th {\n",
       "        text-align: right;\n",
       "    }\n",
       "</style>\n",
       "<table border=\"1\" class=\"dataframe\">\n",
       "  <thead>\n",
       "    <tr style=\"text-align: right;\">\n",
       "      <th></th>\n",
       "      <th>id_country</th>\n",
       "      <th>country</th>\n",
       "      <th>id_proj</th>\n",
       "      <th>hfias_status</th>\n",
       "      <th>hh_size_members</th>\n",
       "      <th>land_cultivated_ha</th>\n",
       "    </tr>\n",
       "  </thead>\n",
       "  <tbody>\n",
       "    <tr>\n",
       "      <th>28766</th>\n",
       "      <td>tz</td>\n",
       "      <td>tanzania</td>\n",
       "      <td>cfm</td>\n",
       "      <td>food_secure</td>\n",
       "      <td>4</td>\n",
       "      <td>0.8</td>\n",
       "    </tr>\n",
       "    <tr>\n",
       "      <th>28767</th>\n",
       "      <td>tz</td>\n",
       "      <td>tanzania</td>\n",
       "      <td>cfm</td>\n",
       "      <td>food_secure</td>\n",
       "      <td>10</td>\n",
       "      <td>0.8</td>\n",
       "    </tr>\n",
       "    <tr>\n",
       "      <th>28768</th>\n",
       "      <td>tz</td>\n",
       "      <td>tanzania</td>\n",
       "      <td>cfm</td>\n",
       "      <td>food_secure</td>\n",
       "      <td>5</td>\n",
       "      <td>0.8</td>\n",
       "    </tr>\n",
       "    <tr>\n",
       "      <th>28769</th>\n",
       "      <td>tz</td>\n",
       "      <td>tanzania</td>\n",
       "      <td>cfm</td>\n",
       "      <td>food_secure</td>\n",
       "      <td>11</td>\n",
       "      <td>1.2</td>\n",
       "    </tr>\n",
       "    <tr>\n",
       "      <th>28770</th>\n",
       "      <td>tz</td>\n",
       "      <td>tanzania</td>\n",
       "      <td>cfm</td>\n",
       "      <td>severely_fi</td>\n",
       "      <td>6</td>\n",
       "      <td>0.8</td>\n",
       "    </tr>\n",
       "    <tr>\n",
       "      <th>...</th>\n",
       "      <td>...</td>\n",
       "      <td>...</td>\n",
       "      <td>...</td>\n",
       "      <td>...</td>\n",
       "      <td>...</td>\n",
       "      <td>...</td>\n",
       "    </tr>\n",
       "    <tr>\n",
       "      <th>31641</th>\n",
       "      <td>tz</td>\n",
       "      <td>tanzania</td>\n",
       "      <td>srl</td>\n",
       "      <td>food_secure</td>\n",
       "      <td>3</td>\n",
       "      <td>2.8</td>\n",
       "    </tr>\n",
       "    <tr>\n",
       "      <th>31642</th>\n",
       "      <td>tz</td>\n",
       "      <td>tanzania</td>\n",
       "      <td>srl</td>\n",
       "      <td>severely_fi</td>\n",
       "      <td>1</td>\n",
       "      <td>3.6</td>\n",
       "    </tr>\n",
       "    <tr>\n",
       "      <th>31643</th>\n",
       "      <td>tz</td>\n",
       "      <td>tanzania</td>\n",
       "      <td>srl</td>\n",
       "      <td>severely_fi</td>\n",
       "      <td>4</td>\n",
       "      <td>4.0</td>\n",
       "    </tr>\n",
       "    <tr>\n",
       "      <th>31644</th>\n",
       "      <td>tz</td>\n",
       "      <td>tanzania</td>\n",
       "      <td>srl</td>\n",
       "      <td>severely_fi</td>\n",
       "      <td>2</td>\n",
       "      <td>2.8</td>\n",
       "    </tr>\n",
       "    <tr>\n",
       "      <th>31645</th>\n",
       "      <td>tz</td>\n",
       "      <td>tanzania</td>\n",
       "      <td>srl</td>\n",
       "      <td>severely_fi</td>\n",
       "      <td>1</td>\n",
       "      <td>2.4</td>\n",
       "    </tr>\n",
       "  </tbody>\n",
       "</table>\n",
       "<p>2880 rows × 6 columns</p>\n",
       "</div>"
      ],
      "text/plain": [
       "      id_country   country id_proj hfias_status  hh_size_members  \\\n",
       "28766         tz  tanzania     cfm  food_secure                4   \n",
       "28767         tz  tanzania     cfm  food_secure               10   \n",
       "28768         tz  tanzania     cfm  food_secure                5   \n",
       "28769         tz  tanzania     cfm  food_secure               11   \n",
       "28770         tz  tanzania     cfm  severely_fi                6   \n",
       "...          ...       ...     ...          ...              ...   \n",
       "31641         tz  tanzania     srl  food_secure                3   \n",
       "31642         tz  tanzania     srl  severely_fi                1   \n",
       "31643         tz  tanzania     srl  severely_fi                4   \n",
       "31644         tz  tanzania     srl  severely_fi                2   \n",
       "31645         tz  tanzania     srl  severely_fi                1   \n",
       "\n",
       "       land_cultivated_ha  \n",
       "28766                 0.8  \n",
       "28767                 0.8  \n",
       "28768                 0.8  \n",
       "28769                 1.2  \n",
       "28770                 0.8  \n",
       "...                   ...  \n",
       "31641                 2.8  \n",
       "31642                 3.6  \n",
       "31643                 4.0  \n",
       "31644                 2.8  \n",
       "31645                 2.4  \n",
       "\n",
       "[2880 rows x 6 columns]"
      ]
     },
     "execution_count": 57,
     "metadata": {},
     "output_type": "execute_result"
    }
   ],
   "source": [
    "food_safety_tz"
   ]
  },
  {
   "cell_type": "code",
   "execution_count": 58,
   "id": "88f6793d",
   "metadata": {},
   "outputs": [],
   "source": [
    "class_mapping = {'food_secure':1, 'mildly_fi':2,'moderately_fi':3,'severely_fi':4} #trun string into number"
   ]
  },
  {
   "cell_type": "code",
   "execution_count": 59,
   "id": "6d6783d4",
   "metadata": {},
   "outputs": [
    {
     "name": "stderr",
     "output_type": "stream",
     "text": [
      "C:\\Users\\chenl\\AppData\\Local\\Temp\\ipykernel_17640\\3958681546.py:1: SettingWithCopyWarning: \n",
      "A value is trying to be set on a copy of a slice from a DataFrame.\n",
      "Try using .loc[row_indexer,col_indexer] = value instead\n",
      "\n",
      "See the caveats in the documentation: https://pandas.pydata.org/pandas-docs/stable/user_guide/indexing.html#returning-a-view-versus-a-copy\n",
      "  food_safety_tz['hfias_status'] = food_safety_tz['hfias_status'].map(class_mapping)\n"
     ]
    }
   ],
   "source": [
    "food_safety_tz['hfias_status'] = food_safety_tz['hfias_status'].map(class_mapping)"
   ]
  },
  {
   "cell_type": "code",
   "execution_count": 60,
   "id": "1ae12a02",
   "metadata": {},
   "outputs": [],
   "source": [
    "food_safety_tz=food_safety_tz.dropna(subset=['land_cultivated_ha'])#drop the nan value in the land_cultivated_ha column"
   ]
  },
  {
   "cell_type": "code",
   "execution_count": 65,
   "id": "fedf56c1",
   "metadata": {},
   "outputs": [],
   "source": [
    "food_safety_tz=food_safety_tz.loc[food_safety_tz['land_cultivated_ha'] >0] #select the value >0"
   ]
  },
  {
   "cell_type": "code",
   "execution_count": 70,
   "id": "e5abdecc",
   "metadata": {},
   "outputs": [],
   "source": [
    "food_safety_tz=food_safety_tz.dropna(subset=['hh_size_members'])#drop the nan value in the hh_size_number column"
   ]
  },
  {
   "cell_type": "code",
   "execution_count": 71,
   "id": "376f985b",
   "metadata": {},
   "outputs": [],
   "source": [
    "food_safety_tz=food_safety_tz.loc[food_safety_tz['hh_size_members'] >0] #select the value >0"
   ]
  },
  {
   "cell_type": "code",
   "execution_count": null,
   "id": "7bd2ec39",
   "metadata": {},
   "outputs": [],
   "source": [
    "land_cultivated_data=food_safety_tz['land_cultivated_ha'] #select column land_cultivated_ha from dataset\n",
    "hfias = food_safety_tz['hfias_status']"
   ]
  },
  {
   "cell_type": "code",
   "execution_count": 76,
   "id": "4385aa32",
   "metadata": {},
   "outputs": [
    {
     "data": {
      "text/plain": [
       "<matplotlib.collections.PathCollection at 0x2aebcb42dd0>"
      ]
     },
     "execution_count": 76,
     "metadata": {},
     "output_type": "execute_result"
    },
    {
     "data": {
      "image/png": "[encoded data removed]",
      "text/plain": [
       "<Figure size 432x288 with 1 Axes>"
      ]
     },
     "metadata": {
      "needs_background": "light"
     },
     "output_type": "display_data"
    }
   ],
   "source": [
    "plt.scatter(land_cultivated_data,hfias) # the relationship before cleaning the data"
   ]
  },
  {
   "cell_type": "markdown",
   "id": "872c8ddb",
   "metadata": {},
   "source": [
    "### As we can see the data points of 400 and 800 is far beyond the graph, which are outliers that need to be deleted."
   ]
  },
  {
   "cell_type": "code",
   "execution_count": 84,
   "id": "deb0ace2",
   "metadata": {},
   "outputs": [],
   "source": [
    "food_safety_tz=food_safety_tz.loc[food_safety_tz['land_cultivated_ha'] <200] #select the value <200"
   ]
  },
  {
   "cell_type": "code",
   "execution_count": 85,
   "id": "eafc1624",
   "metadata": {},
   "outputs": [],
   "source": [
    "land_cultivated_data_processed_1=food_safety_tz['land_cultivated_ha'] #select column land_cultivated_ha from dataset\n",
    "hfias_processed_1 = food_safety_tz['hfias_status']"
   ]
  },
  {
   "cell_type": "code",
   "execution_count": 86,
   "id": "883679f9",
   "metadata": {},
   "outputs": [
    {
     "data": {
      "text/plain": [
       "<matplotlib.collections.PathCollection at 0x2aed3d1e0b0>"
      ]
     },
     "execution_count": 86,
     "metadata": {},
     "output_type": "execute_result"
    },
    {
     "data": {
      "image/png": "[encoded data removed]",
      "text/plain": [
       "<Figure size 432x288 with 1 Axes>"
      ]
     },
     "metadata": {
      "needs_background": "light"
     },
     "output_type": "display_data"
    }
   ],
   "source": [
    "plt.scatter(land_cultivated_data_processed_1,hfias_processed_1) # the relationship after cleaning the data"
   ]
  },
  {
   "cell_type": "markdown",
   "id": "895c6eca",
   "metadata": {},
   "source": [
    "### According to the mean function, the mean is nearly 5, and the data is meanly less than 40."
   ]
  },
  {
   "cell_type": "code",
   "execution_count": 87,
   "id": "e0c1e72b",
   "metadata": {},
   "outputs": [
    {
     "data": {
      "text/plain": [
       "4.907408118081181"
      ]
     },
     "execution_count": 87,
     "metadata": {},
     "output_type": "execute_result"
    }
   ],
   "source": [
    "land_cultivated_data.mean()"
   ]
  },
  {
   "cell_type": "code",
   "execution_count": 88,
   "id": "84e815fe",
   "metadata": {},
   "outputs": [],
   "source": [
    "food_safety_tz=food_safety_tz.loc[food_safety_tz['land_cultivated_ha'] <40] #select the value <40"
   ]
  },
  {
   "cell_type": "code",
   "execution_count": 89,
   "id": "ed72a025",
   "metadata": {},
   "outputs": [],
   "source": [
    "land_cultivated_data_processed=food_safety_tz['land_cultivated_ha'] #select column land_cultivated_ha from dataset\n",
    "hfias_processed = food_safety_tz['hfias_status']"
   ]
  },
  {
   "cell_type": "code",
   "execution_count": 90,
   "id": "baa31b8e",
   "metadata": {},
   "outputs": [
    {
     "data": {
      "text/plain": [
       "<matplotlib.collections.PathCollection at 0x2aebb5eca60>"
      ]
     },
     "execution_count": 90,
     "metadata": {},
     "output_type": "execute_result"
    },
    {
     "data": {
      "image/png": "[encoded data removed]",
      "text/plain": [
       "<Figure size 432x288 with 1 Axes>"
      ]
     },
     "metadata": {
      "needs_background": "light"
     },
     "output_type": "display_data"
    }
   ],
   "source": [
    "plt.scatter(land_cultivated_data_processed,hfias_processed) # the relationship after cleaning the data"
   ]
  },
  {
   "cell_type": "markdown",
   "id": "5a22978a",
   "metadata": {},
   "source": [
    "### Then we use different bins to show the data"
   ]
  },
  {
   "cell_type": "code",
   "execution_count": 97,
   "id": "8abad591",
   "metadata": {},
   "outputs": [],
   "source": [
    "land_cultivated_data=food_safety_tz['land_cultivated_ha'] #select column land_cultivated_ha from dataset\n",
    "hfias = food_safety_tz['hfias_status']\n",
    "food_safety_tz_2=food_safety_tz.loc[food_safety_tz['land_cultivated_ha']<=2] # data preprocessing\n",
    "land_cultivated_data_2=food_safety_tz_2['land_cultivated_ha'] #select column land_cultivated_ha from dataset\n",
    "hfias_2 = food_safety_tz_2['hfias_status']\n",
    "food_safety_tz_4=food_safety_tz.loc[(food_safety_tz['land_cultivated_ha']<=4)&(food_safety_tz['land_cultivated_ha']>2)]# data preprocessing\n",
    "land_cultivated_data_4=food_safety_tz_4['land_cultivated_ha'] #select column land_cultivated_ha from dataset\n",
    "hfias_4 = food_safety_tz_4['hfias_status']\n",
    "food_safety_tz_6=food_safety_tz.loc[(food_safety_tz['land_cultivated_ha']<=6)&(food_safety_tz['land_cultivated_ha']>4)]# data preprocessing\n",
    "land_cultivated_data_6=food_safety_tz_6['land_cultivated_ha'] #select column land_cultivated_ha from dataset\n",
    "hfias_6 = food_safety_tz_6['hfias_status']\n",
    "food_safety_tz_8=food_safety_tz.loc[(food_safety_tz['land_cultivated_ha']<=8)&(food_safety_tz['land_cultivated_ha']>6)]# data preprocessing\n",
    "land_cultivated_data_8=food_safety_tz_8['land_cultivated_ha'] #select column land_cultivated_ha from dataset\n",
    "hfias_8 = food_safety_tz_8['hfias_status']\n",
    "food_safety_tz_10=food_safety_tz.loc[(food_safety_tz['land_cultivated_ha']<=10)&(food_safety_tz['land_cultivated_ha']>8)]# data preprocessing\n",
    "land_cultivated_data_10=food_safety_tz_10['land_cultivated_ha'] #select column land_cultivated_ha from dataset\n",
    "hfias_10 = food_safety_tz_10['hfias_status']\n",
    "food_safety_tz_20=food_safety_tz.loc[(food_safety_tz['land_cultivated_ha']>10)&(food_safety_tz['land_cultivated_ha']<=20)]\n",
    "land_cultivated_data_20=food_safety_tz_20['land_cultivated_ha'] #select column land_cultivated_ha from dataset\n",
    "hfias_20 = food_safety_tz_20['hfias_status']\n",
    "food_safety_tz_40=food_safety_tz.loc[(food_safety_tz['land_cultivated_ha']>20)&(food_safety_tz['land_cultivated_ha']<=40)]\n",
    "land_cultivated_data_40=food_safety_tz_40['land_cultivated_ha'] #select column land_cultivated_ha from dataset\n",
    "hfias_40 = food_safety_tz_40['hfias_status']"
   ]
  },
  {
   "cell_type": "code",
   "execution_count": 91,
   "id": "50148a23",
   "metadata": {},
   "outputs": [
    {
     "data": {
      "text/plain": [
       "<matplotlib.collections.PathCollection at 0x2aebc8d8520>"
      ]
     },
     "execution_count": 91,
     "metadata": {},
     "output_type": "execute_result"
    },
    {
     "data": {
      "image/png": "[encoded data removed]",
      "text/plain": [
       "<Figure size 432x288 with 1 Axes>"
      ]
     },
     "metadata": {
      "needs_background": "light"
     },
     "output_type": "display_data"
    }
   ],
   "source": [
    "plt.scatter(land_cultivated_data_2,hfias_2)"
   ]
  },
  {
   "cell_type": "code",
   "execution_count": 92,
   "id": "b3fd6df0",
   "metadata": {},
   "outputs": [
    {
     "data": {
      "text/plain": [
       "<matplotlib.collections.PathCollection at 0x2aebfa1feb0>"
      ]
     },
     "execution_count": 92,
     "metadata": {},
     "output_type": "execute_result"
    },
    {
     "data": {
      "image/png": "[encoded data removed]",
      "text/plain": [
       "<Figure size 432x288 with 1 Axes>"
      ]
     },
     "metadata": {
      "needs_background": "light"
     },
     "output_type": "display_data"
    }
   ],
   "source": [
    "plt.scatter(land_cultivated_data_4,hfias_4)"
   ]
  },
  {
   "cell_type": "code",
   "execution_count": 93,
   "id": "909254f6",
   "metadata": {},
   "outputs": [
    {
     "data": {
      "text/plain": [
       "<matplotlib.collections.PathCollection at 0x2aebc49b790>"
      ]
     },
     "execution_count": 93,
     "metadata": {},
     "output_type": "execute_result"
    },
    {
     "data": {
      "image/png": "[encoded data removed]",
      "text/plain": [
       "<Figure size 432x288 with 1 Axes>"
      ]
     },
     "metadata": {
      "needs_background": "light"
     },
     "output_type": "display_data"
    }
   ],
   "source": [
    "plt.scatter(land_cultivated_data_6,hfias_6)"
   ]
  },
  {
   "cell_type": "code",
   "execution_count": 94,
   "id": "7d863591",
   "metadata": {},
   "outputs": [
    {
     "data": {
      "text/plain": [
       "<matplotlib.collections.PathCollection at 0x2aed82736d0>"
      ]
     },
     "execution_count": 94,
     "metadata": {},
     "output_type": "execute_result"
    },
    {
     "data": {
      "image/png": "[encoded data removed]",
      "text/plain": [
       "<Figure size 432x288 with 1 Axes>"
      ]
     },
     "metadata": {
      "needs_background": "light"
     },
     "output_type": "display_data"
    }
   ],
   "source": [
    "plt.scatter(land_cultivated_data_8,hfias_8)"
   ]
  },
  {
   "cell_type": "code",
   "execution_count": 95,
   "id": "3a5f0c3c",
   "metadata": {},
   "outputs": [
    {
     "data": {
      "text/plain": [
       "<matplotlib.collections.PathCollection at 0x2aedb5d78b0>"
      ]
     },
     "execution_count": 95,
     "metadata": {},
     "output_type": "execute_result"
    },
    {
     "data": {
      "image/png": "[encoded data removed]",
      "text/plain": [
       "<Figure size 432x288 with 1 Axes>"
      ]
     },
     "metadata": {
      "needs_background": "light"
     },
     "output_type": "display_data"
    }
   ],
   "source": [
    "plt.scatter(land_cultivated_data_10,hfias_10)"
   ]
  },
  {
   "cell_type": "code",
   "execution_count": 98,
   "id": "7e633d5e",
   "metadata": {},
   "outputs": [
    {
     "data": {
      "text/plain": [
       "<matplotlib.collections.PathCollection at 0x2aebb51c5b0>"
      ]
     },
     "execution_count": 98,
     "metadata": {},
     "output_type": "execute_result"
    },
    {
     "data": {
      "image/png": "[encoded data removed]",
      "text/plain": [
       "<Figure size 432x288 with 1 Axes>"
      ]
     },
     "metadata": {
      "needs_background": "light"
     },
     "output_type": "display_data"
    }
   ],
   "source": [
    "plt.scatter(land_cultivated_data_20,hfias_20)"
   ]
  },
  {
   "cell_type": "code",
   "execution_count": 99,
   "id": "ed25f8d6",
   "metadata": {},
   "outputs": [
    {
     "data": {
      "text/plain": [
       "<matplotlib.collections.PathCollection at 0x2aebb55bbe0>"
      ]
     },
     "execution_count": 99,
     "metadata": {},
     "output_type": "execute_result"
    },
    {
     "data": {
      "image/png": "[encoded data removed]",
      "text/plain": [
       "<Figure size 432x288 with 1 Axes>"
      ]
     },
     "metadata": {
      "needs_background": "light"
     },
     "output_type": "display_data"
    }
   ],
   "source": [
    "plt.scatter(land_cultivated_data_40,hfias_40)"
   ]
  },
  {
   "cell_type": "code",
   "execution_count": 106,
   "id": "7763c707",
   "metadata": {},
   "outputs": [],
   "source": [
    "hh_size_members=food_safety_tz['hh_size_members']\n",
    "hfias_hh = food_safety_tz['hfias_status']"
   ]
  },
  {
   "cell_type": "code",
   "execution_count": 107,
   "id": "16402987",
   "metadata": {},
   "outputs": [
    {
     "data": {
      "text/plain": [
       "<matplotlib.collections.PathCollection at 0x2aee3989d20>"
      ]
     },
     "execution_count": 107,
     "metadata": {},
     "output_type": "execute_result"
    },
    {
     "data": {
      "image/png": "[encoded data removed]",
      "text/plain": [
       "<Figure size 432x288 with 1 Axes>"
      ]
     },
     "metadata": {
      "needs_background": "light"
     },
     "output_type": "display_data"
    }
   ],
   "source": [
    "plt.scatter(hh_size_members,hfias_hh)"
   ]
  },
  {
   "cell_type": "code",
   "execution_count": 108,
   "id": "0bbb78e4",
   "metadata": {},
   "outputs": [
    {
     "data": {
      "text/plain": [
       "6.538749532010483"
      ]
     },
     "execution_count": 108,
     "metadata": {},
     "output_type": "execute_result"
    }
   ],
   "source": [
    "hh_size_members.mean()"
   ]
  },
  {
   "cell_type": "markdown",
   "id": "ae5d97f8",
   "metadata": {},
   "source": [
    "### We can see that household size members mainly less than 40"
   ]
  },
  {
   "cell_type": "code",
   "execution_count": 109,
   "id": "483f7ebc",
   "metadata": {},
   "outputs": [],
   "source": [
    "food_safety_tz=food_safety_tz.loc[food_safety_tz['hh_size_members'] <40] #select the value <40"
   ]
  },
  {
   "cell_type": "code",
   "execution_count": 110,
   "id": "3ddfb09f",
   "metadata": {},
   "outputs": [],
   "source": [
    "hh_size_members=food_safety_tz['hh_size_members']\n",
    "hfias_hh = food_safety_tz['hfias_status']"
   ]
  },
  {
   "cell_type": "code",
   "execution_count": 111,
   "id": "bfbf6b39",
   "metadata": {},
   "outputs": [
    {
     "data": {
      "text/plain": [
       "<matplotlib.collections.PathCollection at 0x2aee39dd570>"
      ]
     },
     "execution_count": 111,
     "metadata": {},
     "output_type": "execute_result"
    },
    {
     "data": {
      "image/png": "[encoded data removed]",
      "text/plain": [
       "<Figure size 432x288 with 1 Axes>"
      ]
     },
     "metadata": {
      "needs_background": "light"
     },
     "output_type": "display_data"
    }
   ],
   "source": [
    "plt.scatter(hh_size_members,hfias_hh)"
   ]
  },
  {
   "cell_type": "markdown",
   "id": "320457a6",
   "metadata": {},
   "source": [
    "### We can see that when the data is larger than 40, the points are too few to be used."
   ]
  },
  {
   "cell_type": "code",
   "execution_count": 112,
   "id": "f8e3c26a",
   "metadata": {
    "scrolled": false
   },
   "outputs": [
    {
     "name": "stderr",
     "output_type": "stream",
     "text": [
      "C:\\Users\\chenl\\AppData\\Local\\Temp\\ipykernel_17640\\1846632248.py:1: FutureWarning: Dropping of nuisance columns in DataFrame reductions (with 'numeric_only=None') is deprecated; in a future version this will raise TypeError.  Select only valid columns before calling the reduction.\n",
      "  food_safety_tz.mean()\n"
     ]
    },
    {
     "data": {
      "text/plain": [
       "hfias_status          2.202920\n",
       "hh_size_members       6.538750\n",
       "land_cultivated_ha    3.352106\n",
       "dtype: float64"
      ]
     },
     "execution_count": 112,
     "metadata": {},
     "output_type": "execute_result"
    }
   ],
   "source": [
    "food_safety_tz.mean()"
   ]
  },
  {
   "cell_type": "code",
   "execution_count": 116,
   "id": "6b7cb984",
   "metadata": {},
   "outputs": [],
   "source": [
    "land_cultivated_data_processed=food_safety_tz['land_cultivated_ha'] #select column land_cultivated_ha from dataset"
   ]
  },
  {
   "cell_type": "markdown",
   "id": "f81918e1",
   "metadata": {},
   "source": [
    "### Here are the results after the data cleaning, then we want select the data points in each project."
   ]
  },
  {
   "cell_type": "code",
   "execution_count": 117,
   "id": "66d297c2",
   "metadata": {},
   "outputs": [
    {
     "data": {
      "text/plain": [
       "<matplotlib.collections.PathCollection at 0x2aee3ab9ea0>"
      ]
     },
     "execution_count": 117,
     "metadata": {},
     "output_type": "execute_result"
    },
    {
     "data": {
      "image/png": "[encoded data removed]",
      "text/plain": [
       "<Figure size 432x288 with 1 Axes>"
      ]
     },
     "metadata": {
      "needs_background": "light"
     },
     "output_type": "display_data"
    }
   ],
   "source": [
    "plt.scatter(land_cultivated_data_processed,hh_size_members) # the relationship before cleaning the data"
   ]
  },
  {
   "cell_type": "markdown",
   "id": "eb81bcf1",
   "metadata": {},
   "source": [
    "## Cfm"
   ]
  },
  {
   "cell_type": "code",
   "execution_count": 121,
   "id": "b3c696db",
   "metadata": {},
   "outputs": [],
   "source": [
    "food_safety_tz_cfm=food_safety_tz.loc[food_safety_tz['id_proj'] == 'cfm']#select the CFM from the data"
   ]
  },
  {
   "cell_type": "code",
   "execution_count": 122,
   "id": "92941ae8",
   "metadata": {},
   "outputs": [],
   "source": [
    "land_cultivated_data_cfm=food_safety_tz_cfm['land_cultivated_ha'] #select column land_cultivated_ha from dataset\n",
    "hh_size_members_cfm=food_safety_tz_cfm['hh_size_members']\n",
    "hfias_hh_cfm = food_safety_tz_cfm['hfias_status']"
   ]
  },
  {
   "cell_type": "code",
   "execution_count": 123,
   "id": "ffef9486",
   "metadata": {},
   "outputs": [
    {
     "data": {
      "text/plain": [
       "<matplotlib.collections.PathCollection at 0x2aee3f57e80>"
      ]
     },
     "execution_count": 123,
     "metadata": {},
     "output_type": "execute_result"
    },
    {
     "data": {
      "image/png": "[encoded data removed]",
      "text/plain": [
       "<Figure size 432x288 with 1 Axes>"
      ]
     },
     "metadata": {
      "needs_background": "light"
     },
     "output_type": "display_data"
    }
   ],
   "source": [
    "plt.scatter(land_cultivated_data_cfm,hh_size_members_cfm) "
   ]
  },
  {
   "cell_type": "code",
   "execution_count": 144,
   "id": "ed93eaa8",
   "metadata": {},
   "outputs": [
    {
     "data": {
      "text/plain": [
       "<matplotlib.collections.PathCollection at 0x2aee5327070>"
      ]
     },
     "execution_count": 144,
     "metadata": {},
     "output_type": "execute_result"
    },
    {
     "data": {
      "image/png": "[encoded data removed]",
      "text/plain": [
       "<Figure size 432x288 with 1 Axes>"
      ]
     },
     "metadata": {
      "needs_background": "light"
     },
     "output_type": "display_data"
    }
   ],
   "source": [
    "plt.scatter(land_cultivated_data_cfm,hfias_hh_cfm) "
   ]
  },
  {
   "cell_type": "code",
   "execution_count": 145,
   "id": "77452354",
   "metadata": {},
   "outputs": [
    {
     "data": {
      "text/plain": [
       "<matplotlib.collections.PathCollection at 0x2aee5392fe0>"
      ]
     },
     "execution_count": 145,
     "metadata": {},
     "output_type": "execute_result"
    },
    {
     "data": {
      "image/png": "[encoded data removed]",
      "text/plain": [
       "<Figure size 432x288 with 1 Axes>"
      ]
     },
     "metadata": {
      "needs_background": "light"
     },
     "output_type": "display_data"
    }
   ],
   "source": [
    "plt.scatter(hh_size_members_cfm,hfias_hh_cfm) "
   ]
  },
  {
   "cell_type": "markdown",
   "id": "161579be",
   "metadata": {},
   "source": [
    "## Cra"
   ]
  },
  {
   "cell_type": "code",
   "execution_count": 134,
   "id": "afdd94fb",
   "metadata": {},
   "outputs": [],
   "source": [
    "food_safety_tz_cra=food_safety_tz.loc[food_safety_tz['id_proj'] == 'cra']#select the CRM project from the data"
   ]
  },
  {
   "cell_type": "code",
   "execution_count": 135,
   "id": "ab529f50",
   "metadata": {},
   "outputs": [],
   "source": [
    "land_cultivated_data_cra=food_safety_tz_cra['land_cultivated_ha'] #select column land_cultivated_ha from dataset\n",
    "hh_size_members_cra=food_safety_tz_cra['hh_size_members']\n",
    "hfias_hh_cra = food_safety_tz_cra['hfias_status']"
   ]
  },
  {
   "cell_type": "code",
   "execution_count": 136,
   "id": "a47ea1d8",
   "metadata": {},
   "outputs": [
    {
     "data": {
      "text/plain": [
       "<matplotlib.collections.PathCollection at 0x2aee51cc730>"
      ]
     },
     "execution_count": 136,
     "metadata": {},
     "output_type": "execute_result"
    },
    {
     "data": {
      "image/png": "[encoded data removed]",
      "text/plain": [
       "<Figure size 432x288 with 1 Axes>"
      ]
     },
     "metadata": {
      "needs_background": "light"
     },
     "output_type": "display_data"
    }
   ],
   "source": [
    "plt.scatter(land_cultivated_data_cra,hh_size_members_cra) "
   ]
  },
  {
   "cell_type": "code",
   "execution_count": 146,
   "id": "1d86f2c6",
   "metadata": {},
   "outputs": [
    {
     "data": {
      "text/plain": [
       "<matplotlib.collections.PathCollection at 0x2aee53e6b30>"
      ]
     },
     "execution_count": 146,
     "metadata": {},
     "output_type": "execute_result"
    },
    {
     "data": {
      "image/png": "[encoded data removed]",
      "text/plain": [
       "<Figure size 432x288 with 1 Axes>"
      ]
     },
     "metadata": {
      "needs_background": "light"
     },
     "output_type": "display_data"
    }
   ],
   "source": [
    "plt.scatter(land_cultivated_data_cra,hfias_hh_cra) "
   ]
  },
  {
   "cell_type": "code",
   "execution_count": 147,
   "id": "7a349371",
   "metadata": {},
   "outputs": [
    {
     "data": {
      "text/plain": [
       "<matplotlib.collections.PathCollection at 0x2aee5445a20>"
      ]
     },
     "execution_count": 147,
     "metadata": {},
     "output_type": "execute_result"
    },
    {
     "data": {
      "image/png": "[encoded data removed]",
      "text/plain": [
       "<Figure size 432x288 with 1 Axes>"
      ]
     },
     "metadata": {
      "needs_background": "light"
     },
     "output_type": "display_data"
    }
   ],
   "source": [
    "plt.scatter(hh_size_members_cra,hfias_hh_cra) "
   ]
  },
  {
   "cell_type": "markdown",
   "id": "ccf92aa3",
   "metadata": {},
   "source": [
    "## Glv"
   ]
  },
  {
   "cell_type": "code",
   "execution_count": 137,
   "id": "504dc8ae",
   "metadata": {},
   "outputs": [],
   "source": [
    "food_safety_tz_glv=food_safety_tz.loc[food_safety_tz['id_proj'] == 'glv']#select the GLV project from the data"
   ]
  },
  {
   "cell_type": "code",
   "execution_count": 138,
   "id": "d474df9c",
   "metadata": {},
   "outputs": [],
   "source": [
    "land_cultivated_data_glv=food_safety_tz_glv['land_cultivated_ha'] #select column land_cultivated_ha from dataset\n",
    "hh_size_members_glv=food_safety_tz_glv['hh_size_members']\n",
    "hfias_hh_glv = food_safety_tz_glv['hfias_status']"
   ]
  },
  {
   "cell_type": "code",
   "execution_count": 139,
   "id": "c80b6447",
   "metadata": {
    "scrolled": true
   },
   "outputs": [
    {
     "data": {
      "text/plain": [
       "<matplotlib.collections.PathCollection at 0x2aee5213700>"
      ]
     },
     "execution_count": 139,
     "metadata": {},
     "output_type": "execute_result"
    },
    {
     "data": {
      "image/png": "[encoded data removed]",
      "text/plain": [
       "<Figure size 432x288 with 1 Axes>"
      ]
     },
     "metadata": {
      "needs_background": "light"
     },
     "output_type": "display_data"
    }
   ],
   "source": [
    "plt.scatter(land_cultivated_data_glv,hh_size_members_glv) "
   ]
  },
  {
   "cell_type": "code",
   "execution_count": 148,
   "id": "cc76873b",
   "metadata": {},
   "outputs": [
    {
     "data": {
      "text/plain": [
       "<matplotlib.collections.PathCollection at 0x2aee54a1ae0>"
      ]
     },
     "execution_count": 148,
     "metadata": {},
     "output_type": "execute_result"
    },
    {
     "data": {
      "image/png": "[encoded data removed]",
      "text/plain": [
       "<Figure size 432x288 with 1 Axes>"
      ]
     },
     "metadata": {
      "needs_background": "light"
     },
     "output_type": "display_data"
    }
   ],
   "source": [
    "plt.scatter(land_cultivated_data_glv,hfias_hh_glv) "
   ]
  },
  {
   "cell_type": "code",
   "execution_count": 149,
   "id": "f2dfc3e5",
   "metadata": {},
   "outputs": [
    {
     "data": {
      "text/plain": [
       "<matplotlib.collections.PathCollection at 0x2aee55113c0>"
      ]
     },
     "execution_count": 149,
     "metadata": {},
     "output_type": "execute_result"
    },
    {
     "data": {
      "image/png": "[encoded data removed]",
      "text/plain": [
       "<Figure size 432x288 with 1 Axes>"
      ]
     },
     "metadata": {
      "needs_background": "light"
     },
     "output_type": "display_data"
    }
   ],
   "source": [
    "plt.scatter(hh_size_members_glv,hfias_hh_glv) "
   ]
  },
  {
   "cell_type": "markdown",
   "id": "38d3da2a",
   "metadata": {},
   "source": [
    "## Srl"
   ]
  },
  {
   "cell_type": "code",
   "execution_count": 140,
   "id": "7fddbafe",
   "metadata": {},
   "outputs": [],
   "source": [
    "food_safety_tz_srl=food_safety_tz.loc[food_safety_tz['id_proj'] == 'srl']#select the GLV project from the data"
   ]
  },
  {
   "cell_type": "code",
   "execution_count": 141,
   "id": "5affc2fe",
   "metadata": {},
   "outputs": [],
   "source": [
    "land_cultivated_data_srl=food_safety_tz_srl['land_cultivated_ha'] #select column land_cultivated_ha from dataset\n",
    "hh_size_members_srl=food_safety_tz_srl['hh_size_members']\n",
    "hfias_hh_srl = food_safety_tz_srl['hfias_status']"
   ]
  },
  {
   "cell_type": "code",
   "execution_count": 143,
   "id": "5016d4f5",
   "metadata": {},
   "outputs": [
    {
     "data": {
      "text/plain": [
       "<matplotlib.collections.PathCollection at 0x2aee52ec730>"
      ]
     },
     "execution_count": 143,
     "metadata": {},
     "output_type": "execute_result"
    },
    {
     "data": {
      "image/png": "[encoded data removed]",
      "text/plain": [
       "<Figure size 432x288 with 1 Axes>"
      ]
     },
     "metadata": {
      "needs_background": "light"
     },
     "output_type": "display_data"
    }
   ],
   "source": [
    "plt.scatter(land_cultivated_data_srl,hh_size_members_srl) "
   ]
  },
  {
   "cell_type": "code",
   "execution_count": 150,
   "id": "9203846f",
   "metadata": {},
   "outputs": [
    {
     "data": {
      "text/plain": [
       "<matplotlib.collections.PathCollection at 0x2aee5571b10>"
      ]
     },
     "execution_count": 150,
     "metadata": {},
     "output_type": "execute_result"
    },
    {
     "data": {
      "image/png": "[encoded data removed]",
      "text/plain": [
       "<Figure size 432x288 with 1 Axes>"
      ]
     },
     "metadata": {
      "needs_background": "light"
     },
     "output_type": "display_data"
    }
   ],
   "source": [
    "plt.scatter(land_cultivated_data_srl,hfias_hh_srl) "
   ]
  },
  {
   "cell_type": "code",
   "execution_count": 151,
   "id": "9ad70dc1",
   "metadata": {},
   "outputs": [
    {
     "data": {
      "text/plain": [
       "<matplotlib.collections.PathCollection at 0x2aee55d48b0>"
      ]
     },
     "execution_count": 151,
     "metadata": {},
     "output_type": "execute_result"
    },
    {
     "data": {
      "image/png": "[encoded data removed]",
      "text/plain": [
       "<Figure size 432x288 with 1 Axes>"
      ]
     },
     "metadata": {
      "needs_background": "light"
     },
     "output_type": "display_data"
    }
   ],
   "source": [
    "plt.scatter(hh_size_members_srl,hfias_hh_srl) "
   ]
  },
  {
   "cell_type": "code",
   "execution_count": 113,
   "id": "fe7c299a",
   "metadata": {},
   "outputs": [],
   "source": [
    "import numpy as np\n",
    "X = food_safety_tz['land_cultivated_ha']\n",
    "Y = food_safety_tz['hfias_status']\n",
    "cov_land_cultivated_ha = np.cov(X, Y)\n",
    "corrcoef_land_cultivated_ha=np.corrcoef(X,Y)#land_cultivated_ha"
   ]
  },
  {
   "cell_type": "code",
   "execution_count": 114,
   "id": "6913ff7f",
   "metadata": {},
   "outputs": [
    {
     "name": "stdout",
     "output_type": "stream",
     "text": [
      "[[16.86202156  0.18264209]\n",
      " [ 0.18264209  1.81049334]]\n",
      "[[1.         0.03305579]\n",
      " [0.03305579 1.        ]]\n"
     ]
    }
   ],
   "source": [
    "print(cov_land_cultivated_ha)\n",
    "print(corrcoef_land_cultivated_ha) #plot"
   ]
  },
  {
   "cell_type": "code",
   "execution_count": null,
   "id": "0864481c",
   "metadata": {},
   "outputs": [],
   "source": []
  },
  {
   "cell_type": "code",
   "execution_count": 152,
   "id": "4f105331",
   "metadata": {},
   "outputs": [
    {
     "data": {
      "text/plain": [
       "<matplotlib.collections.PathCollection at 0x2aee5613f70>"
      ]
     },
     "execution_count": 152,
     "metadata": {},
     "output_type": "execute_result"
    },
    {
     "data": {
      "image/png": "[encoded data removed]",
      "text/plain": [
       "<Figure size 432x288 with 1 Axes>"
      ]
     },
     "metadata": {
      "needs_background": "light"
     },
     "output_type": "display_data"
    }
   ],
   "source": [
    "#X1 = food_safety_tz['land_cultivated_ha'] #clean\n",
    "#Y1=food_safety_tz['hh_size_members']\n",
    "\n",
    "#plt.scatter(X1,Y1)"
   ]
  },
  {
   "cell_type": "code",
   "execution_count": null,
   "id": "5b754ec6",
   "metadata": {},
   "outputs": [],
   "source": []
  },
  {
   "cell_type": "code",
   "execution_count": null,
   "id": "9fe526f8",
   "metadata": {},
   "outputs": [],
   "source": [
    "#food_safety_hh=pd.DataFrame(food_safety_tz,columns=[\"hfias_status\",\"hh_size_members\",\"id_proj\"])"
   ]
  },
  {
   "cell_type": "code",
   "execution_count": null,
   "id": "7d683b0c",
   "metadata": {},
   "outputs": [],
   "source": [
    "#food_safety_hh"
   ]
  },
  {
   "cell_type": "code",
   "execution_count": null,
   "id": "5b73f7cf",
   "metadata": {},
   "outputs": [],
   "source": [
    "#food_safety_hh.groupby('hfias_status').hh_size_members.plot(kind='kde')  #hh_size_members"
   ]
  },
  {
   "cell_type": "code",
   "execution_count": null,
   "id": "477049d9",
   "metadata": {},
   "outputs": [],
   "source": [
    "#plt.scatter(X,Y)#remove 800 and 400"
   ]
  },
  {
   "cell_type": "code",
   "execution_count": null,
   "id": "a6948ca0",
   "metadata": {},
   "outputs": [],
   "source": [
    "#import matplotlib.pyplot as plt\n",
    "#import numpy as np\n",
    "#%matplotlib inline\n",
    "#food_safety_tz.groupby('hfias_status').land_cultivated_ha.plot(kind='kde') #land_cultivated_ha"
   ]
  },
  {
   "cell_type": "code",
   "execution_count": null,
   "id": "25a8c12e",
   "metadata": {},
   "outputs": [],
   "source": [
    "#import numpy as np\n",
    "#X = food_safety_tz['hh_size_members']\n",
    "#Y = food_safety_tz['hfias_status']\n",
    "#result1 = np.cov(X, Y)\n",
    "#result2=np.corrcoef(X,Y)#land_cultivated_ha"
   ]
  },
  {
   "cell_type": "code",
   "execution_count": null,
   "id": "b3ab6ac5",
   "metadata": {},
   "outputs": [],
   "source": [
    "#result2"
   ]
  },
  {
   "cell_type": "code",
   "execution_count": null,
   "id": "345177dd",
   "metadata": {},
   "outputs": [],
   "source": [
    "#food_safety_tz_processed_ha.groupby('hfias_status').land_cultivated_ha.hist()"
   ]
  },
  {
   "cell_type": "code",
   "execution_count": null,
   "id": "20c96bfc",
   "metadata": {},
   "outputs": [],
   "source": [
    "#import numpy as np\n",
    "#X1 = food_safety_tz['hh_size_members']\n",
    "#Y1 = food_safety_tz['hfias_status']\n",
    "#result1 = np.cov(X1, Y1)\n",
    "#result2=np.corrcoef(X1,Y1) #hh_size_members"
   ]
  },
  {
   "cell_type": "code",
   "execution_count": null,
   "id": "7ea44156",
   "metadata": {},
   "outputs": [],
   "source": [
    "#X1.mean()"
   ]
  },
  {
   "cell_type": "code",
   "execution_count": null,
   "id": "1b78b9a9",
   "metadata": {},
   "outputs": [],
   "source": [
    "#import matplotlib.pyplot as plt\n",
    "#import numpy as np\n",
    "#%matplotlib inline\n",
    "#food_safety_tz.groupby('hfias_status').hh_size_members.plot(kind='kde',grid=True)\n",
    "#X1.plot.kde()"
   ]
  },
  {
   "cell_type": "code",
   "execution_count": null,
   "id": "f1214bbe",
   "metadata": {},
   "outputs": [],
   "source": [
    "#food_safety_tz.groupby('hfias_status').hh_size_members.hist()"
   ]
  }
 ],
 "metadata": {
  "kernelspec": {
   "display_name": "geo_env",
   "language": "python",
   "name": "geo_env"
  },
  "language_info": {
   "codemirror_mode": {
    "name": "ipython",
    "version": 3
   },
   "file_extension": ".py",
   "mimetype": "text/x-python",
   "name": "python",
   "nbconvert_exporter": "python",
   "pygments_lexer": "ipython3",
   "version": "3.10.4"
  }
 },
 "nbformat": 4,
 "nbformat_minor": 5
}
